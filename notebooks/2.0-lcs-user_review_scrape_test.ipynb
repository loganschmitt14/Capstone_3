{
 "cells": [
  {
   "cell_type": "code",
   "execution_count": 1,
   "id": "b11f5ad5-6751-4ab6-8246-55a9e5153c32",
   "metadata": {},
   "outputs": [],
   "source": [
    "# Selenium imports\n",
    "from selenium import webdriver\n",
    "from selenium.webdriver.common.by import By\n",
    "from selenium.webdriver.chrome.service import Service\n",
    "from selenium.webdriver.common.keys import Keys\n",
    "from selenium.common.exceptions import NoSuchElementException, TimeoutException\n",
    "from selenium.webdriver.support.ui import WebDriverWait\n",
    "from selenium.webdriver.support import expected_conditions as EC\n",
    "from selenium.webdriver.chrome.options import Options\n",
    "from selenium.common.exceptions import WebDriverException\n",
    "import time\n",
    "# Local webdriver functions\n",
    "from src.data.setup_webdriver import initialize_webdriver\n",
    "from src.data.goodreads_login import login\n",
    "# Goodreads User ID scraping functions\n",
    "from src.data.scrape_users import gather_user_ids\n",
    "from src.data.save_user_ids import save_raw_ids\n",
    "from src.data.adjust_shelf import adjust_shelf_settings\n",
    "from src.data.scroll_down import scroll_to_bottom\n",
    "from src.data.read_review_elements import get_review\n",
    "from src.data.scrape_shelf import scrape_user_read_shelf\n",
    "# Other imports\n",
    "from configparser import ConfigParser\n",
    "import polars as pl\n",
    "from pathlib import Path\n",
    "import numpy as np\n",
    "import pickle\n",
    "from src import log\n",
    "import time\n",
    "import os\n",
    "import re"
   ]
  },
  {
   "cell_type": "code",
   "execution_count": 2,
   "id": "919ff353-d601-4a42-bc23-8a93142804dd",
   "metadata": {},
   "outputs": [],
   "source": [
    "user_ids_path = '../data/raw/user_ids.pkl'"
   ]
  },
  {
   "cell_type": "code",
   "execution_count": 3,
   "id": "b0e1294c-cf4f-4598-b490-43b0743deaf5",
   "metadata": {},
   "outputs": [],
   "source": [
    "def load_user_ids(filepath):\n",
    "    with open(filepath, 'rb') as file:\n",
    "        user_ids = pickle.load(file)\n",
    "    return user_ids"
   ]
  },
  {
   "cell_type": "code",
   "execution_count": 4,
   "id": "505c2c8c-d877-4bf7-b14a-6701cf3cddfc",
   "metadata": {},
   "outputs": [
    {
     "name": "stdout",
     "output_type": "stream",
     "text": [
      "There are 316 IDs, the first 5 are ('33674708', '3990914', '51224285', '25683251', '4717304').\n"
     ]
    }
   ],
   "source": [
    "user_ids = load_user_ids(user_ids_path)\n",
    "print(f'There are {len(user_ids)} IDs, the first 5 are {user_ids[0:5]}.')"
   ]
  },
  {
   "cell_type": "code",
   "execution_count": 5,
   "id": "c2b46bc9-f57d-46f5-a4fd-0fca26cbb06d",
   "metadata": {},
   "outputs": [],
   "source": [
    "chrome_tools_path = '../chrome_tools'"
   ]
  },
  {
   "cell_type": "code",
   "execution_count": 6,
   "id": "b12e24c6-cefc-4e1e-9f1b-2708b268c8cd",
   "metadata": {},
   "outputs": [
    {
     "name": "stderr",
     "output_type": "stream",
     "text": [
      "Successfully launched webdriver\n"
     ]
    }
   ],
   "source": [
    "# Configure driver\n",
    "driver = initialize_webdriver(chrome_tools_path)"
   ]
  },
  {
   "cell_type": "code",
   "execution_count": 7,
   "id": "e9b4306e-1fea-4625-ab3e-2f0de57f59df",
   "metadata": {},
   "outputs": [],
   "source": [
    "# Find credentials\n",
    "config = ConfigParser()\n",
    "config.read('../src/data/config.ini')\n",
    "username = config.get('credentials', 'username')\n",
    "password = config.get('credentials', 'password')"
   ]
  },
  {
   "cell_type": "code",
   "execution_count": 8,
   "id": "3022c2cf-1704-4fd6-92c6-9d48c860ac41",
   "metadata": {},
   "outputs": [
    {
     "name": "stderr",
     "output_type": "stream",
     "text": [
      "Opened Goodreads successfully.\n",
      "Reached sign-in options page.\n",
      "Reached sign-in with email page.\n",
      "Login attempted.\n",
      "Login successful.\n"
     ]
    }
   ],
   "source": [
    "authenticated_driver = login(driver, username, password)"
   ]
  },
  {
   "cell_type": "code",
   "execution_count": 9,
   "id": "f4520a4c-67b5-4376-887f-f159efdd66d6",
   "metadata": {},
   "outputs": [
    {
     "name": "stderr",
     "output_type": "stream",
     "text": [
      "Opened shelf settings.\n",
      "Settings adjusted. Closed settings panel.\n",
      "100%|██████████| 5/5 [00:00<00:00, 11.00it/s]\n",
      "Compiled reviews. 00:00\n"
     ]
    }
   ],
   "source": [
    "test = scrape_user_read_shelf(authenticated_driver, '161493250')"
   ]
  },
  {
   "cell_type": "code",
   "execution_count": 10,
   "id": "2f8aad04-ce33-49cd-b908-c14b3aed97df",
   "metadata": {},
   "outputs": [
    {
     "data": {
      "text/html": [
       "<div><style>\n",
       ".dataframe > thead > tr > th,\n",
       ".dataframe > tbody > tr > td {\n",
       "  text-align: right;\n",
       "  white-space: pre-wrap;\n",
       "}\n",
       "</style>\n",
       "<small>shape: (5, 6)</small><table border=\"1\" class=\"dataframe\"><thead><tr><th>title</th><th>author</th><th>avg_rating</th><th>user_rating</th><th>cover_url</th><th>user_id</th></tr><tr><td>str</td><td>str</td><td>f64</td><td>i64</td><td>str</td><td>str</td></tr></thead><tbody><tr><td>&quot;Verity&quot;</td><td>&quot;&quot;</td><td>4.33</td><td>1</td><td>&quot;https://i.gr-a…</td><td>&quot;161493250&quot;</td></tr><tr><td>&quot;Daisy Jones &amp; …</td><td>&quot;&quot;</td><td>4.22</td><td>4</td><td>&quot;https://i.gr-a…</td><td>&quot;161493250&quot;</td></tr><tr><td>&quot;You Are a Bada…</td><td>&quot;&quot;</td><td>3.95</td><td>4</td><td>&quot;https://i.gr-a…</td><td>&quot;161493250&quot;</td></tr><tr><td>&quot;One More Thing…</td><td>&quot;&quot;</td><td>3.67</td><td>2</td><td>&quot;https://i.gr-a…</td><td>&quot;161493250&quot;</td></tr><tr><td>&quot;Bull Mountain …</td><td>&quot;&quot;</td><td>3.98</td><td>0</td><td>&quot;https://i.gr-a…</td><td>&quot;161493250&quot;</td></tr></tbody></table></div>"
      ],
      "text/plain": [
       "shape: (5, 6)\n",
       "┌─────────────────────────┬────────┬────────────┬─────────────┬────────────────────────┬───────────┐\n",
       "│ title                   ┆ author ┆ avg_rating ┆ user_rating ┆ cover_url              ┆ user_id   │\n",
       "│ ---                     ┆ ---    ┆ ---        ┆ ---         ┆ ---                    ┆ ---       │\n",
       "│ str                     ┆ str    ┆ f64        ┆ i64         ┆ str                    ┆ str       │\n",
       "╞═════════════════════════╪════════╪════════════╪═════════════╪════════════════════════╪═══════════╡\n",
       "│ Verity                  ┆        ┆ 4.33       ┆ 1           ┆ https://i.gr-assets.co ┆ 161493250 │\n",
       "│                         ┆        ┆            ┆             ┆ m/images/S…            ┆           │\n",
       "│ Daisy Jones & The Six   ┆        ┆ 4.22       ┆ 4           ┆ https://i.gr-assets.co ┆ 161493250 │\n",
       "│                         ┆        ┆            ┆             ┆ m/images/S…            ┆           │\n",
       "│ You Are a Badass        ┆        ┆ 3.95       ┆ 4           ┆ https://i.gr-assets.co ┆ 161493250 │\n",
       "│                         ┆        ┆            ┆             ┆ m/images/S…            ┆           │\n",
       "│ One More Thing: Stories ┆        ┆ 3.67       ┆ 2           ┆ https://i.gr-assets.co ┆ 161493250 │\n",
       "│ and Othe…               ┆        ┆            ┆             ┆ m/images/S…            ┆           │\n",
       "│ Bull Mountain (Bull     ┆        ┆ 3.98       ┆ 0           ┆ https://i.gr-assets.co ┆ 161493250 │\n",
       "│ Mountain, #1…           ┆        ┆            ┆             ┆ m/images/S…            ┆           │\n",
       "└─────────────────────────┴────────┴────────────┴─────────────┴────────────────────────┴───────────┘"
      ]
     },
     "execution_count": 10,
     "metadata": {},
     "output_type": "execute_result"
    }
   ],
   "source": [
    "test.head()"
   ]
  },
  {
   "cell_type": "code",
   "execution_count": 11,
   "id": "752b633d-581a-434a-81c2-4a7fb57215aa",
   "metadata": {},
   "outputs": [],
   "source": [
    "# Track which users have been scraped\n",
    "scraped_users_file = scraped_users_file = Path('scraped_users.txt')\n",
    "if scraped_users_file.exists():\n",
    "    scraped_users = set(scraped_users_file.read_text().splitlines())\n",
    "else:\n",
    "    scraped_users = set()"
   ]
  },
  {
   "cell_type": "code",
   "execution_count": 12,
   "id": "45521f5c-df69-47ff-9d40-1873094ea6ad",
   "metadata": {},
   "outputs": [],
   "source": [
    "def save_dataframe(df, filepath):\n",
    "    try:\n",
    "        df.write_csv(filepath)\n",
    "    except Exception as e:\n",
    "        log.debug(f'Could not save to {filepath}.')\n",
    "        raise"
   ]
  },
  {
   "cell_type": "code",
   "execution_count": 13,
   "id": "a8600df1-c4e0-4ff1-a99c-e295d90c3615",
   "metadata": {},
   "outputs": [],
   "source": [
    "# save_dataframe(test, '161493250.csv')"
   ]
  }
 ],
 "metadata": {
  "kernelspec": {
   "display_name": "Python 3 (ipykernel)",
   "language": "python",
   "name": "python3"
  },
  "language_info": {
   "codemirror_mode": {
    "name": "ipython",
    "version": 3
   },
   "file_extension": ".py",
   "mimetype": "text/x-python",
   "name": "python",
   "nbconvert_exporter": "python",
   "pygments_lexer": "ipython3",
   "version": "3.9.18"
  }
 },
 "nbformat": 4,
 "nbformat_minor": 5
}
