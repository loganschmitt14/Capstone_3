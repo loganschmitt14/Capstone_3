{
 "cells": [
  {
   "cell_type": "code",
   "execution_count": 1,
   "id": "b11f5ad5-6751-4ab6-8246-55a9e5153c32",
   "metadata": {},
   "outputs": [],
   "source": [
    "# Selenium imports\n",
    "from selenium import webdriver\n",
    "from selenium.webdriver.common.by import By\n",
    "from selenium.webdriver.chrome.service import Service\n",
    "from selenium.webdriver.common.keys import Keys\n",
    "from selenium.common.exceptions import NoSuchElementException, TimeoutException\n",
    "from selenium.webdriver.support.ui import WebDriverWait\n",
    "from selenium.webdriver.support import expected_conditions as EC\n",
    "from selenium.webdriver.chrome.options import Options\n",
    "from selenium.common.exceptions import WebDriverException\n",
    "import time\n",
    "# Local webdriver functions\n",
    "from src.data.setup_webdriver import initialize_webdriver\n",
    "from src.data.goodreads_login import login\n",
    "# Goodreads User ID scraping functions\n",
    "from src.data.scrape_users import gather_user_ids\n",
    "from src.data.save_user_ids import save_raw_ids\n",
    "from src.data.adjust_shelf import adjust_shelf_settings\n",
    "from src.data.scroll_down import scroll_to_bottom\n",
    "from src.data.read_review_elements import get_review\n",
    "from src.data.scrape_shelf import scrape_user_read_shelf\n",
    "# Other imports\n",
    "from configparser import ConfigParser\n",
    "import polars as pl\n",
    "import numpy as np\n",
    "import pickle\n",
    "from src import log\n",
    "import time\n",
    "import os\n",
    "import re"
   ]
  },
  {
   "cell_type": "code",
   "execution_count": 2,
   "id": "919ff353-d601-4a42-bc23-8a93142804dd",
   "metadata": {},
   "outputs": [],
   "source": [
    "user_ids_path = '../data/raw/user_ids.pkl'"
   ]
  },
  {
   "cell_type": "code",
   "execution_count": 3,
   "id": "b0e1294c-cf4f-4598-b490-43b0743deaf5",
   "metadata": {},
   "outputs": [],
   "source": [
    "def load_user_ids(filepath):\n",
    "    with open(filepath, 'rb') as file:\n",
    "        user_ids = pickle.load(file)\n",
    "    return user_ids"
   ]
  },
  {
   "cell_type": "code",
   "execution_count": 4,
   "id": "505c2c8c-d877-4bf7-b14a-6701cf3cddfc",
   "metadata": {},
   "outputs": [
    {
     "name": "stdout",
     "output_type": "stream",
     "text": [
      "There are 316 IDs, the first 5 are ('33674708', '3990914', '51224285', '25683251', '4717304').\n"
     ]
    }
   ],
   "source": [
    "user_ids = load_user_ids(user_ids_path)\n",
    "print(f'There are {len(user_ids)} IDs, the first 5 are {user_ids[0:5]}.')"
   ]
  },
  {
   "cell_type": "code",
   "execution_count": 5,
   "id": "c2b46bc9-f57d-46f5-a4fd-0fca26cbb06d",
   "metadata": {},
   "outputs": [],
   "source": [
    "chrome_tools_path = '../chrome_tools'"
   ]
  },
  {
   "cell_type": "code",
   "execution_count": 6,
   "id": "b12e24c6-cefc-4e1e-9f1b-2708b268c8cd",
   "metadata": {},
   "outputs": [
    {
     "name": "stderr",
     "output_type": "stream",
     "text": [
      "Successfully launched webdriver\n"
     ]
    }
   ],
   "source": [
    "# Configure driver\n",
    "driver = initialize_webdriver(chrome_tools_path)"
   ]
  },
  {
   "cell_type": "code",
   "execution_count": 7,
   "id": "e9b4306e-1fea-4625-ab3e-2f0de57f59df",
   "metadata": {},
   "outputs": [],
   "source": [
    "# Find credentials\n",
    "config = ConfigParser()\n",
    "config.read('../src/data/config.ini')\n",
    "username = config.get('credentials', 'username')\n",
    "password = config.get('credentials', 'password')"
   ]
  },
  {
   "cell_type": "code",
   "execution_count": 8,
   "id": "3022c2cf-1704-4fd6-92c6-9d48c860ac41",
   "metadata": {},
   "outputs": [
    {
     "name": "stderr",
     "output_type": "stream",
     "text": [
      "Opened Goodreads successfully.\n",
      "Reached sign-in options page.\n",
      "Reached sign-in with email page.\n",
      "Login attempted.\n",
      "Login successful.\n"
     ]
    }
   ],
   "source": [
    "authenticated_driver = login(driver, username, password)"
   ]
  },
  {
   "cell_type": "code",
   "execution_count": 9,
   "id": "f4520a4c-67b5-4376-887f-f159efdd66d6",
   "metadata": {},
   "outputs": [
    {
     "name": "stderr",
     "output_type": "stream",
     "text": [
      "Opened shelf settings.\n",
      "Settings adjusted. Closed settings panel.\n",
      "All items loaded.\n"
     ]
    }
   ],
   "source": [
    "test = scrape_user_read_shelf(authenticated_driver, 78924283)"
   ]
  },
  {
   "cell_type": "code",
   "execution_count": 11,
   "id": "2f8aad04-ce33-49cd-b908-c14b3aed97df",
   "metadata": {},
   "outputs": [
    {
     "data": {
      "text/html": [
       "<div><style>\n",
       ".dataframe > thead > tr > th,\n",
       ".dataframe > tbody > tr > td {\n",
       "  text-align: right;\n",
       "  white-space: pre-wrap;\n",
       "}\n",
       "</style>\n",
       "<small>shape: (359, 9)</small><table border=\"1\" class=\"dataframe\"><thead><tr><th>cover_url</th><th>title</th><th>author</th><th>isbn</th><th>isbn13</th><th>asin</th><th>avg_rating</th><th>user_rating</th><th>user_id</th></tr><tr><td>str</td><td>str</td><td>str</td><td>str</td><td>str</td><td>str</td><td>f64</td><td>i64</td><td>i32</td></tr></thead><tbody><tr><td>&quot;https://i.gr-a…</td><td>&quot;The Devil&#x27;s Fl…</td><td>&quot;Yokomizo, Seis…</td><td>&quot;1782278842&quot;</td><td>&quot;9781782278849&quot;</td><td>&quot;B0BYTSXCG6&quot;</td><td>3.91</td><td>3</td><td>78924283</td></tr><tr><td>&quot;https://i.gr-a…</td><td>&quot;Peter and the …</td><td>&quot;Barry, Dave&quot;</td><td>&quot;078684907X&quot;</td><td>&quot;9780786849079&quot;</td><td>&quot;078684907X&quot;</td><td>4.04</td><td>3</td><td>78924283</td></tr><tr><td>&quot;https://i.gr-a…</td><td>&quot;Blood of Elves…</td><td>&quot;Sapkowski, And…</td><td>&quot;031602919X&quot;</td><td>&quot;9780316029193&quot;</td><td>&quot;031602919X&quot;</td><td>4.1</td><td>4</td><td>78924283</td></tr><tr><td>&quot;https://i.gr-a…</td><td>&quot;The Hustler (E…</td><td>&quot;Tevis, Walter&quot;</td><td>&quot;1560254734&quot;</td><td>&quot;9781560254737&quot;</td><td>&quot;1560254734&quot;</td><td>4.12</td><td>4</td><td>78924283</td></tr><tr><td>&quot;https://i.gr-a…</td><td>&quot;The Man Who Fe…</td><td>&quot;Tevis, Walter&quot;</td><td>&quot;0593467477&quot;</td><td>&quot;9780593467473&quot;</td><td>&quot;0593467477&quot;</td><td>4.06</td><td>4</td><td>78924283</td></tr><tr><td>&quot;https://i.gr-a…</td><td>&quot;Cannery Row (C…</td><td>&quot;Steinbeck, Joh…</td><td>&quot;014200068X&quot;</td><td>&quot;9780142000687&quot;</td><td>&quot;014200068X&quot;</td><td>4.05</td><td>5</td><td>78924283</td></tr><tr><td>&quot;https://i.gr-a…</td><td>&quot;Sword of Desti…</td><td>&quot;Sapkowski, And…</td><td>&quot;0316389706&quot;</td><td>&quot;9780316389709&quot;</td><td>&quot;0316389706&quot;</td><td>4.27</td><td>4</td><td>78924283</td></tr><tr><td>&quot;https://i.gr-a…</td><td>&quot;1984&quot;</td><td>&quot;Orwell, George…</td><td>&quot;&quot;</td><td>&quot;&quot;</td><td>&quot;&quot;</td><td>4.19</td><td>0</td><td>78924283</td></tr><tr><td>&quot;https://i.gr-a…</td><td>&quot;The Two Prince…</td><td>&quot;Levine, Gail C…</td><td>&quot;0062253549&quot;</td><td>&quot;9780062253545&quot;</td><td>&quot;&quot;</td><td>4.05</td><td>3</td><td>78924283</td></tr><tr><td>&quot;https://i.gr-a…</td><td>&quot;American Prome…</td><td>&quot;Bird, Kai&quot;</td><td>&quot;&quot;</td><td>&quot;&quot;</td><td>&quot;&quot;</td><td>4.27</td><td>3</td><td>78924283</td></tr><tr><td>&quot;https://i.gr-a…</td><td>&quot;The Guncle&quot;</td><td>&quot;Rowley, Steven…</td><td>&quot;0525542280&quot;</td><td>&quot;9780525542285&quot;</td><td>&quot;0525542280&quot;</td><td>4.15</td><td>4</td><td>78924283</td></tr><tr><td>&quot;https://i.gr-a…</td><td>&quot;The Enigma of …</td><td>&quot;Dicker, Joël&quot;</td><td>&quot;0063098814&quot;</td><td>&quot;9780063098817&quot;</td><td>&quot;0063098814&quot;</td><td>3.89</td><td>2</td><td>78924283</td></tr><tr><td>&hellip;</td><td>&hellip;</td><td>&hellip;</td><td>&hellip;</td><td>&hellip;</td><td>&hellip;</td><td>&hellip;</td><td>&hellip;</td><td>&hellip;</td></tr><tr><td>&quot;https://i.gr-a…</td><td>&quot;Red Rising (Re…</td><td>&quot;Brown, Pierce&quot;</td><td>&quot;0345539788&quot;</td><td>&quot;9780345539786&quot;</td><td>&quot;0345539788&quot;</td><td>4.26</td><td>4</td><td>78924283</td></tr><tr><td>&quot;https://i.gr-a…</td><td>&quot;The Maze Runne…</td><td>&quot;Dashner, James…</td><td>&quot;0385737947&quot;</td><td>&quot;9780385737944&quot;</td><td>&quot;0385737947&quot;</td><td>4.05</td><td>3</td><td>78924283</td></tr><tr><td>&quot;https://i.gr-a…</td><td>&quot;The Martian Ch…</td><td>&quot;Bradbury, Ray&quot;</td><td>&quot;0553278223&quot;</td><td>&quot;9780553278224&quot;</td><td>&quot;B00LNVWRG0&quot;</td><td>4.15</td><td>4</td><td>78924283</td></tr><tr><td>&quot;https://i.gr-a…</td><td>&quot;Fahrenheit 451…</td><td>&quot;Bradbury, Ray&quot;</td><td>&quot;0307347974&quot;</td><td>&quot;9780307347978&quot;</td><td>&quot;0307347974&quot;</td><td>3.97</td><td>3</td><td>78924283</td></tr><tr><td>&quot;https://i.gr-a…</td><td>&quot;Dune (Dune, #1…</td><td>&quot;Herbert, Frank…</td><td>&quot;0340839937&quot;</td><td>&quot;9780340839935&quot;</td><td>&quot;0340839937&quot;</td><td>4.26</td><td>4</td><td>78924283</td></tr><tr><td>&quot;https://i.gr-a…</td><td>&quot;The Psychopath…</td><td>&quot;Ronson, Jon&quot;</td><td>&quot;1594485755&quot;</td><td>&quot;9781594485756&quot;</td><td>&quot;1594485755&quot;</td><td>3.95</td><td>3</td><td>78924283</td></tr><tr><td>&quot;https://i.gr-a…</td><td>&quot;Sapiens: A Bri…</td><td>&quot;Harari, Yuval …</td><td>&quot;&quot;</td><td>&quot;&quot;</td><td>&quot;&quot;</td><td>4.37</td><td>0</td><td>78924283</td></tr><tr><td>&quot;https://i.gr-a…</td><td>&quot;Bossypants&quot;</td><td>&quot;Fey, Tina&quot;</td><td>&quot;&quot;</td><td>&quot;&quot;</td><td>&quot;&quot;</td><td>3.96</td><td>3</td><td>78924283</td></tr><tr><td>&quot;https://i.gr-a…</td><td>&quot;Coraline&quot;</td><td>&quot;Gaiman, Neil&quot;</td><td>&quot;0061139378&quot;</td><td>&quot;9780061139376&quot;</td><td>&quot;0061139378&quot;</td><td>4.11</td><td>4</td><td>78924283</td></tr><tr><td>&quot;https://i.gr-a…</td><td>&quot;Fight Club&quot;</td><td>&quot;Palahniuk, Chu…</td><td>&quot;0393327345&quot;</td><td>&quot;9780393327342&quot;</td><td>&quot;0393327345&quot;</td><td>4.19</td><td>5</td><td>78924283</td></tr><tr><td>&quot;https://i.gr-a…</td><td>&quot;Catch-22&quot;</td><td>&quot;Heller, Joseph…</td><td>&quot;0684833395&quot;</td><td>&quot;9780684833392&quot;</td><td>&quot;0684833395&quot;</td><td>3.99</td><td>4</td><td>78924283</td></tr><tr><td>&quot;https://i.gr-a…</td><td>&quot;Slaughterhouse…</td><td>&quot;Vonnegut Jr., …</td><td>&quot;0385333846&quot;</td><td>&quot;9780385333849&quot;</td><td>&quot;0385333846&quot;</td><td>4.09</td><td>4</td><td>78924283</td></tr></tbody></table></div>"
      ],
      "text/plain": [
       "shape: (359, 9)\n",
       "┌───────────┬───────────┬───────────┬───────────┬───┬───────────┬───────────┬───────────┬──────────┐\n",
       "│ cover_url ┆ title     ┆ author    ┆ isbn      ┆ … ┆ asin      ┆ avg_ratin ┆ user_rati ┆ user_id  │\n",
       "│ ---       ┆ ---       ┆ ---       ┆ ---       ┆   ┆ ---       ┆ g         ┆ ng        ┆ ---      │\n",
       "│ str       ┆ str       ┆ str       ┆ str       ┆   ┆ str       ┆ ---       ┆ ---       ┆ i32      │\n",
       "│           ┆           ┆           ┆           ┆   ┆           ┆ f64       ┆ i64       ┆          │\n",
       "╞═══════════╪═══════════╪═══════════╪═══════════╪═══╪═══════════╪═══════════╪═══════════╪══════════╡\n",
       "│ https://i ┆ The       ┆ Yokomizo, ┆ 178227884 ┆ … ┆ B0BYTSXCG ┆ 3.91      ┆ 3         ┆ 78924283 │\n",
       "│ .gr-asset ┆ Devil's   ┆ Seishi    ┆ 2         ┆   ┆ 6         ┆           ┆           ┆          │\n",
       "│ s.com/ima ┆ Flute     ┆           ┆           ┆   ┆           ┆           ┆           ┆          │\n",
       "│ ges/S…    ┆ Murders   ┆           ┆           ┆   ┆           ┆           ┆           ┆          │\n",
       "│           ┆ (Detec…   ┆           ┆           ┆   ┆           ┆           ┆           ┆          │\n",
       "│ https://i ┆ Peter and ┆ Barry,    ┆ 078684907 ┆ … ┆ 078684907 ┆ 4.04      ┆ 3         ┆ 78924283 │\n",
       "│ .gr-asset ┆ the Starc ┆ Dave      ┆ X         ┆   ┆ X         ┆           ┆           ┆          │\n",
       "│ s.com/ima ┆ atchers   ┆           ┆           ┆   ┆           ┆           ┆           ┆          │\n",
       "│ ges/S…    ┆ (Pete…    ┆           ┆           ┆   ┆           ┆           ┆           ┆          │\n",
       "│ https://i ┆ Blood of  ┆ Sapkowski ┆ 031602919 ┆ … ┆ 031602919 ┆ 4.1       ┆ 4         ┆ 78924283 │\n",
       "│ .gr-asset ┆ Elves     ┆ , Andrzej ┆ X         ┆   ┆ X         ┆           ┆           ┆          │\n",
       "│ s.com/ima ┆ (The      ┆           ┆           ┆   ┆           ┆           ┆           ┆          │\n",
       "│ ges/S…    ┆ Witcher,  ┆           ┆           ┆   ┆           ┆           ┆           ┆          │\n",
       "│           ┆ #1)       ┆           ┆           ┆   ┆           ┆           ┆           ┆          │\n",
       "│ https://i ┆ The       ┆ Tevis,    ┆ 156025473 ┆ … ┆ 156025473 ┆ 4.12      ┆ 4         ┆ 78924283 │\n",
       "│ .gr-asset ┆ Hustler   ┆ Walter    ┆ 4         ┆   ┆ 4         ┆           ┆           ┆          │\n",
       "│ s.com/ima ┆ (Eddie    ┆           ┆           ┆   ┆           ┆           ┆           ┆          │\n",
       "│ ges/S…    ┆ Felson,   ┆           ┆           ┆   ┆           ┆           ┆           ┆          │\n",
       "│           ┆ #1)       ┆           ┆           ┆   ┆           ┆           ┆           ┆          │\n",
       "│ …         ┆ …         ┆ …         ┆ …         ┆ … ┆ …         ┆ …         ┆ …         ┆ …        │\n",
       "│ https://i ┆ Coraline  ┆ Gaiman,   ┆ 006113937 ┆ … ┆ 006113937 ┆ 4.11      ┆ 4         ┆ 78924283 │\n",
       "│ .gr-asset ┆           ┆ Neil      ┆ 8         ┆   ┆ 8         ┆           ┆           ┆          │\n",
       "│ s.com/ima ┆           ┆           ┆           ┆   ┆           ┆           ┆           ┆          │\n",
       "│ ges/S…    ┆           ┆           ┆           ┆   ┆           ┆           ┆           ┆          │\n",
       "│ https://i ┆ Fight     ┆ Palahniuk ┆ 039332734 ┆ … ┆ 039332734 ┆ 4.19      ┆ 5         ┆ 78924283 │\n",
       "│ .gr-asset ┆ Club      ┆ , Chuck   ┆ 5         ┆   ┆ 5         ┆           ┆           ┆          │\n",
       "│ s.com/ima ┆           ┆           ┆           ┆   ┆           ┆           ┆           ┆          │\n",
       "│ ges/S…    ┆           ┆           ┆           ┆   ┆           ┆           ┆           ┆          │\n",
       "│ https://i ┆ Catch-22  ┆ Heller,   ┆ 068483339 ┆ … ┆ 068483339 ┆ 3.99      ┆ 4         ┆ 78924283 │\n",
       "│ .gr-asset ┆           ┆ Joseph    ┆ 5         ┆   ┆ 5         ┆           ┆           ┆          │\n",
       "│ s.com/ima ┆           ┆           ┆           ┆   ┆           ┆           ┆           ┆          │\n",
       "│ ges/S…    ┆           ┆           ┆           ┆   ┆           ┆           ┆           ┆          │\n",
       "│ https://i ┆ Slaughter ┆ Vonnegut  ┆ 038533384 ┆ … ┆ 038533384 ┆ 4.09      ┆ 4         ┆ 78924283 │\n",
       "│ .gr-asset ┆ house-Fiv ┆ Jr., Kurt ┆ 6         ┆   ┆ 6         ┆           ┆           ┆          │\n",
       "│ s.com/ima ┆ e         ┆           ┆           ┆   ┆           ┆           ┆           ┆          │\n",
       "│ ges/S…    ┆           ┆           ┆           ┆   ┆           ┆           ┆           ┆          │\n",
       "└───────────┴───────────┴───────────┴───────────┴───┴───────────┴───────────┴───────────┴──────────┘"
      ]
     },
     "execution_count": 11,
     "metadata": {},
     "output_type": "execute_result"
    }
   ],
   "source": [
    "test.head(-10)"
   ]
  }
 ],
 "metadata": {
  "kernelspec": {
   "display_name": "Python 3 (ipykernel)",
   "language": "python",
   "name": "python3"
  },
  "language_info": {
   "codemirror_mode": {
    "name": "ipython",
    "version": 3
   },
   "file_extension": ".py",
   "mimetype": "text/x-python",
   "name": "python",
   "nbconvert_exporter": "python",
   "pygments_lexer": "ipython3",
   "version": "3.9.18"
  }
 },
 "nbformat": 4,
 "nbformat_minor": 5
}
