{
 "cells": [
  {
   "cell_type": "markdown",
   "id": "fa36a023-dc1e-4176-b985-472df2503ae4",
   "metadata": {},
   "source": [
    "# Feature Engineering and Pre-Processing #\n",
    "\n",
    "The main feature engineering step for this type of model is to eliminate users with few reviews (there shouldn't be many of these). I considered dropping books with few reviews, but the vast majority of the books in the dataset only have 1 review. This could be the difference between a good recommendation and a bad one. I'll also add a standardized review column just in case it helps the model perform better when I get to that step."
   ]
  },
  {
   "cell_type": "code",
   "execution_count": 1,
   "id": "aeb95cef-05f1-483e-8241-c7f815581fdc",
   "metadata": {},
   "outputs": [],
   "source": [
    "import pandas as pd\n",
    "import sqlite3\n",
    "import numpy as np\n",
    "import os\n",
    "from pathlib import Path\n",
    "import seaborn as sns\n",
    "import matplotlib.pyplot as plt"
   ]
  },
  {
   "cell_type": "code",
   "execution_count": 28,
   "id": "6ae76d8a-bba1-428e-a8f0-473fe289b4ba",
   "metadata": {},
   "outputs": [],
   "source": [
    "database_path = os.path.abspath(\n",
    "            os.path.join(\n",
    "                os.pardir,\n",
    "                'data',\n",
    "                'processed',\n",
    "                'books.db'\n",
    "                )\n",
    "            )\n",
    "\n",
    "conn = sqlite3.connect(database_path)"
   ]
  },
  {
   "cell_type": "code",
   "execution_count": 29,
   "id": "a54d2ab0-a743-47b9-b02e-3fbfe5cf571d",
   "metadata": {},
   "outputs": [],
   "source": [
    "query = 'SELECT user_id, book_id, user_rating FROM Ratings'\n",
    "raw_ratings_df = pd.read_sql_query(query, conn)"
   ]
  },
  {
   "cell_type": "markdown",
   "id": "2c3b2753-1c68-47cf-93fa-7a9090f479a0",
   "metadata": {},
   "source": [
    "### Standardizing Ratings ###\n",
    "Certain users are way harsher and others way more generous with their ratings. Z-score standardization may help the models account for this phenomenon."
   ]
  },
  {
   "cell_type": "code",
   "execution_count": 30,
   "id": "939f9efc-9c60-4f5b-9086-5aaf919fe536",
   "metadata": {},
   "outputs": [],
   "source": [
    "def standardize_ratings(x):\n",
    "    return (x - x.mean()) / x.std()"
   ]
  },
  {
   "cell_type": "code",
   "execution_count": 35,
   "id": "c306d8ad-2c91-4cab-bb79-738c49e6bd75",
   "metadata": {},
   "outputs": [],
   "source": [
    "zstd_ratings_df = raw_ratings_df.copy()\n",
    "zstd_ratings_df['standardized_rating'] = zstd_ratings_df.groupby('user_id')['user_rating'].transform(standardize_ratings)"
   ]
  },
  {
   "cell_type": "code",
   "execution_count": 36,
   "id": "6d7d1dd0-991e-47bf-80db-bc52f9bbeb56",
   "metadata": {},
   "outputs": [
    {
     "data": {
      "text/html": [
       "<div>\n",
       "<style scoped>\n",
       "    .dataframe tbody tr th:only-of-type {\n",
       "        vertical-align: middle;\n",
       "    }\n",
       "\n",
       "    .dataframe tbody tr th {\n",
       "        vertical-align: top;\n",
       "    }\n",
       "\n",
       "    .dataframe thead th {\n",
       "        text-align: right;\n",
       "    }\n",
       "</style>\n",
       "<table border=\"1\" class=\"dataframe\">\n",
       "  <thead>\n",
       "    <tr style=\"text-align: right;\">\n",
       "      <th></th>\n",
       "      <th>user_id</th>\n",
       "      <th>book_id</th>\n",
       "      <th>user_rating</th>\n",
       "      <th>standardized_rating</th>\n",
       "    </tr>\n",
       "  </thead>\n",
       "  <tbody>\n",
       "    <tr>\n",
       "      <th>0</th>\n",
       "      <td>1</td>\n",
       "      <td>1</td>\n",
       "      <td>5</td>\n",
       "      <td>0.699862</td>\n",
       "    </tr>\n",
       "    <tr>\n",
       "      <th>3513</th>\n",
       "      <td>1</td>\n",
       "      <td>76</td>\n",
       "      <td>5</td>\n",
       "      <td>0.699862</td>\n",
       "    </tr>\n",
       "    <tr>\n",
       "      <th>3512</th>\n",
       "      <td>1</td>\n",
       "      <td>75</td>\n",
       "      <td>5</td>\n",
       "      <td>0.699862</td>\n",
       "    </tr>\n",
       "    <tr>\n",
       "      <th>3493</th>\n",
       "      <td>1</td>\n",
       "      <td>74</td>\n",
       "      <td>4</td>\n",
       "      <td>-0.258853</td>\n",
       "    </tr>\n",
       "    <tr>\n",
       "      <th>3443</th>\n",
       "      <td>1</td>\n",
       "      <td>73</td>\n",
       "      <td>3</td>\n",
       "      <td>-1.217568</td>\n",
       "    </tr>\n",
       "    <tr>\n",
       "      <th>...</th>\n",
       "      <td>...</td>\n",
       "      <td>...</td>\n",
       "      <td>...</td>\n",
       "      <td>...</td>\n",
       "    </tr>\n",
       "    <tr>\n",
       "      <th>20869</th>\n",
       "      <td>154524237</td>\n",
       "      <td>3283</td>\n",
       "      <td>1</td>\n",
       "      <td>0.333333</td>\n",
       "    </tr>\n",
       "    <tr>\n",
       "      <th>20868</th>\n",
       "      <td>154524237</td>\n",
       "      <td>3282</td>\n",
       "      <td>0</td>\n",
       "      <td>-0.416667</td>\n",
       "    </tr>\n",
       "    <tr>\n",
       "      <th>20867</th>\n",
       "      <td>154524237</td>\n",
       "      <td>3281</td>\n",
       "      <td>0</td>\n",
       "      <td>-0.416667</td>\n",
       "    </tr>\n",
       "    <tr>\n",
       "      <th>20872</th>\n",
       "      <td>154524237</td>\n",
       "      <td>3286</td>\n",
       "      <td>0</td>\n",
       "      <td>-0.416667</td>\n",
       "    </tr>\n",
       "    <tr>\n",
       "      <th>20866</th>\n",
       "      <td>154524237</td>\n",
       "      <td>3280</td>\n",
       "      <td>4</td>\n",
       "      <td>2.583333</td>\n",
       "    </tr>\n",
       "  </tbody>\n",
       "</table>\n",
       "<p>29530 rows × 4 columns</p>\n",
       "</div>"
      ],
      "text/plain": [
       "         user_id  book_id  user_rating  standardized_rating\n",
       "0              1        1            5             0.699862\n",
       "3513           1       76            5             0.699862\n",
       "3512           1       75            5             0.699862\n",
       "3493           1       74            4            -0.258853\n",
       "3443           1       73            3            -1.217568\n",
       "...          ...      ...          ...                  ...\n",
       "20869  154524237     3283            1             0.333333\n",
       "20868  154524237     3282            0            -0.416667\n",
       "20867  154524237     3281            0            -0.416667\n",
       "20872  154524237     3286            0            -0.416667\n",
       "20866  154524237     3280            4             2.583333\n",
       "\n",
       "[29530 rows x 4 columns]"
      ]
     },
     "execution_count": 36,
     "metadata": {},
     "output_type": "execute_result"
    }
   ],
   "source": [
    "zstd_ratings_df.sort_values(by = 'user_id')"
   ]
  },
  {
   "cell_type": "code",
   "execution_count": 37,
   "id": "8ba8b09a-ca05-434a-b936-f2648693ea59",
   "metadata": {},
   "outputs": [],
   "source": [
    "conn.close()"
   ]
  },
  {
   "cell_type": "markdown",
   "id": "976251cf-8d18-4b8e-8d6e-5f7c501ca249",
   "metadata": {},
   "source": [
    "### Dropping Users ###\n",
    "I scraped the top 300 most popular users' shelves. That said, some users only have a few reviews in the dataset. I can eliminate them to shrink my matrix a little bit."
   ]
  },
  {
   "cell_type": "code",
   "execution_count": 62,
   "id": "3e038ccb-02bf-4674-bfeb-52b7e27c4385",
   "metadata": {},
   "outputs": [
    {
     "data": {
      "text/plain": [
       "user_id\n",
       "1            100\n",
       "32726092     100\n",
       "22888935     100\n",
       "2026178      100\n",
       "18384692     100\n",
       "            ... \n",
       "4642710      100\n",
       "3098682       99\n",
       "91822086      12\n",
       "597461        10\n",
       "154524237      9\n",
       "Name: count, Length: 298, dtype: int64"
      ]
     },
     "execution_count": 62,
     "metadata": {},
     "output_type": "execute_result"
    }
   ],
   "source": [
    "zstd_ratings_df['user_id'].value_counts()"
   ]
  },
  {
   "cell_type": "markdown",
   "id": "99f3d8d7-abd2-4cd5-a2c7-cf8dc17a0c6f",
   "metadata": {},
   "source": [
    "I can eliminate the users with fewer than 99 reviews, which is only 3 users and leaves me with 295."
   ]
  },
  {
   "cell_type": "code",
   "execution_count": 70,
   "id": "4ee8f06a-1459-4b21-aa74-aa44fae93e18",
   "metadata": {},
   "outputs": [
    {
     "data": {
      "text/plain": [
       "user_id\n",
       "1           100\n",
       "6678151     100\n",
       "22888935    100\n",
       "2026178     100\n",
       "18384692    100\n",
       "           ... \n",
       "4866450     100\n",
       "4851964     100\n",
       "4642710     100\n",
       "60147675    100\n",
       "3098682      99\n",
       "Name: count, Length: 295, dtype: int64"
      ]
     },
     "execution_count": 70,
     "metadata": {},
     "output_type": "execute_result"
    }
   ],
   "source": [
    "min_ratings = 99\n",
    "filter_users = zstd_ratings_df['user_id'].value_counts() >= min_ratings\n",
    "filter_users = filter_users[filter_users].index.to_list()\n",
    "\n",
    "filtered_zstd_ratings_df = zstd_ratings_df[zstd_ratings_df['user_id'].isin(filter_users)]\n",
    "filtered_zstd_ratings_df['user_id'].value_counts()"
   ]
  }
 ],
 "metadata": {
  "kernelspec": {
   "display_name": "Python 3 (ipykernel)",
   "language": "python",
   "name": "python3"
  },
  "language_info": {
   "codemirror_mode": {
    "name": "ipython",
    "version": 3
   },
   "file_extension": ".py",
   "mimetype": "text/x-python",
   "name": "python",
   "nbconvert_exporter": "python",
   "pygments_lexer": "ipython3",
   "version": "3.9.18"
  }
 },
 "nbformat": 4,
 "nbformat_minor": 5
}
