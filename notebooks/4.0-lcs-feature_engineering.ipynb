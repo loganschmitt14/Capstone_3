{
 "cells": [
  {
   "cell_type": "markdown",
   "id": "fa36a023-dc1e-4176-b985-472df2503ae4",
   "metadata": {},
   "source": [
    "# Feature Engineering and Pre-Processing #\n",
    "\n",
    "The main feature engineering step for this type of model is to eliminate users with few reviews (there shouldn't be many of these). I considered dropping books with few reviews, but the vast majority of the books in the dataset only have 1 review. This could be the difference between a good recommendation and a bad one. I'll also add a standardized review column just in case it helps the model perform better when I get to that step."
   ]
  },
  {
   "cell_type": "code",
   "execution_count": 1,
   "id": "aeb95cef-05f1-483e-8241-c7f815581fdc",
   "metadata": {},
   "outputs": [],
   "source": [
    "import pandas as pd\n",
    "import sqlite3\n",
    "import numpy as np\n",
    "import os\n",
    "from pathlib import Path\n",
    "import seaborn as sns\n",
    "import matplotlib.pyplot as plt"
   ]
  },
  {
   "cell_type": "code",
   "execution_count": 28,
   "id": "6ae76d8a-bba1-428e-a8f0-473fe289b4ba",
   "metadata": {},
   "outputs": [],
   "source": [
    "database_path = os.path.abspath(\n",
    "            os.path.join(\n",
    "                os.pardir,\n",
    "                'data',\n",
    "                'processed',\n",
    "                'books.db'\n",
    "                )\n",
    "            )\n",
    "\n",
    "conn = sqlite3.connect(database_path)"
   ]
  },
  {
   "cell_type": "code",
   "execution_count": 29,
   "id": "a54d2ab0-a743-47b9-b02e-3fbfe5cf571d",
   "metadata": {},
   "outputs": [],
   "source": [
    "query = 'SELECT user_id, book_id, user_rating FROM Ratings'\n",
    "raw_ratings_df = pd.read_sql_query(query, conn)"
   ]
  },
  {
   "cell_type": "code",
   "execution_count": 37,
   "id": "8ba8b09a-ca05-434a-b936-f2648693ea59",
   "metadata": {},
   "outputs": [],
   "source": [
    "conn.close()"
   ]
  },
  {
   "cell_type": "markdown",
   "id": "976251cf-8d18-4b8e-8d6e-5f7c501ca249",
   "metadata": {},
   "source": [
    "### Dropping Users ###\n",
    "I scraped the top 300 most popular users' shelves. That said, some users only have a few reviews in the dataset. I can eliminate them to shrink my matrix a little bit."
   ]
  },
  {
   "cell_type": "code",
   "execution_count": 71,
   "id": "3e038ccb-02bf-4674-bfeb-52b7e27c4385",
   "metadata": {},
   "outputs": [
    {
     "data": {
      "text/plain": [
       "user_id\n",
       "1            100\n",
       "32726092     100\n",
       "22888935     100\n",
       "2026178      100\n",
       "18384692     100\n",
       "            ... \n",
       "4642710      100\n",
       "3098682       99\n",
       "91822086      12\n",
       "597461        10\n",
       "154524237      9\n",
       "Name: count, Length: 298, dtype: int64"
      ]
     },
     "execution_count": 71,
     "metadata": {},
     "output_type": "execute_result"
    }
   ],
   "source": [
    "ratings_df['user_id'].value_counts()"
   ]
  },
  {
   "cell_type": "markdown",
   "id": "99f3d8d7-abd2-4cd5-a2c7-cf8dc17a0c6f",
   "metadata": {},
   "source": [
    "I can eliminate the users with fewer than 99 reviews, which is only 3 users and leaves me with 295."
   ]
  },
  {
   "cell_type": "code",
   "execution_count": 72,
   "id": "4ee8f06a-1459-4b21-aa74-aa44fae93e18",
   "metadata": {},
   "outputs": [
    {
     "data": {
      "text/plain": [
       "user_id\n",
       "1           100\n",
       "6678151     100\n",
       "22888935    100\n",
       "2026178     100\n",
       "18384692    100\n",
       "           ... \n",
       "4866450     100\n",
       "4851964     100\n",
       "4642710     100\n",
       "60147675    100\n",
       "3098682      99\n",
       "Name: count, Length: 295, dtype: int64"
      ]
     },
     "execution_count": 72,
     "metadata": {},
     "output_type": "execute_result"
    }
   ],
   "source": [
    "min_ratings = 99\n",
    "filter_users = ratings_df['user_id'].value_counts() >= min_ratings\n",
    "filter_users = filter_users[filter_users].index.to_list()\n",
    "\n",
    "filtered_ratings_df = ratings_df[zstd_ratings_df['user_id'].isin(filter_users)]\n",
    "filtered_ratings_df['user_id'].value_counts()"
   ]
  },
  {
   "cell_type": "code",
   "execution_count": null,
   "id": "7e69a82e-f092-498a-bf7b-f754b9920097",
   "metadata": {},
   "outputs": [],
   "source": []
  }
 ],
 "metadata": {
  "kernelspec": {
   "display_name": "Python 3 (ipykernel)",
   "language": "python",
   "name": "python3"
  },
  "language_info": {
   "codemirror_mode": {
    "name": "ipython",
    "version": 3
   },
   "file_extension": ".py",
   "mimetype": "text/x-python",
   "name": "python",
   "nbconvert_exporter": "python",
   "pygments_lexer": "ipython3",
   "version": "3.9.18"
  }
 },
 "nbformat": 4,
 "nbformat_minor": 5
}
