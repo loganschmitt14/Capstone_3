{
 "cells": [
  {
   "cell_type": "markdown",
   "id": "8ed52303-202d-42bb-9697-f5676f83a248",
   "metadata": {},
   "source": [
    "# EDA #\n",
    "The script has gathered 100 reviews per user for almost 300 users. Time to make sure all the data is present"
   ]
  },
  {
   "cell_type": "code",
   "execution_count": 22,
   "id": "762b1574-7809-4150-9af2-e9a3f3e744ca",
   "metadata": {},
   "outputs": [],
   "source": [
    "import pandas as pd"
   ]
  },
  {
   "cell_type": "code",
   "execution_count": 31,
   "id": "1a3f9bf7-1393-4d00-af9f-4d561582c37d",
   "metadata": {},
   "outputs": [],
   "source": [
    "# File path to the consolidated data\n",
    "path = '../data/interim/consolidated_data.csv'"
   ]
  },
  {
   "cell_type": "code",
   "execution_count": 23,
   "id": "47a23768-70cf-464e-860c-25afea604990",
   "metadata": {},
   "outputs": [
    {
     "data": {
      "text/html": [
       "<div>\n",
       "<style scoped>\n",
       "    .dataframe tbody tr th:only-of-type {\n",
       "        vertical-align: middle;\n",
       "    }\n",
       "\n",
       "    .dataframe tbody tr th {\n",
       "        vertical-align: top;\n",
       "    }\n",
       "\n",
       "    .dataframe thead th {\n",
       "        text-align: right;\n",
       "    }\n",
       "</style>\n",
       "<table border=\"1\" class=\"dataframe\">\n",
       "  <thead>\n",
       "    <tr style=\"text-align: right;\">\n",
       "      <th></th>\n",
       "      <th>title</th>\n",
       "      <th>author</th>\n",
       "      <th>avg_rating</th>\n",
       "      <th>user_rating</th>\n",
       "      <th>cover_url</th>\n",
       "      <th>user_id</th>\n",
       "    </tr>\n",
       "  </thead>\n",
       "  <tbody>\n",
       "    <tr>\n",
       "      <th>0</th>\n",
       "      <td>Harry Potter and the Sorcerer's Stone (Harry P...</td>\n",
       "      <td>NaN</td>\n",
       "      <td>4.47</td>\n",
       "      <td>5</td>\n",
       "      <td>https://i.gr-assets.com/images/S/compressed.ph...</td>\n",
       "      <td>1</td>\n",
       "    </tr>\n",
       "    <tr>\n",
       "      <th>1</th>\n",
       "      <td>The Hunger Games (The Hunger Games, #1)</td>\n",
       "      <td>NaN</td>\n",
       "      <td>4.33</td>\n",
       "      <td>5</td>\n",
       "      <td>https://i.gr-assets.com/images/S/compressed.ph...</td>\n",
       "      <td>1</td>\n",
       "    </tr>\n",
       "    <tr>\n",
       "      <th>2</th>\n",
       "      <td>To Kill a Mockingbird</td>\n",
       "      <td>NaN</td>\n",
       "      <td>4.26</td>\n",
       "      <td>5</td>\n",
       "      <td>https://i.gr-assets.com/images/S/compressed.ph...</td>\n",
       "      <td>1</td>\n",
       "    </tr>\n",
       "    <tr>\n",
       "      <th>3</th>\n",
       "      <td>The Great Gatsby</td>\n",
       "      <td>NaN</td>\n",
       "      <td>3.93</td>\n",
       "      <td>4</td>\n",
       "      <td>https://i.gr-assets.com/images/S/compressed.ph...</td>\n",
       "      <td>1</td>\n",
       "    </tr>\n",
       "    <tr>\n",
       "      <th>4</th>\n",
       "      <td>1984</td>\n",
       "      <td>NaN</td>\n",
       "      <td>4.19</td>\n",
       "      <td>5</td>\n",
       "      <td>https://i.gr-assets.com/images/S/compressed.ph...</td>\n",
       "      <td>1</td>\n",
       "    </tr>\n",
       "  </tbody>\n",
       "</table>\n",
       "</div>"
      ],
      "text/plain": [
       "                                               title  author  avg_rating  \\\n",
       "0  Harry Potter and the Sorcerer's Stone (Harry P...     NaN        4.47   \n",
       "1            The Hunger Games (The Hunger Games, #1)     NaN        4.33   \n",
       "2                              To Kill a Mockingbird     NaN        4.26   \n",
       "3                                   The Great Gatsby     NaN        3.93   \n",
       "4                                               1984     NaN        4.19   \n",
       "\n",
       "   user_rating                                          cover_url  user_id  \n",
       "0            5  https://i.gr-assets.com/images/S/compressed.ph...        1  \n",
       "1            5  https://i.gr-assets.com/images/S/compressed.ph...        1  \n",
       "2            5  https://i.gr-assets.com/images/S/compressed.ph...        1  \n",
       "3            4  https://i.gr-assets.com/images/S/compressed.ph...        1  \n",
       "4            5  https://i.gr-assets.com/images/S/compressed.ph...        1  "
      ]
     },
     "execution_count": 23,
     "metadata": {},
     "output_type": "execute_result"
    }
   ],
   "source": [
    "df = pd.read_csv(path)\n",
    "df.head()"
   ]
  },
  {
   "cell_type": "code",
   "execution_count": 24,
   "id": "fc5a956c-a83d-45a9-9be4-ba92edc5ecac",
   "metadata": {},
   "outputs": [
    {
     "data": {
      "text/plain": [
       "(29530, 6)"
      ]
     },
     "execution_count": 24,
     "metadata": {},
     "output_type": "execute_result"
    }
   ],
   "source": [
    "df.shape"
   ]
  },
  {
   "cell_type": "code",
   "execution_count": 26,
   "id": "afb480bf-c1c5-4762-8952-4d620d26ce4f",
   "metadata": {},
   "outputs": [
    {
     "data": {
      "text/plain": [
       "6334"
      ]
     },
     "execution_count": 26,
     "metadata": {},
     "output_type": "execute_result"
    }
   ],
   "source": [
    "df['title'].nunique()"
   ]
  },
  {
   "cell_type": "code",
   "execution_count": 34,
   "id": "7e5a790e-8a3d-4a8e-ae05-8d7d7c23b615",
   "metadata": {},
   "outputs": [
    {
     "data": {
      "text/plain": [
       "9872"
      ]
     },
     "execution_count": 34,
     "metadata": {},
     "output_type": "execute_result"
    }
   ],
   "source": [
    "df['cover_url'].nunique()"
   ]
  },
  {
   "cell_type": "code",
   "execution_count": 28,
   "id": "f71fc5c7-5e44-4d54-a3ab-f5227fe9544c",
   "metadata": {},
   "outputs": [
    {
     "data": {
      "text/plain": [
       "title              0\n",
       "author         29530\n",
       "avg_rating         0\n",
       "user_rating        0\n",
       "cover_url          0\n",
       "user_id            0\n",
       "dtype: int64"
      ]
     },
     "execution_count": 28,
     "metadata": {},
     "output_type": "execute_result"
    }
   ],
   "source": [
    "df.isna().sum()"
   ]
  },
  {
   "cell_type": "markdown",
   "id": "12117fec-ddf3-46a5-928a-e36fe970900b",
   "metadata": {},
   "source": [
    "### First Impressions ###\n",
    "There are 29,530 reviews here, but only 6,334 unique books. This isn't a huge surprise, since I sorted each user's \"read\" shelf by most-reviewed and scraped the top 100. I'm actually glad to see this much variety. This should mean that I have legitimate recommendation power but that I don't recommend very obscure or unpopular books. There are more unique cover URLs due to different editions existing for many of the books.\n",
    "\n",
    "The script also failed to gather the \"author\" column for some reason. This information would be nice to have but ultimately isn't worth the time to re-run the script. If this project were going into production, I'd gather far more than title, author, and rating anyways. I'll drop the author column for now."
   ]
  },
  {
   "cell_type": "code",
   "execution_count": 33,
   "id": "8a6b970b-2419-445b-9085-9838af4c11cc",
   "metadata": {},
   "outputs": [
    {
     "data": {
      "text/html": [
       "<div>\n",
       "<style scoped>\n",
       "    .dataframe tbody tr th:only-of-type {\n",
       "        vertical-align: middle;\n",
       "    }\n",
       "\n",
       "    .dataframe tbody tr th {\n",
       "        vertical-align: top;\n",
       "    }\n",
       "\n",
       "    .dataframe thead th {\n",
       "        text-align: right;\n",
       "    }\n",
       "</style>\n",
       "<table border=\"1\" class=\"dataframe\">\n",
       "  <thead>\n",
       "    <tr style=\"text-align: right;\">\n",
       "      <th></th>\n",
       "      <th>title</th>\n",
       "      <th>avg_rating</th>\n",
       "      <th>user_rating</th>\n",
       "      <th>cover_url</th>\n",
       "      <th>user_id</th>\n",
       "    </tr>\n",
       "  </thead>\n",
       "  <tbody>\n",
       "    <tr>\n",
       "      <th>0</th>\n",
       "      <td>Harry Potter and the Sorcerer's Stone (Harry P...</td>\n",
       "      <td>4.47</td>\n",
       "      <td>5</td>\n",
       "      <td>https://i.gr-assets.com/images/S/compressed.ph...</td>\n",
       "      <td>1</td>\n",
       "    </tr>\n",
       "    <tr>\n",
       "      <th>1</th>\n",
       "      <td>The Hunger Games (The Hunger Games, #1)</td>\n",
       "      <td>4.33</td>\n",
       "      <td>5</td>\n",
       "      <td>https://i.gr-assets.com/images/S/compressed.ph...</td>\n",
       "      <td>1</td>\n",
       "    </tr>\n",
       "    <tr>\n",
       "      <th>2</th>\n",
       "      <td>To Kill a Mockingbird</td>\n",
       "      <td>4.26</td>\n",
       "      <td>5</td>\n",
       "      <td>https://i.gr-assets.com/images/S/compressed.ph...</td>\n",
       "      <td>1</td>\n",
       "    </tr>\n",
       "    <tr>\n",
       "      <th>3</th>\n",
       "      <td>The Great Gatsby</td>\n",
       "      <td>3.93</td>\n",
       "      <td>4</td>\n",
       "      <td>https://i.gr-assets.com/images/S/compressed.ph...</td>\n",
       "      <td>1</td>\n",
       "    </tr>\n",
       "    <tr>\n",
       "      <th>4</th>\n",
       "      <td>1984</td>\n",
       "      <td>4.19</td>\n",
       "      <td>5</td>\n",
       "      <td>https://i.gr-assets.com/images/S/compressed.ph...</td>\n",
       "      <td>1</td>\n",
       "    </tr>\n",
       "  </tbody>\n",
       "</table>\n",
       "</div>"
      ],
      "text/plain": [
       "                                               title  avg_rating  user_rating  \\\n",
       "0  Harry Potter and the Sorcerer's Stone (Harry P...        4.47            5   \n",
       "1            The Hunger Games (The Hunger Games, #1)        4.33            5   \n",
       "2                              To Kill a Mockingbird        4.26            5   \n",
       "3                                   The Great Gatsby        3.93            4   \n",
       "4                                               1984        4.19            5   \n",
       "\n",
       "                                           cover_url  user_id  \n",
       "0  https://i.gr-assets.com/images/S/compressed.ph...        1  \n",
       "1  https://i.gr-assets.com/images/S/compressed.ph...        1  \n",
       "2  https://i.gr-assets.com/images/S/compressed.ph...        1  \n",
       "3  https://i.gr-assets.com/images/S/compressed.ph...        1  \n",
       "4  https://i.gr-assets.com/images/S/compressed.ph...        1  "
      ]
     },
     "execution_count": 33,
     "metadata": {},
     "output_type": "execute_result"
    }
   ],
   "source": [
    "try:\n",
    "    df = df.drop('author', axis = 1)\n",
    "except:\n",
    "    pass\n",
    "df.head()"
   ]
  }
 ],
 "metadata": {
  "kernelspec": {
   "display_name": "Python 3 (ipykernel)",
   "language": "python",
   "name": "python3"
  },
  "language_info": {
   "codemirror_mode": {
    "name": "ipython",
    "version": 3
   },
   "file_extension": ".py",
   "mimetype": "text/x-python",
   "name": "python",
   "nbconvert_exporter": "python",
   "pygments_lexer": "ipython3",
   "version": "3.9.18"
  }
 },
 "nbformat": 4,
 "nbformat_minor": 5
}
