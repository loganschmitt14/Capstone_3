{
 "cells": [
  {
   "cell_type": "markdown",
   "id": "8ed52303-202d-42bb-9697-f5676f83a248",
   "metadata": {},
   "source": [
    "# Data Cleaning and EDA #\n",
    "The script has gathered up to 100 reviews per user for almost 300 users. Time to make sure all the data is present"
   ]
  },
  {
   "cell_type": "code",
   "execution_count": 1,
   "id": "762b1574-7809-4150-9af2-e9a3f3e744ca",
   "metadata": {},
   "outputs": [],
   "source": [
    "import pandas as pd\n",
    "import sqlite3\n",
    "import numpy as np\n",
    "import os\n",
    "from pathlib import Path\n",
    "import seaborn as sns\n",
    "import matplotlib.pyplot as plt"
   ]
  },
  {
   "cell_type": "code",
   "execution_count": 2,
   "id": "1a3f9bf7-1393-4d00-af9f-4d561582c37d",
   "metadata": {},
   "outputs": [],
   "source": [
    "# File path to the consolidated data\n",
    "path = '../data/interim/consolidated_data.csv'"
   ]
  },
  {
   "cell_type": "code",
   "execution_count": 3,
   "id": "47a23768-70cf-464e-860c-25afea604990",
   "metadata": {},
   "outputs": [
    {
     "data": {
      "text/html": [
       "<div>\n",
       "<style scoped>\n",
       "    .dataframe tbody tr th:only-of-type {\n",
       "        vertical-align: middle;\n",
       "    }\n",
       "\n",
       "    .dataframe tbody tr th {\n",
       "        vertical-align: top;\n",
       "    }\n",
       "\n",
       "    .dataframe thead th {\n",
       "        text-align: right;\n",
       "    }\n",
       "</style>\n",
       "<table border=\"1\" class=\"dataframe\">\n",
       "  <thead>\n",
       "    <tr style=\"text-align: right;\">\n",
       "      <th></th>\n",
       "      <th>title</th>\n",
       "      <th>author</th>\n",
       "      <th>avg_rating</th>\n",
       "      <th>user_rating</th>\n",
       "      <th>cover_url</th>\n",
       "      <th>user_id</th>\n",
       "    </tr>\n",
       "  </thead>\n",
       "  <tbody>\n",
       "    <tr>\n",
       "      <th>0</th>\n",
       "      <td>Remarkable Women of California</td>\n",
       "      <td>DeYoung, Marilyn Brant Chandler</td>\n",
       "      <td>4.75</td>\n",
       "      <td>5</td>\n",
       "      <td>https://i.gr-assets.com/images/S/compressed.ph...</td>\n",
       "      <td>1</td>\n",
       "    </tr>\n",
       "    <tr>\n",
       "      <th>1</th>\n",
       "      <td>Harry Potter Series Box Set (Harry Potter, #1-7)</td>\n",
       "      <td>Rowling, J.K.</td>\n",
       "      <td>4.74</td>\n",
       "      <td>5</td>\n",
       "      <td>https://i.gr-assets.com/images/S/compressed.ph...</td>\n",
       "      <td>1</td>\n",
       "    </tr>\n",
       "    <tr>\n",
       "      <th>2</th>\n",
       "      <td>Conartist: Paul Conrad 30 Years with The Los A...</td>\n",
       "      <td>Corwin, Norman</td>\n",
       "      <td>4.71</td>\n",
       "      <td>5</td>\n",
       "      <td>https://i.gr-assets.com/images/S/compressed.ph...</td>\n",
       "      <td>1</td>\n",
       "    </tr>\n",
       "    <tr>\n",
       "      <th>3</th>\n",
       "      <td>The Indispensable Calvin and Hobbes</td>\n",
       "      <td>Watterson, Bill</td>\n",
       "      <td>4.70</td>\n",
       "      <td>5</td>\n",
       "      <td>https://i.gr-assets.com/images/S/compressed.ph...</td>\n",
       "      <td>1</td>\n",
       "    </tr>\n",
       "    <tr>\n",
       "      <th>4</th>\n",
       "      <td>The Authoritative Calvin and Hobbes: A Calvin ...</td>\n",
       "      <td>Watterson, Bill</td>\n",
       "      <td>4.70</td>\n",
       "      <td>5</td>\n",
       "      <td>https://i.gr-assets.com/images/S/compressed.ph...</td>\n",
       "      <td>1</td>\n",
       "    </tr>\n",
       "  </tbody>\n",
       "</table>\n",
       "</div>"
      ],
      "text/plain": [
       "                                               title  \\\n",
       "0                     Remarkable Women of California   \n",
       "1   Harry Potter Series Box Set (Harry Potter, #1-7)   \n",
       "2  Conartist: Paul Conrad 30 Years with The Los A...   \n",
       "3                The Indispensable Calvin and Hobbes   \n",
       "4  The Authoritative Calvin and Hobbes: A Calvin ...   \n",
       "\n",
       "                            author  avg_rating  user_rating  \\\n",
       "0  DeYoung, Marilyn Brant Chandler        4.75            5   \n",
       "1                    Rowling, J.K.        4.74            5   \n",
       "2                   Corwin, Norman        4.71            5   \n",
       "3                  Watterson, Bill        4.70            5   \n",
       "4                  Watterson, Bill        4.70            5   \n",
       "\n",
       "                                           cover_url  user_id  \n",
       "0  https://i.gr-assets.com/images/S/compressed.ph...        1  \n",
       "1  https://i.gr-assets.com/images/S/compressed.ph...        1  \n",
       "2  https://i.gr-assets.com/images/S/compressed.ph...        1  \n",
       "3  https://i.gr-assets.com/images/S/compressed.ph...        1  \n",
       "4  https://i.gr-assets.com/images/S/compressed.ph...        1  "
      ]
     },
     "execution_count": 3,
     "metadata": {},
     "output_type": "execute_result"
    }
   ],
   "source": [
    "df = pd.read_csv(path)\n",
    "df.head()"
   ]
  },
  {
   "cell_type": "code",
   "execution_count": 4,
   "id": "fc5a956c-a83d-45a9-9be4-ba92edc5ecac",
   "metadata": {},
   "outputs": [
    {
     "data": {
      "text/plain": [
       "(29032, 6)"
      ]
     },
     "execution_count": 4,
     "metadata": {},
     "output_type": "execute_result"
    }
   ],
   "source": [
    "df.shape"
   ]
  },
  {
   "cell_type": "code",
   "execution_count": 5,
   "id": "afb480bf-c1c5-4762-8952-4d620d26ce4f",
   "metadata": {},
   "outputs": [
    {
     "data": {
      "text/plain": [
       "20581"
      ]
     },
     "execution_count": 5,
     "metadata": {},
     "output_type": "execute_result"
    }
   ],
   "source": [
    "df['title'].nunique()"
   ]
  },
  {
   "cell_type": "code",
   "execution_count": 6,
   "id": "7e5a790e-8a3d-4a8e-ae05-8d7d7c23b615",
   "metadata": {},
   "outputs": [
    {
     "data": {
      "text/plain": [
       "21321"
      ]
     },
     "execution_count": 6,
     "metadata": {},
     "output_type": "execute_result"
    }
   ],
   "source": [
    "df['cover_url'].nunique()"
   ]
  },
  {
   "cell_type": "code",
   "execution_count": 7,
   "id": "f71fc5c7-5e44-4d54-a3ab-f5227fe9544c",
   "metadata": {},
   "outputs": [
    {
     "data": {
      "text/plain": [
       "title          0\n",
       "author         0\n",
       "avg_rating     0\n",
       "user_rating    0\n",
       "cover_url      0\n",
       "user_id        0\n",
       "dtype: int64"
      ]
     },
     "execution_count": 7,
     "metadata": {},
     "output_type": "execute_result"
    }
   ],
   "source": [
    "df.isna().sum()"
   ]
  },
  {
   "cell_type": "code",
   "execution_count": 8,
   "id": "b3a182e2-eaf6-413d-9da8-70d978f5c69a",
   "metadata": {},
   "outputs": [
    {
     "data": {
      "text/plain": [
       "dtype('int64')"
      ]
     },
     "execution_count": 8,
     "metadata": {},
     "output_type": "execute_result"
    }
   ],
   "source": [
    "df.user_id.unique().dtype"
   ]
  },
  {
   "cell_type": "code",
   "execution_count": 9,
   "id": "a4dddd30-2973-4be7-9c62-e0340e9197f9",
   "metadata": {},
   "outputs": [
    {
     "name": "stdout",
     "output_type": "stream",
     "text": [
      "Empty DataFrame\n",
      "Columns: [title, author, avg_rating, user_rating, cover_url, user_id]\n",
      "Index: []\n"
     ]
    }
   ],
   "source": [
    "non_integers = df[pd.to_numeric(df['user_id'], errors='coerce').isna()]\n",
    "print(non_integers)"
   ]
  },
  {
   "cell_type": "markdown",
   "id": "12117fec-ddf3-46a5-928a-e36fe970900b",
   "metadata": {},
   "source": [
    "### First Impressions ###\n",
    "There are 29,032 reviews here, and 20,581  unique books. I'm glad to see this much variety.Hopefully I don't end up recommending too many obscure books. There are more unique cover URLs due to different editions existing for many of the books."
   ]
  },
  {
   "cell_type": "markdown",
   "id": "d0c13c56-2a01-4b3d-8246-f877d89e8bb1",
   "metadata": {},
   "source": [
    "# SQL Database Exploration #\n",
    "Now I want to check out the relational database I made from the data"
   ]
  },
  {
   "cell_type": "code",
   "execution_count": 11,
   "id": "b5132d60-ebc0-49d3-bf94-5ff373cb812f",
   "metadata": {},
   "outputs": [],
   "source": [
    "database_path = os.path.abspath(\n",
    "            os.path.join(\n",
    "                os.pardir,\n",
    "                'data',\n",
    "                'processed',\n",
    "                'books.db'\n",
    "                )\n",
    "            )\n",
    "\n",
    "conn = sqlite3.connect(database_path)"
   ]
  },
  {
   "cell_type": "code",
   "execution_count": 12,
   "id": "c4a3a1cb-f545-41bd-9ec5-88ee5080262f",
   "metadata": {},
   "outputs": [
    {
     "name": "stdout",
     "output_type": "stream",
     "text": [
      "(1, 1, 5, 4.75)\n",
      "(1, 2, 5, 4.74)\n",
      "(10553671, 2, 4, 4.74)\n",
      "(111921, 2, 5, 4.74)\n",
      "(2294090, 2, 5, 4.74)\n",
      "(2431437, 2, 5, 4.74)\n",
      "(25184600, 2, 3, 4.74)\n",
      "(2612079, 2, 4, 4.74)\n",
      "(28798380, 2, 0, 4.74)\n",
      "(3078602, 2, 5, 4.74)\n"
     ]
    }
   ],
   "source": [
    "cur = conn.cursor()\n",
    "cur.execute('SELECT * FROM Ratings LIMIT 10')\n",
    "results = cur.fetchall()\n",
    "\n",
    "for row in results:\n",
    "    print(row)"
   ]
  },
  {
   "cell_type": "code",
   "execution_count": 13,
   "id": "6c2017bb-4a46-4887-bf87-f6d75c5c04c7",
   "metadata": {},
   "outputs": [
    {
     "name": "stdout",
     "output_type": "stream",
     "text": [
      "(1, 'Remarkable Women of California', 'DeYoung, Marilyn Brant Chandler', 'https://i.gr-assets.com/images/S/compressed.photo.goodreads.com/books/1453769226l/28699343._SX50_.jpg')\n",
      "(2, 'Harry Potter Series Box Set (Harry Potter, #1-7)', 'Rowling, J.K.', 'https://i.gr-assets.com/images/S/compressed.photo.goodreads.com/books/1534298934l/862041._SX50_.jpg')\n",
      "(3, 'Conartist: Paul Conrad 30 Years with The Los Angeles Times', 'Corwin, Norman', 'https://i.gr-assets.com/images/S/compressed.photo.goodreads.com/books/1349036388l/411703._SX50_.jpg')\n",
      "(4, 'The Indispensable Calvin and Hobbes', 'Watterson, Bill', 'https://i.gr-assets.com/images/S/compressed.photo.goodreads.com/books/1347311516l/24815._SX50_.jpg')\n",
      "(5, 'The Authoritative Calvin and Hobbes: A Calvin and Hobbes Treasury', 'Watterson, Bill', 'https://i.gr-assets.com/images/S/compressed.photo.goodreads.com/books/1391114055l/59715._SY75_.jpg')\n",
      "(6, 'Homicidal Psycho Jungle Cat (Calvin and Hobbes, #9)', 'Watterson, Bill', 'https://i.gr-assets.com/images/S/compressed.photo.goodreads.com/books/1448818381l/24816._SX50_.jpg')\n",
      "(7, 'The Days Are Just Packed (Calvin and Hobbes, #8)', 'Watterson, Bill', 'https://i.gr-assets.com/images/S/compressed.photo.goodreads.com/books/1418211162l/24818._SX50_.jpg')\n",
      "(8, 'Fourth Wing (The Empyrean, #1)', 'Yarros, Rebecca', 'https://i.gr-assets.com/images/S/compressed.photo.goodreads.com/books/1667572773l/63219094._SY75_.jpg')\n",
      "(9, 'Harry Potter and the Deathly Hallows (Harry Potter, #7)', 'Rowling, J.K.', 'https://i.gr-assets.com/images/S/compressed.photo.goodreads.com/books/1663805647l/136251._SY75_.jpg')\n",
      "(10, 'J.R.R. Tolkien 4-Book Boxed Set: The Hobbit and The Lord of the Rings', 'Tolkien, J.R.R.', 'https://i.gr-assets.com/images/S/compressed.photo.goodreads.com/books/1656625315l/30._SX50_.jpg')\n"
     ]
    }
   ],
   "source": [
    "cur = conn.cursor()\n",
    "cur.execute('SELECT * FROM Books LIMIT 10')\n",
    "results = cur.fetchall()\n",
    "\n",
    "for row in results:\n",
    "    print(row)"
   ]
  },
  {
   "cell_type": "code",
   "execution_count": 14,
   "id": "434ae33d-af6d-496d-85db-25f2cc3decc2",
   "metadata": {},
   "outputs": [
    {
     "name": "stdout",
     "output_type": "stream",
     "text": [
      "(21892,)\n"
     ]
    }
   ],
   "source": [
    "cur.execute('SELECT COUNT(*) FROM Books')\n",
    "book_count = cur.fetchone()\n",
    "print(book_count)"
   ]
  },
  {
   "cell_type": "code",
   "execution_count": 15,
   "id": "577476d6-48bd-4818-ac07-367fc2735dad",
   "metadata": {},
   "outputs": [
    {
     "name": "stdout",
     "output_type": "stream",
     "text": [
      "(293,)\n"
     ]
    }
   ],
   "source": [
    "cur.execute('SELECT COUNT(*) FROM Users')\n",
    "user_count = cur.fetchone()\n",
    "print(user_count)"
   ]
  },
  {
   "cell_type": "code",
   "execution_count": 16,
   "id": "5fe7f725-9d17-4ade-a8ee-5025cb7d286b",
   "metadata": {},
   "outputs": [
    {
     "name": "stdout",
     "output_type": "stream",
     "text": [
      "(0, 'user_id', 'INTEGER', 0, None, 0)\n",
      "(1, 'book_id', 'INTEGER', 0, None, 0)\n",
      "(2, 'user_rating', 'INTEGER', 0, None, 0)\n",
      "(3, 'avg_rating', 'REAL', 0, None, 0)\n"
     ]
    }
   ],
   "source": [
    "for row in conn.execute('PRAGMA table_info(Ratings)'):\n",
    "    print(row)"
   ]
  },
  {
   "cell_type": "markdown",
   "id": "581b10c2-962b-4d5e-98c6-58efe648764f",
   "metadata": {},
   "source": [
    "### Database Assessment ###\n",
    "The database is correctly built with all books, users, and ratings accounted for! There are 21,892 unique combinations of book title and cover URL. While I'd like to go through and merge all unique editions into a single entry, I don't expect it would be worth the effort for the purposes of this project."
   ]
  },
  {
   "cell_type": "markdown",
   "id": "1c6c45a9-939b-4e1a-a828-30b3d0cb050b",
   "metadata": {},
   "source": [
    "## EDA ##\n",
    "Now I want to take a look at the distributions of books and ratings."
   ]
  },
  {
   "cell_type": "markdown",
   "id": "cd400eea-5438-4023-9c7e-7ed626058fb3",
   "metadata": {},
   "source": [
    "### Most Popular Books ###"
   ]
  },
  {
   "cell_type": "code",
   "execution_count": 17,
   "id": "acb05068-d004-43db-a8b3-f11b060f0d21",
   "metadata": {},
   "outputs": [],
   "source": [
    "query = '''\n",
    "SELECT b.title, AVG(r.avg_rating) as avg_rating, COUNT(r.user_rating) as votes\n",
    "FROM Books b\n",
    "JOIN Ratings r ON b.book_id = r.book_id\n",
    "GROUP BY b.title\n",
    "'''\n",
    "books_avg_ratings_df = pd.read_sql_query(query, conn)"
   ]
  },
  {
   "cell_type": "code",
   "execution_count": 18,
   "id": "a336b9e4-44e4-49a3-9ed7-5bc9799f2c30",
   "metadata": {},
   "outputs": [
    {
     "data": {
      "text/html": [
       "<div>\n",
       "<style scoped>\n",
       "    .dataframe tbody tr th:only-of-type {\n",
       "        vertical-align: middle;\n",
       "    }\n",
       "\n",
       "    .dataframe tbody tr th {\n",
       "        vertical-align: top;\n",
       "    }\n",
       "\n",
       "    .dataframe thead th {\n",
       "        text-align: right;\n",
       "    }\n",
       "</style>\n",
       "<table border=\"1\" class=\"dataframe\">\n",
       "  <thead>\n",
       "    <tr style=\"text-align: right;\">\n",
       "      <th></th>\n",
       "      <th>title</th>\n",
       "      <th>avg_rating</th>\n",
       "      <th>votes</th>\n",
       "    </tr>\n",
       "  </thead>\n",
       "  <tbody>\n",
       "    <tr>\n",
       "      <th>6716</th>\n",
       "      <td>Harry Potter and the Deathly Hallows (Harry Po...</td>\n",
       "      <td>4.62</td>\n",
       "      <td>119</td>\n",
       "    </tr>\n",
       "    <tr>\n",
       "      <th>6728</th>\n",
       "      <td>Harry Potter and the Prisoner of Azkaban (Harr...</td>\n",
       "      <td>4.58</td>\n",
       "      <td>115</td>\n",
       "    </tr>\n",
       "    <tr>\n",
       "      <th>6718</th>\n",
       "      <td>Harry Potter and the Goblet of Fire (Harry Pot...</td>\n",
       "      <td>4.56</td>\n",
       "      <td>108</td>\n",
       "    </tr>\n",
       "    <tr>\n",
       "      <th>6719</th>\n",
       "      <td>Harry Potter and the Half-Blood Prince (Harry ...</td>\n",
       "      <td>4.58</td>\n",
       "      <td>82</td>\n",
       "    </tr>\n",
       "    <tr>\n",
       "      <th>6731</th>\n",
       "      <td>Harry Potter and the Sorcerer's Stone (Harry P...</td>\n",
       "      <td>4.47</td>\n",
       "      <td>79</td>\n",
       "    </tr>\n",
       "    <tr>\n",
       "      <th>6722</th>\n",
       "      <td>Harry Potter and the Order of the Phoenix (Har...</td>\n",
       "      <td>4.50</td>\n",
       "      <td>75</td>\n",
       "    </tr>\n",
       "    <tr>\n",
       "      <th>6714</th>\n",
       "      <td>Harry Potter and the Chamber of Secrets (Harry...</td>\n",
       "      <td>4.43</td>\n",
       "      <td>61</td>\n",
       "    </tr>\n",
       "    <tr>\n",
       "      <th>17285</th>\n",
       "      <td>The Return of the King (The Lord of the Rings,...</td>\n",
       "      <td>4.56</td>\n",
       "      <td>53</td>\n",
       "    </tr>\n",
       "    <tr>\n",
       "      <th>327</th>\n",
       "      <td>A Game of Thrones (A Song of Ice and Fire, #1)</td>\n",
       "      <td>4.44</td>\n",
       "      <td>51</td>\n",
       "    </tr>\n",
       "    <tr>\n",
       "      <th>222</th>\n",
       "      <td>A Court of Mist and Fury (A Court of Thorns an...</td>\n",
       "      <td>4.64</td>\n",
       "      <td>41</td>\n",
       "    </tr>\n",
       "  </tbody>\n",
       "</table>\n",
       "</div>"
      ],
      "text/plain": [
       "                                                   title  avg_rating  votes\n",
       "6716   Harry Potter and the Deathly Hallows (Harry Po...        4.62    119\n",
       "6728   Harry Potter and the Prisoner of Azkaban (Harr...        4.58    115\n",
       "6718   Harry Potter and the Goblet of Fire (Harry Pot...        4.56    108\n",
       "6719   Harry Potter and the Half-Blood Prince (Harry ...        4.58     82\n",
       "6731   Harry Potter and the Sorcerer's Stone (Harry P...        4.47     79\n",
       "6722   Harry Potter and the Order of the Phoenix (Har...        4.50     75\n",
       "6714   Harry Potter and the Chamber of Secrets (Harry...        4.43     61\n",
       "17285  The Return of the King (The Lord of the Rings,...        4.56     53\n",
       "327       A Game of Thrones (A Song of Ice and Fire, #1)        4.44     51\n",
       "222    A Court of Mist and Fury (A Court of Thorns an...        4.64     41"
      ]
     },
     "execution_count": 18,
     "metadata": {},
     "output_type": "execute_result"
    }
   ],
   "source": [
    "books_avg_ratings_df.sort_values(by = ['votes', 'avg_rating'], ascending = [False, False]).head(10)"
   ]
  },
  {
   "cell_type": "markdown",
   "id": "28fbe239-d62e-4392-aba8-b6a31fcf37e1",
   "metadata": {},
   "source": [
    "The most popular books are, unsurprisingly, the Harry Potter series. Then I see some titles from other fantasy series like A song of Ice and Fire and The Lord of the Rings."
   ]
  },
  {
   "cell_type": "code",
   "execution_count": 19,
   "id": "1bbe1063-fa93-46e2-9c8b-71bdfd7bb141",
   "metadata": {},
   "outputs": [
    {
     "data": {
      "text/html": [
       "<div>\n",
       "<style scoped>\n",
       "    .dataframe tbody tr th:only-of-type {\n",
       "        vertical-align: middle;\n",
       "    }\n",
       "\n",
       "    .dataframe tbody tr th {\n",
       "        vertical-align: top;\n",
       "    }\n",
       "\n",
       "    .dataframe thead th {\n",
       "        text-align: right;\n",
       "    }\n",
       "</style>\n",
       "<table border=\"1\" class=\"dataframe\">\n",
       "  <thead>\n",
       "    <tr style=\"text-align: right;\">\n",
       "      <th></th>\n",
       "      <th>user_id</th>\n",
       "      <th>book_id</th>\n",
       "      <th>user_rating</th>\n",
       "      <th>avg_rating</th>\n",
       "    </tr>\n",
       "  </thead>\n",
       "  <tbody>\n",
       "    <tr>\n",
       "      <th>0</th>\n",
       "      <td>1</td>\n",
       "      <td>1</td>\n",
       "      <td>5</td>\n",
       "      <td>4.75</td>\n",
       "    </tr>\n",
       "    <tr>\n",
       "      <th>1</th>\n",
       "      <td>1</td>\n",
       "      <td>2</td>\n",
       "      <td>5</td>\n",
       "      <td>4.74</td>\n",
       "    </tr>\n",
       "    <tr>\n",
       "      <th>2</th>\n",
       "      <td>10553671</td>\n",
       "      <td>2</td>\n",
       "      <td>4</td>\n",
       "      <td>4.74</td>\n",
       "    </tr>\n",
       "    <tr>\n",
       "      <th>3</th>\n",
       "      <td>111921</td>\n",
       "      <td>2</td>\n",
       "      <td>5</td>\n",
       "      <td>4.74</td>\n",
       "    </tr>\n",
       "    <tr>\n",
       "      <th>4</th>\n",
       "      <td>2294090</td>\n",
       "      <td>2</td>\n",
       "      <td>5</td>\n",
       "      <td>4.74</td>\n",
       "    </tr>\n",
       "  </tbody>\n",
       "</table>\n",
       "</div>"
      ],
      "text/plain": [
       "    user_id  book_id  user_rating  avg_rating\n",
       "0         1        1            5        4.75\n",
       "1         1        2            5        4.74\n",
       "2  10553671        2            4        4.74\n",
       "3    111921        2            5        4.74\n",
       "4   2294090        2            5        4.74"
      ]
     },
     "execution_count": 19,
     "metadata": {},
     "output_type": "execute_result"
    }
   ],
   "source": [
    "ratings_df = pd.read_sql_query('SELECT * FROM Ratings', conn)\n",
    "ratings_df.head()"
   ]
  },
  {
   "cell_type": "markdown",
   "id": "4cedea31-20ef-4d7f-a278-dbc19d893037",
   "metadata": {},
   "source": [
    "### Least Popular Books ###\n",
    "Although I sorted each user's shelf by most popular books, I'm curious to know which are the least popular books in the dataset."
   ]
  },
  {
   "cell_type": "code",
   "execution_count": 20,
   "id": "62dafbd3-37db-48f6-820c-5533528406c7",
   "metadata": {},
   "outputs": [
    {
     "data": {
      "text/plain": [
       "37"
      ]
     },
     "execution_count": 20,
     "metadata": {},
     "output_type": "execute_result"
    }
   ],
   "source": [
    "num_reviews = ratings_df['book_id'].value_counts()\n",
    "len(num_reviews.unique())"
   ]
  },
  {
   "cell_type": "code",
   "execution_count": 21,
   "id": "e4bec4ab-7433-4ded-ac63-1b0f498dac49",
   "metadata": {},
   "outputs": [
    {
     "data": {
      "text/plain": [
       "21892"
      ]
     },
     "execution_count": 21,
     "metadata": {},
     "output_type": "execute_result"
    }
   ],
   "source": [
    "len(ratings_df['book_id'].unique())"
   ]
  },
  {
   "cell_type": "markdown",
   "id": "5c0911e1-adc5-48cf-bbb5-588b715741a7",
   "metadata": {},
   "source": [
    "There are 37 unique value counts, so if I make a histogram with 102 bins, each bin will account for a distinct value count. This way I can see the distribution of book popularity."
   ]
  },
  {
   "cell_type": "code",
   "execution_count": 34,
   "id": "d6fed470-336e-42a3-801a-73a1c0b8df3e",
   "metadata": {},
   "outputs": [
    {
     "data": {
      "image/png": "[encoded data removed]",
      "text/plain": [
       "<Figure size 640x480 with 1 Axes>"
      ]
     },
     "metadata": {},
     "output_type": "display_data"
    }
   ],
   "source": [
    "sns.histplot(data = num_reviews, bins = 37)\n",
    "plt.title('Histogram of Book Reviews')\n",
    "plt.xlabel('Number of Book Appearances in Dataset')\n",
    "plt.ylabel('Frequency')\n",
    "plt.show()"
   ]
  },
  {
   "cell_type": "markdown",
   "id": "8a9b4eb9-058f-4217-9d1f-37fddce160d0",
   "metadata": {},
   "source": [
    "Over 20,000 of the 21,892 unique books only appear once in the dataset. I wonder how many books would remain if I dropped all books with fewer than 10 appearances."
   ]
  },
  {
   "cell_type": "code",
   "execution_count": 23,
   "id": "1716eac2-fde6-4dfa-b17a-a061a058db24",
   "metadata": {},
   "outputs": [
    {
     "data": {
      "text/plain": [
       "27"
      ]
     },
     "execution_count": 23,
     "metadata": {},
     "output_type": "execute_result"
    }
   ],
   "source": [
    "min_books = 10\n",
    "popular_filter = ratings_df['book_id'].value_counts() > min_books\n",
    "popular_filter = popular_filter[popular_filter].index.to_list()\n",
    "popular_df = ratings_df[ratings_df['book_id'].isin(popular_filter)]\n",
    "len(popular_df['book_id'].value_counts().unique())"
   ]
  },
  {
   "cell_type": "markdown",
   "id": "6929b4e3-2d35-4086-91d2-b3dd91752f11",
   "metadata": {},
   "source": [
    "Only 27 books remain if I filter out the books with fewer than 10 reviews. I don't think this is a good idea. If I was starting with a much larger dataset I could make the argument for this approach, but I have too few books to eliminate most of them."
   ]
  },
  {
   "cell_type": "markdown",
   "id": "569694b9-d0aa-40e9-9dd7-44c1cbaed67f",
   "metadata": {},
   "source": [
    "### User Rating Distribution ###\n",
    "Now I want to see if user ratings are distributed normally."
   ]
  },
  {
   "cell_type": "code",
   "execution_count": 24,
   "id": "d14b215a-9578-4ba1-81ba-71c29bd98054",
   "metadata": {},
   "outputs": [
    {
     "data": {
      "image/png": "[encoded data removed]",
      "text/plain": [
       "<Figure size 1000x600 with 1 Axes>"
      ]
     },
     "metadata": {},
     "output_type": "display_data"
    }
   ],
   "source": [
    "plt.figure(figsize=(10, 6))\n",
    "sns.histplot(ratings_df['user_rating'], kde = True)\n",
    "sns.histplot(books_avg_ratings_df['avg_rating'], kde = True, bins = 20)\n",
    "plt.title('Distribution of User Ratings')\n",
    "plt.xlabel('User Rating')\n",
    "plt.ylabel('Frequency')\n",
    "plt.show()"
   ]
  },
  {
   "cell_type": "markdown",
   "id": "848a0cf4-e061-496a-8c85-17c953a1de0e",
   "metadata": {},
   "source": [
    "The above histograms show the distribution of user ratings in blue and the distribution of average ratings in orange. It is not surprising that the most popular users would give the most popular books a high rating generally. I am a little surprised that these users give out so many 5-star reviews. While it is very subjective, many Goodreads users adhere to the same rating scale, where a 5-star rating is reserved for the user's favorite books of all time. But I suppose that popular, well-reviewed books are exactly that for a reason. The median book in this dataset has an average rating of just over 4 stars. The distribution of average ratings has a longer tail on the left, which makes sense due to the cap at 5 stars. I'm a little surprised to see that some of the books on this list managed to be popular enough but also average fewer than 3 stars."
   ]
  },
  {
   "cell_type": "code",
   "execution_count": 25,
   "id": "98ccd6aa-666c-49e8-b98b-4f924c970964",
   "metadata": {},
   "outputs": [],
   "source": [
    "query = '''\n",
    "SELECT user_id, AVG(user_rating) as user_avg_rating\n",
    "FROM Ratings r\n",
    "GROUP BY user_id\n",
    "'''\n",
    "user_avg_ratings_df = pd.read_sql_query(query, conn)"
   ]
  },
  {
   "cell_type": "code",
   "execution_count": 26,
   "id": "fa62c5e5-a8f9-4f91-93c1-2d42c588520e",
   "metadata": {},
   "outputs": [
    {
     "data": {
      "image/png": "[encoded data removed]",
      "text/plain": [
       "<Figure size 1000x600 with 1 Axes>"
      ]
     },
     "metadata": {},
     "output_type": "display_data"
    }
   ],
   "source": [
    "plt.figure(figsize=(10, 6))\n",
    "sns.histplot(user_avg_ratings_df['user_avg_rating'], kde = True, bins = 20)\n",
    "plt.title('Distribution of User Average Ratings')\n",
    "plt.xlabel('User Avg Rating')\n",
    "plt.ylabel('Frequency')\n",
    "plt.show()"
   ]
  },
  {
   "cell_type": "markdown",
   "id": "9ac86ca7-30a5-46c0-8e8f-fc2dde11006e",
   "metadata": {},
   "source": [
    "This histogram plot shows the distribution of each user's average rating. Some users clearly love the popular books, giving out an average of almost 5 stars. Many users are clustered around the 4-star average rating. Some users, on the other hand, seem to be haters and give out generally very low scores. I'll check those users out."
   ]
  },
  {
   "cell_type": "markdown",
   "id": "63da3aa7-7b7b-4312-b945-08fe0d0d144e",
   "metadata": {},
   "source": [
    "### Low-Rater Investigation ###\n",
    "I'll take a look at a particular user who gives out very low scores on average."
   ]
  },
  {
   "cell_type": "code",
   "execution_count": 27,
   "id": "58e9e6d0-6fbc-4294-8303-185731ce25a6",
   "metadata": {},
   "outputs": [],
   "source": [
    "query = '''\n",
    "SELECT user_id, SUM(user_rating == 0) AS zero_star, SUM(user_rating == 1) AS one_star, SUM(user_rating == 2) AS two_star,\n",
    "SUM(user_rating == 3) AS three_star, SUM(user_rating == 4) AS four_star,\n",
    "SUM(user_rating == 5) AS five_star, \n",
    "AVG(user_rating) AS user_avg\n",
    "FROM Ratings r\n",
    "GROUP BY user_id\n",
    "HAVING AVG(user_rating) < 3\n",
    "'''\n",
    "\n",
    "low_ratings_df = pd.read_sql_query(query, conn)"
   ]
  },
  {
   "cell_type": "code",
   "execution_count": 28,
   "id": "212e7269-7cdf-4529-b16d-1b820ab7e386",
   "metadata": {},
   "outputs": [
    {
     "data": {
      "text/html": [
       "<div>\n",
       "<style scoped>\n",
       "    .dataframe tbody tr th:only-of-type {\n",
       "        vertical-align: middle;\n",
       "    }\n",
       "\n",
       "    .dataframe tbody tr th {\n",
       "        vertical-align: top;\n",
       "    }\n",
       "\n",
       "    .dataframe thead th {\n",
       "        text-align: right;\n",
       "    }\n",
       "</style>\n",
       "<table border=\"1\" class=\"dataframe\">\n",
       "  <thead>\n",
       "    <tr style=\"text-align: right;\">\n",
       "      <th></th>\n",
       "      <th>user_id</th>\n",
       "      <th>zero_star</th>\n",
       "      <th>one_star</th>\n",
       "      <th>two_star</th>\n",
       "      <th>three_star</th>\n",
       "      <th>four_star</th>\n",
       "      <th>five_star</th>\n",
       "      <th>user_avg</th>\n",
       "    </tr>\n",
       "  </thead>\n",
       "  <tbody>\n",
       "    <tr>\n",
       "      <th>0</th>\n",
       "      <td>914795</td>\n",
       "      <td>0</td>\n",
       "      <td>12</td>\n",
       "      <td>39</td>\n",
       "      <td>26</td>\n",
       "      <td>23</td>\n",
       "      <td>0</td>\n",
       "      <td>2.600000</td>\n",
       "    </tr>\n",
       "    <tr>\n",
       "      <th>1</th>\n",
       "      <td>922495</td>\n",
       "      <td>47</td>\n",
       "      <td>0</td>\n",
       "      <td>0</td>\n",
       "      <td>1</td>\n",
       "      <td>1</td>\n",
       "      <td>51</td>\n",
       "      <td>2.620000</td>\n",
       "    </tr>\n",
       "    <tr>\n",
       "      <th>2</th>\n",
       "      <td>1005037</td>\n",
       "      <td>30</td>\n",
       "      <td>0</td>\n",
       "      <td>0</td>\n",
       "      <td>13</td>\n",
       "      <td>33</td>\n",
       "      <td>24</td>\n",
       "      <td>2.910000</td>\n",
       "    </tr>\n",
       "    <tr>\n",
       "      <th>3</th>\n",
       "      <td>1113032</td>\n",
       "      <td>47</td>\n",
       "      <td>0</td>\n",
       "      <td>0</td>\n",
       "      <td>21</td>\n",
       "      <td>19</td>\n",
       "      <td>13</td>\n",
       "      <td>2.040000</td>\n",
       "    </tr>\n",
       "    <tr>\n",
       "      <th>4</th>\n",
       "      <td>1162953</td>\n",
       "      <td>4</td>\n",
       "      <td>4</td>\n",
       "      <td>33</td>\n",
       "      <td>44</td>\n",
       "      <td>13</td>\n",
       "      <td>2</td>\n",
       "      <td>2.640000</td>\n",
       "    </tr>\n",
       "    <tr>\n",
       "      <th>5</th>\n",
       "      <td>1323157</td>\n",
       "      <td>34</td>\n",
       "      <td>1</td>\n",
       "      <td>2</td>\n",
       "      <td>14</td>\n",
       "      <td>36</td>\n",
       "      <td>13</td>\n",
       "      <td>2.560000</td>\n",
       "    </tr>\n",
       "    <tr>\n",
       "      <th>6</th>\n",
       "      <td>3734681</td>\n",
       "      <td>62</td>\n",
       "      <td>0</td>\n",
       "      <td>0</td>\n",
       "      <td>4</td>\n",
       "      <td>14</td>\n",
       "      <td>20</td>\n",
       "      <td>1.680000</td>\n",
       "    </tr>\n",
       "    <tr>\n",
       "      <th>7</th>\n",
       "      <td>4717304</td>\n",
       "      <td>32</td>\n",
       "      <td>0</td>\n",
       "      <td>5</td>\n",
       "      <td>10</td>\n",
       "      <td>31</td>\n",
       "      <td>22</td>\n",
       "      <td>2.740000</td>\n",
       "    </tr>\n",
       "    <tr>\n",
       "      <th>8</th>\n",
       "      <td>5451550</td>\n",
       "      <td>98</td>\n",
       "      <td>0</td>\n",
       "      <td>0</td>\n",
       "      <td>1</td>\n",
       "      <td>1</td>\n",
       "      <td>0</td>\n",
       "      <td>0.070000</td>\n",
       "    </tr>\n",
       "    <tr>\n",
       "      <th>9</th>\n",
       "      <td>7205303</td>\n",
       "      <td>95</td>\n",
       "      <td>0</td>\n",
       "      <td>0</td>\n",
       "      <td>0</td>\n",
       "      <td>2</td>\n",
       "      <td>3</td>\n",
       "      <td>0.230000</td>\n",
       "    </tr>\n",
       "    <tr>\n",
       "      <th>10</th>\n",
       "      <td>8091367</td>\n",
       "      <td>2</td>\n",
       "      <td>92</td>\n",
       "      <td>0</td>\n",
       "      <td>3</td>\n",
       "      <td>1</td>\n",
       "      <td>2</td>\n",
       "      <td>1.150000</td>\n",
       "    </tr>\n",
       "    <tr>\n",
       "      <th>11</th>\n",
       "      <td>8114361</td>\n",
       "      <td>43</td>\n",
       "      <td>0</td>\n",
       "      <td>0</td>\n",
       "      <td>2</td>\n",
       "      <td>20</td>\n",
       "      <td>35</td>\n",
       "      <td>2.610000</td>\n",
       "    </tr>\n",
       "    <tr>\n",
       "      <th>12</th>\n",
       "      <td>9303625</td>\n",
       "      <td>37</td>\n",
       "      <td>0</td>\n",
       "      <td>0</td>\n",
       "      <td>6</td>\n",
       "      <td>21</td>\n",
       "      <td>36</td>\n",
       "      <td>2.820000</td>\n",
       "    </tr>\n",
       "    <tr>\n",
       "      <th>13</th>\n",
       "      <td>11183856</td>\n",
       "      <td>53</td>\n",
       "      <td>0</td>\n",
       "      <td>3</td>\n",
       "      <td>8</td>\n",
       "      <td>19</td>\n",
       "      <td>17</td>\n",
       "      <td>1.910000</td>\n",
       "    </tr>\n",
       "    <tr>\n",
       "      <th>14</th>\n",
       "      <td>11931807</td>\n",
       "      <td>42</td>\n",
       "      <td>0</td>\n",
       "      <td>0</td>\n",
       "      <td>6</td>\n",
       "      <td>49</td>\n",
       "      <td>3</td>\n",
       "      <td>2.290000</td>\n",
       "    </tr>\n",
       "    <tr>\n",
       "      <th>15</th>\n",
       "      <td>18104163</td>\n",
       "      <td>34</td>\n",
       "      <td>2</td>\n",
       "      <td>0</td>\n",
       "      <td>12</td>\n",
       "      <td>25</td>\n",
       "      <td>27</td>\n",
       "      <td>2.730000</td>\n",
       "    </tr>\n",
       "    <tr>\n",
       "      <th>16</th>\n",
       "      <td>19925133</td>\n",
       "      <td>36</td>\n",
       "      <td>0</td>\n",
       "      <td>0</td>\n",
       "      <td>6</td>\n",
       "      <td>48</td>\n",
       "      <td>10</td>\n",
       "      <td>2.600000</td>\n",
       "    </tr>\n",
       "    <tr>\n",
       "      <th>17</th>\n",
       "      <td>23385697</td>\n",
       "      <td>45</td>\n",
       "      <td>0</td>\n",
       "      <td>0</td>\n",
       "      <td>0</td>\n",
       "      <td>0</td>\n",
       "      <td>55</td>\n",
       "      <td>2.750000</td>\n",
       "    </tr>\n",
       "    <tr>\n",
       "      <th>18</th>\n",
       "      <td>31880928</td>\n",
       "      <td>0</td>\n",
       "      <td>39</td>\n",
       "      <td>14</td>\n",
       "      <td>2</td>\n",
       "      <td>2</td>\n",
       "      <td>43</td>\n",
       "      <td>2.960000</td>\n",
       "    </tr>\n",
       "    <tr>\n",
       "      <th>19</th>\n",
       "      <td>44098542</td>\n",
       "      <td>0</td>\n",
       "      <td>23</td>\n",
       "      <td>35</td>\n",
       "      <td>12</td>\n",
       "      <td>12</td>\n",
       "      <td>18</td>\n",
       "      <td>2.670000</td>\n",
       "    </tr>\n",
       "    <tr>\n",
       "      <th>20</th>\n",
       "      <td>91822086</td>\n",
       "      <td>11</td>\n",
       "      <td>0</td>\n",
       "      <td>0</td>\n",
       "      <td>0</td>\n",
       "      <td>1</td>\n",
       "      <td>0</td>\n",
       "      <td>0.333333</td>\n",
       "    </tr>\n",
       "    <tr>\n",
       "      <th>21</th>\n",
       "      <td>154524237</td>\n",
       "      <td>7</td>\n",
       "      <td>1</td>\n",
       "      <td>0</td>\n",
       "      <td>0</td>\n",
       "      <td>1</td>\n",
       "      <td>0</td>\n",
       "      <td>0.555556</td>\n",
       "    </tr>\n",
       "  </tbody>\n",
       "</table>\n",
       "</div>"
      ],
      "text/plain": [
       "      user_id  zero_star  one_star  two_star  three_star  four_star  \\\n",
       "0      914795          0        12        39          26         23   \n",
       "1      922495         47         0         0           1          1   \n",
       "2     1005037         30         0         0          13         33   \n",
       "3     1113032         47         0         0          21         19   \n",
       "4     1162953          4         4        33          44         13   \n",
       "5     1323157         34         1         2          14         36   \n",
       "6     3734681         62         0         0           4         14   \n",
       "7     4717304         32         0         5          10         31   \n",
       "8     5451550         98         0         0           1          1   \n",
       "9     7205303         95         0         0           0          2   \n",
       "10    8091367          2        92         0           3          1   \n",
       "11    8114361         43         0         0           2         20   \n",
       "12    9303625         37         0         0           6         21   \n",
       "13   11183856         53         0         3           8         19   \n",
       "14   11931807         42         0         0           6         49   \n",
       "15   18104163         34         2         0          12         25   \n",
       "16   19925133         36         0         0           6         48   \n",
       "17   23385697         45         0         0           0          0   \n",
       "18   31880928          0        39        14           2          2   \n",
       "19   44098542          0        23        35          12         12   \n",
       "20   91822086         11         0         0           0          1   \n",
       "21  154524237          7         1         0           0          1   \n",
       "\n",
       "    five_star  user_avg  \n",
       "0           0  2.600000  \n",
       "1          51  2.620000  \n",
       "2          24  2.910000  \n",
       "3          13  2.040000  \n",
       "4           2  2.640000  \n",
       "5          13  2.560000  \n",
       "6          20  1.680000  \n",
       "7          22  2.740000  \n",
       "8           0  0.070000  \n",
       "9           3  0.230000  \n",
       "10          2  1.150000  \n",
       "11         35  2.610000  \n",
       "12         36  2.820000  \n",
       "13         17  1.910000  \n",
       "14          3  2.290000  \n",
       "15         27  2.730000  \n",
       "16         10  2.600000  \n",
       "17         55  2.750000  \n",
       "18         43  2.960000  \n",
       "19         18  2.670000  \n",
       "20          0  0.333333  \n",
       "21          0  0.555556  "
      ]
     },
     "execution_count": 28,
     "metadata": {},
     "output_type": "execute_result"
    }
   ],
   "source": [
    "low_ratings_df"
   ]
  },
  {
   "cell_type": "markdown",
   "id": "4ee9ab91-312d-4934-bede-e4071e464ae8",
   "metadata": {},
   "source": [
    "Right away I can see some users rarely rate books, often just logging them as \"read\" without assigning a score. These are users which I would likely drop from the training data if I refined my model further. As it stands, I'll keep them since I don't have a trememndously large dataset to begin with. I'm more intrigued by the users who score each book but are very stingy with high scores. User 3258178 for instance has no zeros and only 9 fives. They mostly rate books either 2 or 3 stars. "
   ]
  },
  {
   "cell_type": "code",
   "execution_count": 29,
   "id": "4e5e4673-ff07-4d2e-924e-59d2dda0b1f3",
   "metadata": {},
   "outputs": [],
   "source": [
    "query = '''\n",
    "SELECT r.user_id, b.title, r.user_rating, r.avg_rating \n",
    "FROM Ratings r\n",
    "JOIN Books b ON b.book_id = r.book_id\n",
    "WHERE user_id == 3258178\n",
    "'''\n",
    "\n",
    "user_3258178_df = pd.read_sql_query(query, conn)"
   ]
  },
  {
   "cell_type": "code",
   "execution_count": 30,
   "id": "c8ae3988-eb76-4843-8ce6-cfd534f7cbcc",
   "metadata": {},
   "outputs": [
    {
     "data": {
      "text/html": [
       "<div>\n",
       "<style scoped>\n",
       "    .dataframe tbody tr th:only-of-type {\n",
       "        vertical-align: middle;\n",
       "    }\n",
       "\n",
       "    .dataframe tbody tr th {\n",
       "        vertical-align: top;\n",
       "    }\n",
       "\n",
       "    .dataframe thead th {\n",
       "        text-align: right;\n",
       "    }\n",
       "</style>\n",
       "<table border=\"1\" class=\"dataframe\">\n",
       "  <thead>\n",
       "    <tr style=\"text-align: right;\">\n",
       "      <th></th>\n",
       "      <th>user_id</th>\n",
       "      <th>title</th>\n",
       "      <th>user_rating</th>\n",
       "      <th>avg_rating</th>\n",
       "      <th>diff</th>\n",
       "    </tr>\n",
       "  </thead>\n",
       "  <tbody>\n",
       "    <tr>\n",
       "      <th>97</th>\n",
       "      <td>3258178</td>\n",
       "      <td>Slightly out of Focus</td>\n",
       "      <td>5</td>\n",
       "      <td>4.40</td>\n",
       "      <td>0.60</td>\n",
       "    </tr>\n",
       "    <tr>\n",
       "      <th>90</th>\n",
       "      <td>3258178</td>\n",
       "      <td>Take Back the Night (Jim Hollister, #3)</td>\n",
       "      <td>5</td>\n",
       "      <td>4.40</td>\n",
       "      <td>0.60</td>\n",
       "    </tr>\n",
       "    <tr>\n",
       "      <th>85</th>\n",
       "      <td>3258178</td>\n",
       "      <td>Locas</td>\n",
       "      <td>5</td>\n",
       "      <td>4.41</td>\n",
       "      <td>0.59</td>\n",
       "    </tr>\n",
       "    <tr>\n",
       "      <th>74</th>\n",
       "      <td>3258178</td>\n",
       "      <td>Love &amp; Rockets Vol. 3: Las mujeres perdidas</td>\n",
       "      <td>5</td>\n",
       "      <td>4.42</td>\n",
       "      <td>0.58</td>\n",
       "    </tr>\n",
       "    <tr>\n",
       "      <th>78</th>\n",
       "      <td>3258178</td>\n",
       "      <td>Vietnam</td>\n",
       "      <td>5</td>\n",
       "      <td>4.42</td>\n",
       "      <td>0.58</td>\n",
       "    </tr>\n",
       "    <tr>\n",
       "      <th>...</th>\n",
       "      <td>...</td>\n",
       "      <td>...</td>\n",
       "      <td>...</td>\n",
       "      <td>...</td>\n",
       "      <td>...</td>\n",
       "    </tr>\n",
       "    <tr>\n",
       "      <th>77</th>\n",
       "      <td>3258178</td>\n",
       "      <td>Band Of Brothers: E Company, 506th Regiment, 1...</td>\n",
       "      <td>2</td>\n",
       "      <td>4.42</td>\n",
       "      <td>-2.42</td>\n",
       "    </tr>\n",
       "    <tr>\n",
       "      <th>62</th>\n",
       "      <td>3258178</td>\n",
       "      <td>Roots: The Saga of an American Family</td>\n",
       "      <td>2</td>\n",
       "      <td>4.44</td>\n",
       "      <td>-2.44</td>\n",
       "    </tr>\n",
       "    <tr>\n",
       "      <th>32</th>\n",
       "      <td>3258178</td>\n",
       "      <td>God Cried</td>\n",
       "      <td>2</td>\n",
       "      <td>4.50</td>\n",
       "      <td>-2.50</td>\n",
       "    </tr>\n",
       "    <tr>\n",
       "      <th>89</th>\n",
       "      <td>3258178</td>\n",
       "      <td>The Great War For Civilisation: The Conquest o...</td>\n",
       "      <td>0</td>\n",
       "      <td>4.40</td>\n",
       "      <td>-4.40</td>\n",
       "    </tr>\n",
       "    <tr>\n",
       "      <th>58</th>\n",
       "      <td>3258178</td>\n",
       "      <td>The Military Half</td>\n",
       "      <td>0</td>\n",
       "      <td>4.44</td>\n",
       "      <td>-4.44</td>\n",
       "    </tr>\n",
       "  </tbody>\n",
       "</table>\n",
       "<p>100 rows × 5 columns</p>\n",
       "</div>"
      ],
      "text/plain": [
       "    user_id                                              title  user_rating  \\\n",
       "97  3258178                              Slightly out of Focus            5   \n",
       "90  3258178            Take Back the Night (Jim Hollister, #3)            5   \n",
       "85  3258178                                              Locas            5   \n",
       "74  3258178        Love & Rockets Vol. 3: Las mujeres perdidas            5   \n",
       "78  3258178                                            Vietnam            5   \n",
       "..      ...                                                ...          ...   \n",
       "77  3258178  Band Of Brothers: E Company, 506th Regiment, 1...            2   \n",
       "62  3258178              Roots: The Saga of an American Family            2   \n",
       "32  3258178                                          God Cried            2   \n",
       "89  3258178  The Great War For Civilisation: The Conquest o...            0   \n",
       "58  3258178                                  The Military Half            0   \n",
       "\n",
       "    avg_rating  diff  \n",
       "97        4.40  0.60  \n",
       "90        4.40  0.60  \n",
       "85        4.41  0.59  \n",
       "74        4.42  0.58  \n",
       "78        4.42  0.58  \n",
       "..         ...   ...  \n",
       "77        4.42 -2.42  \n",
       "62        4.44 -2.44  \n",
       "32        4.50 -2.50  \n",
       "89        4.40 -4.40  \n",
       "58        4.44 -4.44  \n",
       "\n",
       "[100 rows x 5 columns]"
      ]
     },
     "execution_count": 30,
     "metadata": {},
     "output_type": "execute_result"
    }
   ],
   "source": [
    "differenced_df = user_3258178_df.assign(diff = (user_3258178_df['user_rating']) - user_3258178_df['avg_rating'])\n",
    "differenced_df.sort_values(by = 'diff', ascending = False)"
   ]
  },
  {
   "cell_type": "code",
   "execution_count": 31,
   "id": "4b55f2c1-1b37-4683-93fb-72ef0430482d",
   "metadata": {},
   "outputs": [
    {
     "data": {
      "text/plain": [
       "22"
      ]
     },
     "execution_count": 31,
     "metadata": {},
     "output_type": "execute_result"
    }
   ],
   "source": [
    "differenced_df['diff'].loc[differenced_df['diff'] > 0].count()"
   ]
  },
  {
   "cell_type": "code",
   "execution_count": 32,
   "id": "4fb154aa-e7fc-4331-99f7-4e93c604b010",
   "metadata": {},
   "outputs": [
    {
     "name": "stdout",
     "output_type": "stream",
     "text": [
      "The User averages a score of 3.7 stars compared to a Goodreads average of 4.50 stars\n",
      " for books in the user's library. This is an average differential of -0.80 stars.\n"
     ]
    }
   ],
   "source": [
    "user_avg = np.mean(differenced_df['user_rating'])\n",
    "goodreads_avg = np.mean(differenced_df['avg_rating'])\n",
    "diff_avg = np.mean(differenced_df['diff'])\n",
    "print(f\"The User averages a score of {user_avg} stars compared to a Goodreads average of \\\n",
    "{goodreads_avg:0.2f} stars\\n for books in the user's library. This is an average differential of \\\n",
    "{diff_avg:0.2f} stars.\")"
   ]
  },
  {
   "cell_type": "code",
   "execution_count": 35,
   "id": "94713846-5e7b-4a65-9ba0-735b43d7d8c4",
   "metadata": {
    "tags": []
   },
   "outputs": [
    {
     "data": {
      "image/png": "[encoded data removed]",
      "text/plain": [
       "<Figure size 1000x600 with 1 Axes>"
      ]
     },
     "metadata": {},
     "output_type": "display_data"
    }
   ],
   "source": [
    "plt.figure(figsize=(10, 6))\n",
    "sns.histplot(differenced_df['diff'], kde = True, bins = 25)\n",
    "plt.axvline(0, 0, 1, color = 'orange')\n",
    "plt.axvline(-1.31, 0, 1, color = 'red')\n",
    "plt.title('Distribution of User 3258178 Relative Ratings')\n",
    "plt.xlabel('Relative Rating (Goodreads Average - User Rating)')\n",
    "plt.ylabel('Frequency')\n",
    "plt.show()"
   ]
  },
  {
   "cell_type": "markdown",
   "id": "b64dbb3e-ee7d-4e76-ab13-9f619c9a46c4",
   "metadata": {},
   "source": [
    "This particular user is  particularly strict with their ratings. The user averages a rating of 2.76 stars, which is over a full star less than the average Goodreads rating for the books in their library. They have rated plenty of books above the Goodreads average, so I wouldn't consider them a hater. They just tend not to love the most popular books."
   ]
  },
  {
   "cell_type": "markdown",
   "id": "16976f3d-c635-4e27-a6de-610ecd470d17",
   "metadata": {},
   "source": [
    "User 77805119 doesn't merit much analysis. They seem to treat the ratings as binary, rating most books either 0 or 5 stars. This could be good feedback for a model, equating to either a \"yes\" or \"no\" recommendation."
   ]
  },
  {
   "cell_type": "code",
   "execution_count": 33,
   "id": "3b66880b-d8a2-404d-8db7-46906ab63722",
   "metadata": {},
   "outputs": [],
   "source": [
    "conn.close()"
   ]
  },
  {
   "cell_type": "markdown",
   "id": "eeecbaf0-cdd3-4269-9df8-eaea48a4401f",
   "metadata": {},
   "source": [
    "# Conclusion #\n",
    "This exploration has shown me that the most popular Goodreads users do not have a uniform system for rating books. Many of them use a similar scale : \n",
    "* 1 star - I did not like it\n",
    "* 2 stars - It was fine\n",
    "* 3 stars - I liked it\n",
    "* 4 stars - I really liked it\n",
    "\n",
    "Other users rate very differently. The model will have to account for these variations as it learns how to recommend books based on user similarity scores.."
   ]
  }
 ],
 "metadata": {
  "kernelspec": {
   "display_name": "Python 3 (ipykernel)",
   "language": "python",
   "name": "python3"
  },
  "language_info": {
   "codemirror_mode": {
    "name": "ipython",
    "version": 3
   },
   "file_extension": ".py",
   "mimetype": "text/x-python",
   "name": "python",
   "nbconvert_exporter": "python",
   "pygments_lexer": "ipython3",
   "version": "3.9.18"
  }
 },
 "nbformat": 4,
 "nbformat_minor": 5
}
