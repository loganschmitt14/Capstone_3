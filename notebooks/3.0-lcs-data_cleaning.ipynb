{
 "cells": [
  {
   "cell_type": "markdown",
   "id": "8ed52303-202d-42bb-9697-f5676f83a248",
   "metadata": {},
   "source": [
    "# EDA #\n",
    "The script has gathered 100 reviews per user for almost 300 users. Time to make sure all the data is present"
   ]
  },
  {
   "cell_type": "code",
   "execution_count": 1,
   "id": "762b1574-7809-4150-9af2-e9a3f3e744ca",
   "metadata": {},
   "outputs": [],
   "source": [
    "import pandas as pd\n",
    "import sqlite3\n",
    "import os\n",
    "from pathlib import Path"
   ]
  },
  {
   "cell_type": "code",
   "execution_count": 2,
   "id": "1a3f9bf7-1393-4d00-af9f-4d561582c37d",
   "metadata": {},
   "outputs": [],
   "source": [
    "# File path to the consolidated data\n",
    "path = '../data/interim/consolidated_data.csv'"
   ]
  },
  {
   "cell_type": "code",
   "execution_count": 3,
   "id": "47a23768-70cf-464e-860c-25afea604990",
   "metadata": {},
   "outputs": [
    {
     "data": {
      "text/html": [
       "<div>\n",
       "<style scoped>\n",
       "    .dataframe tbody tr th:only-of-type {\n",
       "        vertical-align: middle;\n",
       "    }\n",
       "\n",
       "    .dataframe tbody tr th {\n",
       "        vertical-align: top;\n",
       "    }\n",
       "\n",
       "    .dataframe thead th {\n",
       "        text-align: right;\n",
       "    }\n",
       "</style>\n",
       "<table border=\"1\" class=\"dataframe\">\n",
       "  <thead>\n",
       "    <tr style=\"text-align: right;\">\n",
       "      <th></th>\n",
       "      <th>title</th>\n",
       "      <th>author</th>\n",
       "      <th>avg_rating</th>\n",
       "      <th>user_rating</th>\n",
       "      <th>cover_url</th>\n",
       "      <th>user_id</th>\n",
       "    </tr>\n",
       "  </thead>\n",
       "  <tbody>\n",
       "    <tr>\n",
       "      <th>0</th>\n",
       "      <td>Harry Potter and the Sorcerer's Stone (Harry P...</td>\n",
       "      <td>NaN</td>\n",
       "      <td>4.47</td>\n",
       "      <td>5</td>\n",
       "      <td>https://i.gr-assets.com/images/S/compressed.ph...</td>\n",
       "      <td>1</td>\n",
       "    </tr>\n",
       "    <tr>\n",
       "      <th>1</th>\n",
       "      <td>The Hunger Games (The Hunger Games, #1)</td>\n",
       "      <td>NaN</td>\n",
       "      <td>4.33</td>\n",
       "      <td>5</td>\n",
       "      <td>https://i.gr-assets.com/images/S/compressed.ph...</td>\n",
       "      <td>1</td>\n",
       "    </tr>\n",
       "    <tr>\n",
       "      <th>2</th>\n",
       "      <td>To Kill a Mockingbird</td>\n",
       "      <td>NaN</td>\n",
       "      <td>4.26</td>\n",
       "      <td>5</td>\n",
       "      <td>https://i.gr-assets.com/images/S/compressed.ph...</td>\n",
       "      <td>1</td>\n",
       "    </tr>\n",
       "    <tr>\n",
       "      <th>3</th>\n",
       "      <td>The Great Gatsby</td>\n",
       "      <td>NaN</td>\n",
       "      <td>3.93</td>\n",
       "      <td>4</td>\n",
       "      <td>https://i.gr-assets.com/images/S/compressed.ph...</td>\n",
       "      <td>1</td>\n",
       "    </tr>\n",
       "    <tr>\n",
       "      <th>4</th>\n",
       "      <td>1984</td>\n",
       "      <td>NaN</td>\n",
       "      <td>4.19</td>\n",
       "      <td>5</td>\n",
       "      <td>https://i.gr-assets.com/images/S/compressed.ph...</td>\n",
       "      <td>1</td>\n",
       "    </tr>\n",
       "  </tbody>\n",
       "</table>\n",
       "</div>"
      ],
      "text/plain": [
       "                                               title  author  avg_rating  \\\n",
       "0  Harry Potter and the Sorcerer's Stone (Harry P...     NaN        4.47   \n",
       "1            The Hunger Games (The Hunger Games, #1)     NaN        4.33   \n",
       "2                              To Kill a Mockingbird     NaN        4.26   \n",
       "3                                   The Great Gatsby     NaN        3.93   \n",
       "4                                               1984     NaN        4.19   \n",
       "\n",
       "   user_rating                                          cover_url  user_id  \n",
       "0            5  https://i.gr-assets.com/images/S/compressed.ph...        1  \n",
       "1            5  https://i.gr-assets.com/images/S/compressed.ph...        1  \n",
       "2            5  https://i.gr-assets.com/images/S/compressed.ph...        1  \n",
       "3            4  https://i.gr-assets.com/images/S/compressed.ph...        1  \n",
       "4            5  https://i.gr-assets.com/images/S/compressed.ph...        1  "
      ]
     },
     "execution_count": 3,
     "metadata": {},
     "output_type": "execute_result"
    }
   ],
   "source": [
    "df = pd.read_csv(path)\n",
    "df.head()"
   ]
  },
  {
   "cell_type": "code",
   "execution_count": 4,
   "id": "fc5a956c-a83d-45a9-9be4-ba92edc5ecac",
   "metadata": {},
   "outputs": [
    {
     "data": {
      "text/plain": [
       "(29530, 6)"
      ]
     },
     "execution_count": 4,
     "metadata": {},
     "output_type": "execute_result"
    }
   ],
   "source": [
    "df.shape"
   ]
  },
  {
   "cell_type": "code",
   "execution_count": 5,
   "id": "afb480bf-c1c5-4762-8952-4d620d26ce4f",
   "metadata": {},
   "outputs": [
    {
     "data": {
      "text/plain": [
       "6334"
      ]
     },
     "execution_count": 5,
     "metadata": {},
     "output_type": "execute_result"
    }
   ],
   "source": [
    "df['title'].nunique()"
   ]
  },
  {
   "cell_type": "code",
   "execution_count": 6,
   "id": "7e5a790e-8a3d-4a8e-ae05-8d7d7c23b615",
   "metadata": {},
   "outputs": [
    {
     "data": {
      "text/plain": [
       "9872"
      ]
     },
     "execution_count": 6,
     "metadata": {},
     "output_type": "execute_result"
    }
   ],
   "source": [
    "df['cover_url'].nunique()"
   ]
  },
  {
   "cell_type": "code",
   "execution_count": 7,
   "id": "f71fc5c7-5e44-4d54-a3ab-f5227fe9544c",
   "metadata": {},
   "outputs": [
    {
     "data": {
      "text/plain": [
       "title              0\n",
       "author         29530\n",
       "avg_rating         0\n",
       "user_rating        0\n",
       "cover_url          0\n",
       "user_id            0\n",
       "dtype: int64"
      ]
     },
     "execution_count": 7,
     "metadata": {},
     "output_type": "execute_result"
    }
   ],
   "source": [
    "df.isna().sum()"
   ]
  },
  {
   "cell_type": "code",
   "execution_count": 8,
   "id": "b3a182e2-eaf6-413d-9da8-70d978f5c69a",
   "metadata": {},
   "outputs": [
    {
     "data": {
      "text/plain": [
       "dtype('int64')"
      ]
     },
     "execution_count": 8,
     "metadata": {},
     "output_type": "execute_result"
    }
   ],
   "source": [
    "df.user_id.unique().dtype"
   ]
  },
  {
   "cell_type": "code",
   "execution_count": 9,
   "id": "a4dddd30-2973-4be7-9c62-e0340e9197f9",
   "metadata": {},
   "outputs": [
    {
     "name": "stdout",
     "output_type": "stream",
     "text": [
      "Empty DataFrame\n",
      "Columns: [title, author, avg_rating, user_rating, cover_url, user_id]\n",
      "Index: []\n"
     ]
    }
   ],
   "source": [
    "non_integers = df[pd.to_numeric(df['user_id'], errors='coerce').isna()]\n",
    "print(non_integers)"
   ]
  },
  {
   "cell_type": "markdown",
   "id": "12117fec-ddf3-46a5-928a-e36fe970900b",
   "metadata": {},
   "source": [
    "### First Impressions ###\n",
    "There are 29,530 reviews here, but only 6,334 unique books. This isn't a huge surprise, since I sorted each user's \"read\" shelf by most-reviewed and scraped the top 100. I'm actually glad to see this much variety. This should mean that I have legitimate recommendation power but that I don't recommend very obscure or unpopular books. There are more unique cover URLs due to different editions existing for many of the books.\n",
    "\n",
    "The script also failed to gather the \"author\" column for some reason. This information would be nice to have but ultimately isn't worth the time to re-run the script. If this project were going into production, I'd gather far more than title, author, and rating anyways. I'll drop the author column for now."
   ]
  },
  {
   "cell_type": "code",
   "execution_count": 10,
   "id": "8a6b970b-2419-445b-9085-9838af4c11cc",
   "metadata": {},
   "outputs": [
    {
     "data": {
      "text/html": [
       "<div>\n",
       "<style scoped>\n",
       "    .dataframe tbody tr th:only-of-type {\n",
       "        vertical-align: middle;\n",
       "    }\n",
       "\n",
       "    .dataframe tbody tr th {\n",
       "        vertical-align: top;\n",
       "    }\n",
       "\n",
       "    .dataframe thead th {\n",
       "        text-align: right;\n",
       "    }\n",
       "</style>\n",
       "<table border=\"1\" class=\"dataframe\">\n",
       "  <thead>\n",
       "    <tr style=\"text-align: right;\">\n",
       "      <th></th>\n",
       "      <th>title</th>\n",
       "      <th>avg_rating</th>\n",
       "      <th>user_rating</th>\n",
       "      <th>cover_url</th>\n",
       "      <th>user_id</th>\n",
       "    </tr>\n",
       "  </thead>\n",
       "  <tbody>\n",
       "    <tr>\n",
       "      <th>0</th>\n",
       "      <td>Harry Potter and the Sorcerer's Stone (Harry P...</td>\n",
       "      <td>4.47</td>\n",
       "      <td>5</td>\n",
       "      <td>https://i.gr-assets.com/images/S/compressed.ph...</td>\n",
       "      <td>1</td>\n",
       "    </tr>\n",
       "    <tr>\n",
       "      <th>1</th>\n",
       "      <td>The Hunger Games (The Hunger Games, #1)</td>\n",
       "      <td>4.33</td>\n",
       "      <td>5</td>\n",
       "      <td>https://i.gr-assets.com/images/S/compressed.ph...</td>\n",
       "      <td>1</td>\n",
       "    </tr>\n",
       "    <tr>\n",
       "      <th>2</th>\n",
       "      <td>To Kill a Mockingbird</td>\n",
       "      <td>4.26</td>\n",
       "      <td>5</td>\n",
       "      <td>https://i.gr-assets.com/images/S/compressed.ph...</td>\n",
       "      <td>1</td>\n",
       "    </tr>\n",
       "    <tr>\n",
       "      <th>3</th>\n",
       "      <td>The Great Gatsby</td>\n",
       "      <td>3.93</td>\n",
       "      <td>4</td>\n",
       "      <td>https://i.gr-assets.com/images/S/compressed.ph...</td>\n",
       "      <td>1</td>\n",
       "    </tr>\n",
       "    <tr>\n",
       "      <th>4</th>\n",
       "      <td>1984</td>\n",
       "      <td>4.19</td>\n",
       "      <td>5</td>\n",
       "      <td>https://i.gr-assets.com/images/S/compressed.ph...</td>\n",
       "      <td>1</td>\n",
       "    </tr>\n",
       "  </tbody>\n",
       "</table>\n",
       "</div>"
      ],
      "text/plain": [
       "                                               title  avg_rating  user_rating  \\\n",
       "0  Harry Potter and the Sorcerer's Stone (Harry P...        4.47            5   \n",
       "1            The Hunger Games (The Hunger Games, #1)        4.33            5   \n",
       "2                              To Kill a Mockingbird        4.26            5   \n",
       "3                                   The Great Gatsby        3.93            4   \n",
       "4                                               1984        4.19            5   \n",
       "\n",
       "                                           cover_url  user_id  \n",
       "0  https://i.gr-assets.com/images/S/compressed.ph...        1  \n",
       "1  https://i.gr-assets.com/images/S/compressed.ph...        1  \n",
       "2  https://i.gr-assets.com/images/S/compressed.ph...        1  \n",
       "3  https://i.gr-assets.com/images/S/compressed.ph...        1  \n",
       "4  https://i.gr-assets.com/images/S/compressed.ph...        1  "
      ]
     },
     "execution_count": 10,
     "metadata": {},
     "output_type": "execute_result"
    }
   ],
   "source": [
    "try:\n",
    "    df = df.drop('author', axis = 1)\n",
    "except:\n",
    "    pass\n",
    "df.head()"
   ]
  },
  {
   "cell_type": "markdown",
   "id": "d0c13c56-2a01-4b3d-8246-f877d89e8bb1",
   "metadata": {},
   "source": [
    "# SQL Database Exploration #\n",
    "Now I want to check out the relational database I made from the data"
   ]
  },
  {
   "cell_type": "code",
   "execution_count": 11,
   "id": "b5132d60-ebc0-49d3-bf94-5ff373cb812f",
   "metadata": {},
   "outputs": [],
   "source": [
    "database_path = os.path.abspath(\n",
    "            os.path.join(\n",
    "                os.pardir,\n",
    "                'data',\n",
    "                'processed',\n",
    "                'books.db'\n",
    "                )\n",
    "            )\n",
    "\n",
    "conn = sqlite3.connect(database_path)"
   ]
  },
  {
   "cell_type": "code",
   "execution_count": 12,
   "id": "c4a3a1cb-f545-41bd-9ec5-88ee5080262f",
   "metadata": {},
   "outputs": [
    {
     "name": "stdout",
     "output_type": "stream",
     "text": [
      "(1, 1, 5, 4.47)\n",
      "(10160415, 1, 0, 4.47)\n",
      "(1019021, 1, 5, 4.47)\n",
      "(10367112, 1, 4, 4.47)\n",
      "(104823, 1, 4, 4.47)\n",
      "(1053760, 1, 5, 4.47)\n",
      "(10553671, 1, 5, 4.47)\n",
      "(106638288, 1, 3, 4.47)\n",
      "(1072582, 1, 5, 4.47)\n",
      "(10915830, 1, 5, 4.47)\n"
     ]
    }
   ],
   "source": [
    "cur = conn.cursor()\n",
    "cur.execute('SELECT * FROM Ratings LIMIT 10')\n",
    "results = cur.fetchall()\n",
    "\n",
    "for row in results:\n",
    "    print(row)"
   ]
  },
  {
   "cell_type": "code",
   "execution_count": 13,
   "id": "6c2017bb-4a46-4887-bf87-f6d75c5c04c7",
   "metadata": {},
   "outputs": [
    {
     "name": "stdout",
     "output_type": "stream",
     "text": [
      "(1, \"Harry Potter and the Sorcerer's Stone (Harry Potter, #1)\", 'https://i.gr-assets.com/images/S/compressed.photo.goodreads.com/books/1474154022l/3._SY75_.jpg')\n",
      "(2, 'The Hunger Games (The Hunger Games, #1)', 'https://i.gr-assets.com/images/S/compressed.photo.goodreads.com/books/1586722975l/2767052._SX50_.jpg')\n",
      "(3, 'To Kill a Mockingbird', 'https://i.gr-assets.com/images/S/compressed.photo.goodreads.com/books/1553383690l/2657._SY75_.jpg')\n",
      "(4, 'The Great Gatsby', 'https://i.gr-assets.com/images/S/compressed.photo.goodreads.com/books/1490528560l/4671._SY75_.jpg')\n",
      "(5, '1984', 'https://i.gr-assets.com/images/S/compressed.photo.goodreads.com/books/1348990566l/5470._SY75_.jpg')\n",
      "(6, 'Pride and Prejudice', 'https://i.gr-assets.com/images/S/compressed.photo.goodreads.com/books/1622158493l/1893._SX50_.jpg')\n",
      "(7, 'Harry Potter and the Prisoner of Azkaban (Harry Potter, #3)', 'https://i.gr-assets.com/images/S/compressed.photo.goodreads.com/books/1630547330l/5._SY75_.jpg')\n",
      "(8, 'The Hobbit (The Lord of the Rings, #0)', 'https://i.gr-assets.com/images/S/compressed.photo.goodreads.com/books/1546071216l/5907._SY75_.jpg')\n",
      "(9, 'Harry Potter and the Chamber of Secrets (Harry Potter, #2)', 'https://i.gr-assets.com/images/S/compressed.photo.goodreads.com/books/1474154604l/4._SY75_.jpg')\n",
      "(10, 'The Diary of a Young Girl', 'https://i.gr-assets.com/images/S/compressed.photo.goodreads.com/books/1560816565l/48855._SY75_.jpg')\n"
     ]
    }
   ],
   "source": [
    "cur = conn.cursor()\n",
    "cur.execute('SELECT * FROM Books LIMIT 10')\n",
    "results = cur.fetchall()\n",
    "\n",
    "for row in results:\n",
    "    print(row)"
   ]
  },
  {
   "cell_type": "code",
   "execution_count": 14,
   "id": "434ae33d-af6d-496d-85db-25f2cc3decc2",
   "metadata": {},
   "outputs": [
    {
     "name": "stdout",
     "output_type": "stream",
     "text": [
      "(9909,)\n"
     ]
    }
   ],
   "source": [
    "cur.execute('SELECT COUNT(*) FROM Books')\n",
    "book_count = cur.fetchone()\n",
    "print(book_count)"
   ]
  },
  {
   "cell_type": "code",
   "execution_count": 15,
   "id": "577476d6-48bd-4818-ac07-367fc2735dad",
   "metadata": {},
   "outputs": [
    {
     "name": "stdout",
     "output_type": "stream",
     "text": [
      "(298,)\n"
     ]
    }
   ],
   "source": [
    "cur.execute('SELECT COUNT(*) FROM Users')\n",
    "user_count = cur.fetchone()\n",
    "print(user_count)"
   ]
  },
  {
   "cell_type": "code",
   "execution_count": 16,
   "id": "5fe7f725-9d17-4ade-a8ee-5025cb7d286b",
   "metadata": {},
   "outputs": [
    {
     "name": "stdout",
     "output_type": "stream",
     "text": [
      "(0, 'user_id', 'INTEGER', 0, None, 0)\n",
      "(1, 'book_id', 'INTEGER', 0, None, 0)\n",
      "(2, 'user_rating', 'INTEGER', 0, None, 0)\n",
      "(3, 'avg_rating', 'REAL', 0, None, 0)\n"
     ]
    }
   ],
   "source": [
    "for row in conn.execute(\"PRAGMA table_info(Ratings)\"):\n",
    "    print(row)"
   ]
  },
  {
   "cell_type": "code",
   "execution_count": 17,
   "id": "e636904f-4ace-4c63-8bbe-7cb47056369c",
   "metadata": {},
   "outputs": [],
   "source": [
    "conn.close()"
   ]
  },
  {
   "cell_type": "markdown",
   "id": "581b10c2-962b-4d5e-98c6-58efe648764f",
   "metadata": {},
   "source": [
    "## Results ##\n",
    "The database is correctly built with all books, users, and ratings accounted for! There are 9902 unique combinations of book title and cover URL. While I'd like to go through and merge all unique editions into a single entry, I don't expect it would be worth the effort for the purposes of this project."
   ]
  }
 ],
 "metadata": {
  "kernelspec": {
   "display_name": "Python 3 (ipykernel)",
   "language": "python",
   "name": "python3"
  },
  "language_info": {
   "codemirror_mode": {
    "name": "ipython",
    "version": 3
   },
   "file_extension": ".py",
   "mimetype": "text/x-python",
   "name": "python",
   "nbconvert_exporter": "python",
   "pygments_lexer": "ipython3",
   "version": "3.9.18"
  }
 },
 "nbformat": 4,
 "nbformat_minor": 5
}
