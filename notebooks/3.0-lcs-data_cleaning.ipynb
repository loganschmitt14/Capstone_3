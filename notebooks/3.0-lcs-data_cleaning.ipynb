{
 "cells": [
  {
   "cell_type": "markdown",
   "id": "8ed52303-202d-42bb-9697-f5676f83a248",
   "metadata": {},
   "source": [
    "# Data Cleaning and EDA #\n",
    "The script has gathered up to 100 reviews per user for almost 300 users. Time to make sure all the data is present"
   ]
  },
  {
   "cell_type": "code",
   "execution_count": 1,
   "id": "762b1574-7809-4150-9af2-e9a3f3e744ca",
   "metadata": {},
   "outputs": [],
   "source": [
    "import pandas as pd\n",
    "import sqlite3\n",
    "import numpy as np\n",
    "import os\n",
    "from pathlib import Path\n",
    "import seaborn as sns\n",
    "import matplotlib.pyplot as plt"
   ]
  },
  {
   "cell_type": "code",
   "execution_count": 2,
   "id": "1a3f9bf7-1393-4d00-af9f-4d561582c37d",
   "metadata": {},
   "outputs": [],
   "source": [
    "# File path to the consolidated data\n",
    "path = '../data/interim/consolidated_data.csv'"
   ]
  },
  {
   "cell_type": "code",
   "execution_count": 3,
   "id": "47a23768-70cf-464e-860c-25afea604990",
   "metadata": {},
   "outputs": [
    {
     "data": {
      "text/html": [
       "<div>\n",
       "<style scoped>\n",
       "    .dataframe tbody tr th:only-of-type {\n",
       "        vertical-align: middle;\n",
       "    }\n",
       "\n",
       "    .dataframe tbody tr th {\n",
       "        vertical-align: top;\n",
       "    }\n",
       "\n",
       "    .dataframe thead th {\n",
       "        text-align: right;\n",
       "    }\n",
       "</style>\n",
       "<table border=\"1\" class=\"dataframe\">\n",
       "  <thead>\n",
       "    <tr style=\"text-align: right;\">\n",
       "      <th></th>\n",
       "      <th>title</th>\n",
       "      <th>author</th>\n",
       "      <th>avg_rating</th>\n",
       "      <th>user_rating</th>\n",
       "      <th>cover_url</th>\n",
       "      <th>user_id</th>\n",
       "    </tr>\n",
       "  </thead>\n",
       "  <tbody>\n",
       "    <tr>\n",
       "      <th>0</th>\n",
       "      <td>Harry Potter and the Sorcerer's Stone (Harry P...</td>\n",
       "      <td>NaN</td>\n",
       "      <td>4.47</td>\n",
       "      <td>5</td>\n",
       "      <td>https://i.gr-assets.com/images/S/compressed.ph...</td>\n",
       "      <td>1</td>\n",
       "    </tr>\n",
       "    <tr>\n",
       "      <th>1</th>\n",
       "      <td>The Hunger Games (The Hunger Games, #1)</td>\n",
       "      <td>NaN</td>\n",
       "      <td>4.33</td>\n",
       "      <td>5</td>\n",
       "      <td>https://i.gr-assets.com/images/S/compressed.ph...</td>\n",
       "      <td>1</td>\n",
       "    </tr>\n",
       "    <tr>\n",
       "      <th>2</th>\n",
       "      <td>To Kill a Mockingbird</td>\n",
       "      <td>NaN</td>\n",
       "      <td>4.26</td>\n",
       "      <td>5</td>\n",
       "      <td>https://i.gr-assets.com/images/S/compressed.ph...</td>\n",
       "      <td>1</td>\n",
       "    </tr>\n",
       "    <tr>\n",
       "      <th>3</th>\n",
       "      <td>The Great Gatsby</td>\n",
       "      <td>NaN</td>\n",
       "      <td>3.93</td>\n",
       "      <td>4</td>\n",
       "      <td>https://i.gr-assets.com/images/S/compressed.ph...</td>\n",
       "      <td>1</td>\n",
       "    </tr>\n",
       "    <tr>\n",
       "      <th>4</th>\n",
       "      <td>1984</td>\n",
       "      <td>NaN</td>\n",
       "      <td>4.19</td>\n",
       "      <td>5</td>\n",
       "      <td>https://i.gr-assets.com/images/S/compressed.ph...</td>\n",
       "      <td>1</td>\n",
       "    </tr>\n",
       "  </tbody>\n",
       "</table>\n",
       "</div>"
      ],
      "text/plain": [
       "                                               title  author  avg_rating  \\\n",
       "0  Harry Potter and the Sorcerer's Stone (Harry P...     NaN        4.47   \n",
       "1            The Hunger Games (The Hunger Games, #1)     NaN        4.33   \n",
       "2                              To Kill a Mockingbird     NaN        4.26   \n",
       "3                                   The Great Gatsby     NaN        3.93   \n",
       "4                                               1984     NaN        4.19   \n",
       "\n",
       "   user_rating                                          cover_url  user_id  \n",
       "0            5  https://i.gr-assets.com/images/S/compressed.ph...        1  \n",
       "1            5  https://i.gr-assets.com/images/S/compressed.ph...        1  \n",
       "2            5  https://i.gr-assets.com/images/S/compressed.ph...        1  \n",
       "3            4  https://i.gr-assets.com/images/S/compressed.ph...        1  \n",
       "4            5  https://i.gr-assets.com/images/S/compressed.ph...        1  "
      ]
     },
     "execution_count": 3,
     "metadata": {},
     "output_type": "execute_result"
    }
   ],
   "source": [
    "df = pd.read_csv(path)\n",
    "df.head()"
   ]
  },
  {
   "cell_type": "code",
   "execution_count": 4,
   "id": "fc5a956c-a83d-45a9-9be4-ba92edc5ecac",
   "metadata": {},
   "outputs": [
    {
     "data": {
      "text/plain": [
       "(29530, 6)"
      ]
     },
     "execution_count": 4,
     "metadata": {},
     "output_type": "execute_result"
    }
   ],
   "source": [
    "df.shape"
   ]
  },
  {
   "cell_type": "code",
   "execution_count": 5,
   "id": "afb480bf-c1c5-4762-8952-4d620d26ce4f",
   "metadata": {},
   "outputs": [
    {
     "data": {
      "text/plain": [
       "6334"
      ]
     },
     "execution_count": 5,
     "metadata": {},
     "output_type": "execute_result"
    }
   ],
   "source": [
    "df['title'].nunique()"
   ]
  },
  {
   "cell_type": "code",
   "execution_count": 6,
   "id": "7e5a790e-8a3d-4a8e-ae05-8d7d7c23b615",
   "metadata": {},
   "outputs": [
    {
     "data": {
      "text/plain": [
       "9872"
      ]
     },
     "execution_count": 6,
     "metadata": {},
     "output_type": "execute_result"
    }
   ],
   "source": [
    "df['cover_url'].nunique()"
   ]
  },
  {
   "cell_type": "code",
   "execution_count": 7,
   "id": "f71fc5c7-5e44-4d54-a3ab-f5227fe9544c",
   "metadata": {},
   "outputs": [
    {
     "data": {
      "text/plain": [
       "title              0\n",
       "author         29530\n",
       "avg_rating         0\n",
       "user_rating        0\n",
       "cover_url          0\n",
       "user_id            0\n",
       "dtype: int64"
      ]
     },
     "execution_count": 7,
     "metadata": {},
     "output_type": "execute_result"
    }
   ],
   "source": [
    "df.isna().sum()"
   ]
  },
  {
   "cell_type": "code",
   "execution_count": 8,
   "id": "b3a182e2-eaf6-413d-9da8-70d978f5c69a",
   "metadata": {},
   "outputs": [
    {
     "data": {
      "text/plain": [
       "dtype('int64')"
      ]
     },
     "execution_count": 8,
     "metadata": {},
     "output_type": "execute_result"
    }
   ],
   "source": [
    "df.user_id.unique().dtype"
   ]
  },
  {
   "cell_type": "code",
   "execution_count": 9,
   "id": "a4dddd30-2973-4be7-9c62-e0340e9197f9",
   "metadata": {},
   "outputs": [
    {
     "name": "stdout",
     "output_type": "stream",
     "text": [
      "Empty DataFrame\n",
      "Columns: [title, author, avg_rating, user_rating, cover_url, user_id]\n",
      "Index: []\n"
     ]
    }
   ],
   "source": [
    "non_integers = df[pd.to_numeric(df['user_id'], errors='coerce').isna()]\n",
    "print(non_integers)"
   ]
  },
  {
   "cell_type": "markdown",
   "id": "12117fec-ddf3-46a5-928a-e36fe970900b",
   "metadata": {},
   "source": [
    "### First Impressions ###\n",
    "There are 29,530 reviews here, but only 6,334 unique books. This isn't a huge surprise, since I sorted each user's \"read\" shelf by most-reviewed and scraped the top 100. I'm actually glad to see this much variety. This should mean that I have legitimate recommendation power but that I don't recommend very obscure or unpopular books. There are more unique cover URLs due to different editions existing for many of the books.\n",
    "\n",
    "The script also failed to gather the \"author\" column for some reason. This information would be nice to have but ultimately isn't worth the time to re-run the script. If this project were going into production, I'd gather far more than title, author, and rating anyways. I'll drop the author column for now."
   ]
  },
  {
   "cell_type": "code",
   "execution_count": 10,
   "id": "8a6b970b-2419-445b-9085-9838af4c11cc",
   "metadata": {},
   "outputs": [
    {
     "data": {
      "text/html": [
       "<div>\n",
       "<style scoped>\n",
       "    .dataframe tbody tr th:only-of-type {\n",
       "        vertical-align: middle;\n",
       "    }\n",
       "\n",
       "    .dataframe tbody tr th {\n",
       "        vertical-align: top;\n",
       "    }\n",
       "\n",
       "    .dataframe thead th {\n",
       "        text-align: right;\n",
       "    }\n",
       "</style>\n",
       "<table border=\"1\" class=\"dataframe\">\n",
       "  <thead>\n",
       "    <tr style=\"text-align: right;\">\n",
       "      <th></th>\n",
       "      <th>title</th>\n",
       "      <th>avg_rating</th>\n",
       "      <th>user_rating</th>\n",
       "      <th>cover_url</th>\n",
       "      <th>user_id</th>\n",
       "    </tr>\n",
       "  </thead>\n",
       "  <tbody>\n",
       "    <tr>\n",
       "      <th>0</th>\n",
       "      <td>Harry Potter and the Sorcerer's Stone (Harry P...</td>\n",
       "      <td>4.47</td>\n",
       "      <td>5</td>\n",
       "      <td>https://i.gr-assets.com/images/S/compressed.ph...</td>\n",
       "      <td>1</td>\n",
       "    </tr>\n",
       "    <tr>\n",
       "      <th>1</th>\n",
       "      <td>The Hunger Games (The Hunger Games, #1)</td>\n",
       "      <td>4.33</td>\n",
       "      <td>5</td>\n",
       "      <td>https://i.gr-assets.com/images/S/compressed.ph...</td>\n",
       "      <td>1</td>\n",
       "    </tr>\n",
       "    <tr>\n",
       "      <th>2</th>\n",
       "      <td>To Kill a Mockingbird</td>\n",
       "      <td>4.26</td>\n",
       "      <td>5</td>\n",
       "      <td>https://i.gr-assets.com/images/S/compressed.ph...</td>\n",
       "      <td>1</td>\n",
       "    </tr>\n",
       "    <tr>\n",
       "      <th>3</th>\n",
       "      <td>The Great Gatsby</td>\n",
       "      <td>3.93</td>\n",
       "      <td>4</td>\n",
       "      <td>https://i.gr-assets.com/images/S/compressed.ph...</td>\n",
       "      <td>1</td>\n",
       "    </tr>\n",
       "    <tr>\n",
       "      <th>4</th>\n",
       "      <td>1984</td>\n",
       "      <td>4.19</td>\n",
       "      <td>5</td>\n",
       "      <td>https://i.gr-assets.com/images/S/compressed.ph...</td>\n",
       "      <td>1</td>\n",
       "    </tr>\n",
       "  </tbody>\n",
       "</table>\n",
       "</div>"
      ],
      "text/plain": [
       "                                               title  avg_rating  user_rating  \\\n",
       "0  Harry Potter and the Sorcerer's Stone (Harry P...        4.47            5   \n",
       "1            The Hunger Games (The Hunger Games, #1)        4.33            5   \n",
       "2                              To Kill a Mockingbird        4.26            5   \n",
       "3                                   The Great Gatsby        3.93            4   \n",
       "4                                               1984        4.19            5   \n",
       "\n",
       "                                           cover_url  user_id  \n",
       "0  https://i.gr-assets.com/images/S/compressed.ph...        1  \n",
       "1  https://i.gr-assets.com/images/S/compressed.ph...        1  \n",
       "2  https://i.gr-assets.com/images/S/compressed.ph...        1  \n",
       "3  https://i.gr-assets.com/images/S/compressed.ph...        1  \n",
       "4  https://i.gr-assets.com/images/S/compressed.ph...        1  "
      ]
     },
     "execution_count": 10,
     "metadata": {},
     "output_type": "execute_result"
    }
   ],
   "source": [
    "try:\n",
    "    df = df.drop('author', axis = 1)\n",
    "except:\n",
    "    pass\n",
    "df.head()"
   ]
  },
  {
   "cell_type": "markdown",
   "id": "d0c13c56-2a01-4b3d-8246-f877d89e8bb1",
   "metadata": {},
   "source": [
    "# SQL Database Exploration #\n",
    "Now I want to check out the relational database I made from the data"
   ]
  },
  {
   "cell_type": "code",
   "execution_count": 11,
   "id": "b5132d60-ebc0-49d3-bf94-5ff373cb812f",
   "metadata": {},
   "outputs": [],
   "source": [
    "database_path = os.path.abspath(\n",
    "            os.path.join(\n",
    "                os.pardir,\n",
    "                'data',\n",
    "                'processed',\n",
    "                'books.db'\n",
    "                )\n",
    "            )\n",
    "\n",
    "conn = sqlite3.connect(database_path)"
   ]
  },
  {
   "cell_type": "code",
   "execution_count": 12,
   "id": "c4a3a1cb-f545-41bd-9ec5-88ee5080262f",
   "metadata": {},
   "outputs": [
    {
     "name": "stdout",
     "output_type": "stream",
     "text": [
      "(1, 1, 5, 4.47)\n",
      "(10160415, 1, 0, 4.47)\n",
      "(1019021, 1, 5, 4.47)\n",
      "(10367112, 1, 4, 4.47)\n",
      "(104823, 1, 4, 4.47)\n",
      "(1053760, 1, 5, 4.47)\n",
      "(10553671, 1, 5, 4.47)\n",
      "(106638288, 1, 3, 4.47)\n",
      "(1072582, 1, 5, 4.47)\n",
      "(10915830, 1, 5, 4.47)\n"
     ]
    }
   ],
   "source": [
    "cur = conn.cursor()\n",
    "cur.execute('SELECT * FROM Ratings LIMIT 10')\n",
    "results = cur.fetchall()\n",
    "\n",
    "for row in results:\n",
    "    print(row)"
   ]
  },
  {
   "cell_type": "code",
   "execution_count": 13,
   "id": "6c2017bb-4a46-4887-bf87-f6d75c5c04c7",
   "metadata": {},
   "outputs": [
    {
     "name": "stdout",
     "output_type": "stream",
     "text": [
      "(1, \"Harry Potter and the Sorcerer's Stone (Harry Potter, #1)\", 'https://i.gr-assets.com/images/S/compressed.photo.goodreads.com/books/1474154022l/3._SY75_.jpg')\n",
      "(2, 'The Hunger Games (The Hunger Games, #1)', 'https://i.gr-assets.com/images/S/compressed.photo.goodreads.com/books/1586722975l/2767052._SX50_.jpg')\n",
      "(3, 'To Kill a Mockingbird', 'https://i.gr-assets.com/images/S/compressed.photo.goodreads.com/books/1553383690l/2657._SY75_.jpg')\n",
      "(4, 'The Great Gatsby', 'https://i.gr-assets.com/images/S/compressed.photo.goodreads.com/books/1490528560l/4671._SY75_.jpg')\n",
      "(5, '1984', 'https://i.gr-assets.com/images/S/compressed.photo.goodreads.com/books/1348990566l/5470._SY75_.jpg')\n",
      "(6, 'Pride and Prejudice', 'https://i.gr-assets.com/images/S/compressed.photo.goodreads.com/books/1622158493l/1893._SX50_.jpg')\n",
      "(7, 'Harry Potter and the Prisoner of Azkaban (Harry Potter, #3)', 'https://i.gr-assets.com/images/S/compressed.photo.goodreads.com/books/1630547330l/5._SY75_.jpg')\n",
      "(8, 'The Hobbit (The Lord of the Rings, #0)', 'https://i.gr-assets.com/images/S/compressed.photo.goodreads.com/books/1546071216l/5907._SY75_.jpg')\n",
      "(9, 'Harry Potter and the Chamber of Secrets (Harry Potter, #2)', 'https://i.gr-assets.com/images/S/compressed.photo.goodreads.com/books/1474154604l/4._SY75_.jpg')\n",
      "(10, 'The Diary of a Young Girl', 'https://i.gr-assets.com/images/S/compressed.photo.goodreads.com/books/1560816565l/48855._SY75_.jpg')\n"
     ]
    }
   ],
   "source": [
    "cur = conn.cursor()\n",
    "cur.execute('SELECT * FROM Books LIMIT 10')\n",
    "results = cur.fetchall()\n",
    "\n",
    "for row in results:\n",
    "    print(row)"
   ]
  },
  {
   "cell_type": "code",
   "execution_count": 14,
   "id": "434ae33d-af6d-496d-85db-25f2cc3decc2",
   "metadata": {},
   "outputs": [
    {
     "name": "stdout",
     "output_type": "stream",
     "text": [
      "(9909,)\n"
     ]
    }
   ],
   "source": [
    "cur.execute('SELECT COUNT(*) FROM Books')\n",
    "book_count = cur.fetchone()\n",
    "print(book_count)"
   ]
  },
  {
   "cell_type": "code",
   "execution_count": 15,
   "id": "577476d6-48bd-4818-ac07-367fc2735dad",
   "metadata": {},
   "outputs": [
    {
     "name": "stdout",
     "output_type": "stream",
     "text": [
      "(298,)\n"
     ]
    }
   ],
   "source": [
    "cur.execute('SELECT COUNT(*) FROM Users')\n",
    "user_count = cur.fetchone()\n",
    "print(user_count)"
   ]
  },
  {
   "cell_type": "code",
   "execution_count": 16,
   "id": "5fe7f725-9d17-4ade-a8ee-5025cb7d286b",
   "metadata": {},
   "outputs": [
    {
     "name": "stdout",
     "output_type": "stream",
     "text": [
      "(0, 'user_id', 'INTEGER', 0, None, 0)\n",
      "(1, 'book_id', 'INTEGER', 0, None, 0)\n",
      "(2, 'user_rating', 'INTEGER', 0, None, 0)\n",
      "(3, 'avg_rating', 'REAL', 0, None, 0)\n"
     ]
    }
   ],
   "source": [
    "for row in conn.execute('PRAGMA table_info(Ratings)'):\n",
    "    print(row)"
   ]
  },
  {
   "cell_type": "markdown",
   "id": "581b10c2-962b-4d5e-98c6-58efe648764f",
   "metadata": {},
   "source": [
    "### Database Assessment ###\n",
    "The database is correctly built with all books, users, and ratings accounted for! There are 9902 unique combinations of book title and cover URL. While I'd like to go through and merge all unique editions into a single entry, I don't expect it would be worth the effort for the purposes of this project."
   ]
  },
  {
   "cell_type": "markdown",
   "id": "1c6c45a9-939b-4e1a-a828-30b3d0cb050b",
   "metadata": {},
   "source": [
    "## EDA ##\n",
    "Now I want to take a look at the distributions of books and ratings."
   ]
  },
  {
   "cell_type": "code",
   "execution_count": 17,
   "id": "acb05068-d004-43db-a8b3-f11b060f0d21",
   "metadata": {},
   "outputs": [],
   "source": [
    "query = '''\n",
    "SELECT b.title, AVG(r.avg_rating) as avg_rating, COUNT(r.user_rating) as votes\n",
    "FROM Books b\n",
    "JOIN Ratings r ON b.book_id = r.book_id\n",
    "GROUP BY b.title\n",
    "'''\n",
    "books_avg_ratings_df = pd.read_sql_query(query, conn)"
   ]
  },
  {
   "cell_type": "code",
   "execution_count": 18,
   "id": "a336b9e4-44e4-49a3-9ed7-5bc9799f2c30",
   "metadata": {},
   "outputs": [
    {
     "data": {
      "text/html": [
       "<div>\n",
       "<style scoped>\n",
       "    .dataframe tbody tr th:only-of-type {\n",
       "        vertical-align: middle;\n",
       "    }\n",
       "\n",
       "    .dataframe tbody tr th {\n",
       "        vertical-align: top;\n",
       "    }\n",
       "\n",
       "    .dataframe thead th {\n",
       "        text-align: right;\n",
       "    }\n",
       "</style>\n",
       "<table border=\"1\" class=\"dataframe\">\n",
       "  <thead>\n",
       "    <tr style=\"text-align: right;\">\n",
       "      <th></th>\n",
       "      <th>title</th>\n",
       "      <th>avg_rating</th>\n",
       "      <th>votes</th>\n",
       "    </tr>\n",
       "  </thead>\n",
       "  <tbody>\n",
       "    <tr>\n",
       "      <th>4809</th>\n",
       "      <td>The Hunger Games (The Hunger Games, #1)</td>\n",
       "      <td>4.33</td>\n",
       "      <td>177</td>\n",
       "    </tr>\n",
       "    <tr>\n",
       "      <th>1970</th>\n",
       "      <td>Harry Potter and the Sorcerer's Stone (Harry P...</td>\n",
       "      <td>4.47</td>\n",
       "      <td>173</td>\n",
       "    </tr>\n",
       "    <tr>\n",
       "      <th>1945</th>\n",
       "      <td>Harry Potter and the Chamber of Secrets (Harry...</td>\n",
       "      <td>4.43</td>\n",
       "      <td>160</td>\n",
       "    </tr>\n",
       "    <tr>\n",
       "      <th>4699</th>\n",
       "      <td>The Great Gatsby</td>\n",
       "      <td>3.93</td>\n",
       "      <td>159</td>\n",
       "    </tr>\n",
       "    <tr>\n",
       "      <th>5788</th>\n",
       "      <td>To Kill a Mockingbird</td>\n",
       "      <td>4.26</td>\n",
       "      <td>155</td>\n",
       "    </tr>\n",
       "    <tr>\n",
       "      <th>1967</th>\n",
       "      <td>Harry Potter and the Prisoner of Azkaban (Harr...</td>\n",
       "      <td>4.58</td>\n",
       "      <td>154</td>\n",
       "    </tr>\n",
       "    <tr>\n",
       "      <th>1956</th>\n",
       "      <td>Harry Potter and the Goblet of Fire (Harry Pot...</td>\n",
       "      <td>4.56</td>\n",
       "      <td>153</td>\n",
       "    </tr>\n",
       "    <tr>\n",
       "      <th>1953</th>\n",
       "      <td>Harry Potter and the Deathly Hallows (Harry Po...</td>\n",
       "      <td>4.62</td>\n",
       "      <td>146</td>\n",
       "    </tr>\n",
       "    <tr>\n",
       "      <th>873</th>\n",
       "      <td>Catching Fire (The Hunger Games, #2)</td>\n",
       "      <td>4.32</td>\n",
       "      <td>146</td>\n",
       "    </tr>\n",
       "    <tr>\n",
       "      <th>1960</th>\n",
       "      <td>Harry Potter and the Order of the Phoenix (Har...</td>\n",
       "      <td>4.50</td>\n",
       "      <td>144</td>\n",
       "    </tr>\n",
       "  </tbody>\n",
       "</table>\n",
       "</div>"
      ],
      "text/plain": [
       "                                                  title  avg_rating  votes\n",
       "4809            The Hunger Games (The Hunger Games, #1)        4.33    177\n",
       "1970  Harry Potter and the Sorcerer's Stone (Harry P...        4.47    173\n",
       "1945  Harry Potter and the Chamber of Secrets (Harry...        4.43    160\n",
       "4699                                   The Great Gatsby        3.93    159\n",
       "5788                              To Kill a Mockingbird        4.26    155\n",
       "1967  Harry Potter and the Prisoner of Azkaban (Harr...        4.58    154\n",
       "1956  Harry Potter and the Goblet of Fire (Harry Pot...        4.56    153\n",
       "1953  Harry Potter and the Deathly Hallows (Harry Po...        4.62    146\n",
       "873                Catching Fire (The Hunger Games, #2)        4.32    146\n",
       "1960  Harry Potter and the Order of the Phoenix (Har...        4.50    144"
      ]
     },
     "execution_count": 18,
     "metadata": {},
     "output_type": "execute_result"
    }
   ],
   "source": [
    "books_avg_ratings_df.sort_values(by = ['votes', 'avg_rating'], ascending = [False, False]).head(10)"
   ]
  },
  {
   "cell_type": "markdown",
   "id": "28fbe239-d62e-4392-aba8-b6a31fcf37e1",
   "metadata": {},
   "source": [
    "The most popular book appears to be the first Hunger Games book, with 177 reviews among 298 users. The first Harry Potter book is right behind with 173 reviews. I'm very surprised that Harry Potter and the Half-Blood Prince is so low compared to the rest of the books in the series."
   ]
  },
  {
   "cell_type": "code",
   "execution_count": 19,
   "id": "1bbe1063-fa93-46e2-9c8b-71bdfd7bb141",
   "metadata": {},
   "outputs": [
    {
     "data": {
      "text/html": [
       "<div>\n",
       "<style scoped>\n",
       "    .dataframe tbody tr th:only-of-type {\n",
       "        vertical-align: middle;\n",
       "    }\n",
       "\n",
       "    .dataframe tbody tr th {\n",
       "        vertical-align: top;\n",
       "    }\n",
       "\n",
       "    .dataframe thead th {\n",
       "        text-align: right;\n",
       "    }\n",
       "</style>\n",
       "<table border=\"1\" class=\"dataframe\">\n",
       "  <thead>\n",
       "    <tr style=\"text-align: right;\">\n",
       "      <th></th>\n",
       "      <th>user_id</th>\n",
       "      <th>book_id</th>\n",
       "      <th>user_rating</th>\n",
       "      <th>avg_rating</th>\n",
       "    </tr>\n",
       "  </thead>\n",
       "  <tbody>\n",
       "    <tr>\n",
       "      <th>0</th>\n",
       "      <td>1</td>\n",
       "      <td>1</td>\n",
       "      <td>5</td>\n",
       "      <td>4.47</td>\n",
       "    </tr>\n",
       "    <tr>\n",
       "      <th>1</th>\n",
       "      <td>10160415</td>\n",
       "      <td>1</td>\n",
       "      <td>0</td>\n",
       "      <td>4.47</td>\n",
       "    </tr>\n",
       "    <tr>\n",
       "      <th>2</th>\n",
       "      <td>1019021</td>\n",
       "      <td>1</td>\n",
       "      <td>5</td>\n",
       "      <td>4.47</td>\n",
       "    </tr>\n",
       "    <tr>\n",
       "      <th>3</th>\n",
       "      <td>10367112</td>\n",
       "      <td>1</td>\n",
       "      <td>4</td>\n",
       "      <td>4.47</td>\n",
       "    </tr>\n",
       "    <tr>\n",
       "      <th>4</th>\n",
       "      <td>104823</td>\n",
       "      <td>1</td>\n",
       "      <td>4</td>\n",
       "      <td>4.47</td>\n",
       "    </tr>\n",
       "  </tbody>\n",
       "</table>\n",
       "</div>"
      ],
      "text/plain": [
       "    user_id  book_id  user_rating  avg_rating\n",
       "0         1        1            5        4.47\n",
       "1  10160415        1            0        4.47\n",
       "2   1019021        1            5        4.47\n",
       "3  10367112        1            4        4.47\n",
       "4    104823        1            4        4.47"
      ]
     },
     "execution_count": 19,
     "metadata": {},
     "output_type": "execute_result"
    }
   ],
   "source": [
    "ratings_df = pd.read_sql_query('SELECT * FROM Ratings', conn)\n",
    "ratings_df.head()"
   ]
  },
  {
   "cell_type": "code",
   "execution_count": 20,
   "id": "d14b215a-9578-4ba1-81ba-71c29bd98054",
   "metadata": {},
   "outputs": [
    {
     "data": {
      "image/png": "[encoded data removed]",
      "text/plain": [
       "<Figure size 1000x600 with 1 Axes>"
      ]
     },
     "metadata": {},
     "output_type": "display_data"
    }
   ],
   "source": [
    "plt.figure(figsize=(10, 6))\n",
    "sns.histplot(ratings_df['user_rating'], kde = True)\n",
    "sns.histplot(books_avg_ratings_df['avg_rating'], kde = True, bins = 20)\n",
    "plt.title('Distribution of User Ratings')\n",
    "plt.xlabel('User Rating')\n",
    "plt.ylabel('Frequency')\n",
    "plt.show()"
   ]
  },
  {
   "cell_type": "markdown",
   "id": "848a0cf4-e061-496a-8c85-17c953a1de0e",
   "metadata": {},
   "source": [
    "The above histograms show the distribution of user ratings in blue and the distribution of average ratings in orange. It is not surprising that the most popular users would give the most popular books a high rating generally. I am a little surprised that these users give out so many 5-star reviews. While it is very subjective, many Goodreads users adhere to the same rating scale, where a 5-star rating is reserved for the user's favorite books of all time. But I suppose that popular, well-reviewed books are exactly that for a reason. The median book in this dataset has an average rating of just over 4 stars. Ths distribution of average ratings has a longer tail on the left, which makes sense due to the cap at 5 stars. I'm a little surprised to see that some of the books on this list managed to be popular enough but also average fewer than 3 stars."
   ]
  },
  {
   "cell_type": "code",
   "execution_count": 21,
   "id": "98ccd6aa-666c-49e8-b98b-4f924c970964",
   "metadata": {},
   "outputs": [],
   "source": [
    "query = '''\n",
    "SELECT user_id, AVG(user_rating) as user_avg_rating\n",
    "FROM Ratings r\n",
    "GROUP BY user_id\n",
    "'''\n",
    "user_avg_ratings_df = pd.read_sql_query(query, conn)"
   ]
  },
  {
   "cell_type": "code",
   "execution_count": 22,
   "id": "fa62c5e5-a8f9-4f91-93c1-2d42c588520e",
   "metadata": {},
   "outputs": [
    {
     "data": {
      "image/png": "[encoded data removed]",
      "text/plain": [
       "<Figure size 1000x600 with 1 Axes>"
      ]
     },
     "metadata": {},
     "output_type": "display_data"
    }
   ],
   "source": [
    "plt.figure(figsize=(10, 6))\n",
    "sns.histplot(user_avg_ratings_df['user_avg_rating'], kde = True, bins = 20)\n",
    "plt.title('Distribution of User Average Ratings')\n",
    "plt.xlabel('User Avg Rating')\n",
    "plt.ylabel('Frequency')\n",
    "plt.show()"
   ]
  },
  {
   "cell_type": "markdown",
   "id": "9ac86ca7-30a5-46c0-8e8f-fc2dde11006e",
   "metadata": {},
   "source": [
    "This histogram plot shows the distribution of each user's average rating. Some users clearly love the popular books, giving out an average of almost 5 stars. Many users are clustered around the 4-star average rating. Some users, on the other hand, seem to be haters and give out generally very low scores. I'll check those users out."
   ]
  },
  {
   "cell_type": "code",
   "execution_count": 23,
   "id": "58e9e6d0-6fbc-4294-8303-185731ce25a6",
   "metadata": {},
   "outputs": [],
   "source": [
    "query = '''\n",
    "SELECT user_id, SUM(user_rating == 0) AS zero_star, SUM(user_rating == 1) AS one_star, SUM(user_rating == 2) AS two_star,\n",
    "SUM(user_rating == 3) AS three_star, SUM(user_rating == 4) AS four_star,\n",
    "SUM(user_rating == 5) AS five_star, \n",
    "AVG(user_rating) AS user_avg\n",
    "FROM Ratings r\n",
    "GROUP BY user_id\n",
    "HAVING AVG(user_rating) < 3\n",
    "'''\n",
    "\n",
    "low_ratings_df = pd.read_sql_query(query, conn)"
   ]
  },
  {
   "cell_type": "code",
   "execution_count": 24,
   "id": "212e7269-7cdf-4529-b16d-1b820ab7e386",
   "metadata": {},
   "outputs": [
    {
     "data": {
      "text/html": [
       "<div>\n",
       "<style scoped>\n",
       "    .dataframe tbody tr th:only-of-type {\n",
       "        vertical-align: middle;\n",
       "    }\n",
       "\n",
       "    .dataframe tbody tr th {\n",
       "        vertical-align: top;\n",
       "    }\n",
       "\n",
       "    .dataframe thead th {\n",
       "        text-align: right;\n",
       "    }\n",
       "</style>\n",
       "<table border=\"1\" class=\"dataframe\">\n",
       "  <thead>\n",
       "    <tr style=\"text-align: right;\">\n",
       "      <th></th>\n",
       "      <th>user_id</th>\n",
       "      <th>zero_star</th>\n",
       "      <th>one_star</th>\n",
       "      <th>two_star</th>\n",
       "      <th>three_star</th>\n",
       "      <th>four_star</th>\n",
       "      <th>five_star</th>\n",
       "      <th>user_avg</th>\n",
       "    </tr>\n",
       "  </thead>\n",
       "  <tbody>\n",
       "    <tr>\n",
       "      <th>0</th>\n",
       "      <td>914795</td>\n",
       "      <td>0</td>\n",
       "      <td>14</td>\n",
       "      <td>64</td>\n",
       "      <td>13</td>\n",
       "      <td>7</td>\n",
       "      <td>2</td>\n",
       "      <td>2.190000</td>\n",
       "    </tr>\n",
       "    <tr>\n",
       "      <th>1</th>\n",
       "      <td>1005037</td>\n",
       "      <td>39</td>\n",
       "      <td>5</td>\n",
       "      <td>6</td>\n",
       "      <td>11</td>\n",
       "      <td>19</td>\n",
       "      <td>20</td>\n",
       "      <td>2.260000</td>\n",
       "    </tr>\n",
       "    <tr>\n",
       "      <th>2</th>\n",
       "      <td>1113032</td>\n",
       "      <td>43</td>\n",
       "      <td>0</td>\n",
       "      <td>1</td>\n",
       "      <td>21</td>\n",
       "      <td>23</td>\n",
       "      <td>12</td>\n",
       "      <td>2.170000</td>\n",
       "    </tr>\n",
       "    <tr>\n",
       "      <th>3</th>\n",
       "      <td>1151637</td>\n",
       "      <td>53</td>\n",
       "      <td>2</td>\n",
       "      <td>6</td>\n",
       "      <td>11</td>\n",
       "      <td>20</td>\n",
       "      <td>8</td>\n",
       "      <td>1.670000</td>\n",
       "    </tr>\n",
       "    <tr>\n",
       "      <th>4</th>\n",
       "      <td>1162953</td>\n",
       "      <td>8</td>\n",
       "      <td>2</td>\n",
       "      <td>25</td>\n",
       "      <td>47</td>\n",
       "      <td>16</td>\n",
       "      <td>2</td>\n",
       "      <td>2.670000</td>\n",
       "    </tr>\n",
       "    <tr>\n",
       "      <th>5</th>\n",
       "      <td>2164884</td>\n",
       "      <td>18</td>\n",
       "      <td>3</td>\n",
       "      <td>22</td>\n",
       "      <td>39</td>\n",
       "      <td>18</td>\n",
       "      <td>0</td>\n",
       "      <td>2.360000</td>\n",
       "    </tr>\n",
       "    <tr>\n",
       "      <th>6</th>\n",
       "      <td>3258178</td>\n",
       "      <td>0</td>\n",
       "      <td>11</td>\n",
       "      <td>32</td>\n",
       "      <td>36</td>\n",
       "      <td>12</td>\n",
       "      <td>9</td>\n",
       "      <td>2.760000</td>\n",
       "    </tr>\n",
       "    <tr>\n",
       "      <th>7</th>\n",
       "      <td>3571171</td>\n",
       "      <td>4</td>\n",
       "      <td>8</td>\n",
       "      <td>21</td>\n",
       "      <td>50</td>\n",
       "      <td>14</td>\n",
       "      <td>3</td>\n",
       "      <td>2.710000</td>\n",
       "    </tr>\n",
       "    <tr>\n",
       "      <th>8</th>\n",
       "      <td>3734681</td>\n",
       "      <td>86</td>\n",
       "      <td>0</td>\n",
       "      <td>0</td>\n",
       "      <td>3</td>\n",
       "      <td>8</td>\n",
       "      <td>3</td>\n",
       "      <td>0.560000</td>\n",
       "    </tr>\n",
       "    <tr>\n",
       "      <th>9</th>\n",
       "      <td>5451550</td>\n",
       "      <td>79</td>\n",
       "      <td>0</td>\n",
       "      <td>1</td>\n",
       "      <td>6</td>\n",
       "      <td>14</td>\n",
       "      <td>0</td>\n",
       "      <td>0.760000</td>\n",
       "    </tr>\n",
       "    <tr>\n",
       "      <th>10</th>\n",
       "      <td>5626931</td>\n",
       "      <td>13</td>\n",
       "      <td>9</td>\n",
       "      <td>14</td>\n",
       "      <td>23</td>\n",
       "      <td>19</td>\n",
       "      <td>22</td>\n",
       "      <td>2.920000</td>\n",
       "    </tr>\n",
       "    <tr>\n",
       "      <th>11</th>\n",
       "      <td>7205303</td>\n",
       "      <td>98</td>\n",
       "      <td>0</td>\n",
       "      <td>0</td>\n",
       "      <td>1</td>\n",
       "      <td>1</td>\n",
       "      <td>0</td>\n",
       "      <td>0.070000</td>\n",
       "    </tr>\n",
       "    <tr>\n",
       "      <th>12</th>\n",
       "      <td>8091367</td>\n",
       "      <td>28</td>\n",
       "      <td>58</td>\n",
       "      <td>2</td>\n",
       "      <td>5</td>\n",
       "      <td>7</td>\n",
       "      <td>0</td>\n",
       "      <td>1.050000</td>\n",
       "    </tr>\n",
       "    <tr>\n",
       "      <th>13</th>\n",
       "      <td>11237615</td>\n",
       "      <td>66</td>\n",
       "      <td>0</td>\n",
       "      <td>0</td>\n",
       "      <td>0</td>\n",
       "      <td>0</td>\n",
       "      <td>34</td>\n",
       "      <td>1.700000</td>\n",
       "    </tr>\n",
       "    <tr>\n",
       "      <th>14</th>\n",
       "      <td>11931807</td>\n",
       "      <td>42</td>\n",
       "      <td>0</td>\n",
       "      <td>3</td>\n",
       "      <td>16</td>\n",
       "      <td>37</td>\n",
       "      <td>2</td>\n",
       "      <td>2.120000</td>\n",
       "    </tr>\n",
       "    <tr>\n",
       "      <th>15</th>\n",
       "      <td>31880928</td>\n",
       "      <td>0</td>\n",
       "      <td>66</td>\n",
       "      <td>14</td>\n",
       "      <td>5</td>\n",
       "      <td>1</td>\n",
       "      <td>14</td>\n",
       "      <td>1.830000</td>\n",
       "    </tr>\n",
       "    <tr>\n",
       "      <th>16</th>\n",
       "      <td>44098542</td>\n",
       "      <td>0</td>\n",
       "      <td>39</td>\n",
       "      <td>22</td>\n",
       "      <td>10</td>\n",
       "      <td>17</td>\n",
       "      <td>12</td>\n",
       "      <td>2.410000</td>\n",
       "    </tr>\n",
       "    <tr>\n",
       "      <th>17</th>\n",
       "      <td>51221960</td>\n",
       "      <td>3</td>\n",
       "      <td>17</td>\n",
       "      <td>31</td>\n",
       "      <td>31</td>\n",
       "      <td>14</td>\n",
       "      <td>4</td>\n",
       "      <td>2.480000</td>\n",
       "    </tr>\n",
       "    <tr>\n",
       "      <th>18</th>\n",
       "      <td>77805119</td>\n",
       "      <td>56</td>\n",
       "      <td>0</td>\n",
       "      <td>0</td>\n",
       "      <td>0</td>\n",
       "      <td>4</td>\n",
       "      <td>40</td>\n",
       "      <td>2.160000</td>\n",
       "    </tr>\n",
       "    <tr>\n",
       "      <th>19</th>\n",
       "      <td>91822086</td>\n",
       "      <td>11</td>\n",
       "      <td>0</td>\n",
       "      <td>0</td>\n",
       "      <td>0</td>\n",
       "      <td>1</td>\n",
       "      <td>0</td>\n",
       "      <td>0.333333</td>\n",
       "    </tr>\n",
       "    <tr>\n",
       "      <th>20</th>\n",
       "      <td>154524237</td>\n",
       "      <td>7</td>\n",
       "      <td>1</td>\n",
       "      <td>0</td>\n",
       "      <td>0</td>\n",
       "      <td>1</td>\n",
       "      <td>0</td>\n",
       "      <td>0.555556</td>\n",
       "    </tr>\n",
       "  </tbody>\n",
       "</table>\n",
       "</div>"
      ],
      "text/plain": [
       "      user_id  zero_star  one_star  two_star  three_star  four_star  \\\n",
       "0      914795          0        14        64          13          7   \n",
       "1     1005037         39         5         6          11         19   \n",
       "2     1113032         43         0         1          21         23   \n",
       "3     1151637         53         2         6          11         20   \n",
       "4     1162953          8         2        25          47         16   \n",
       "5     2164884         18         3        22          39         18   \n",
       "6     3258178          0        11        32          36         12   \n",
       "7     3571171          4         8        21          50         14   \n",
       "8     3734681         86         0         0           3          8   \n",
       "9     5451550         79         0         1           6         14   \n",
       "10    5626931         13         9        14          23         19   \n",
       "11    7205303         98         0         0           1          1   \n",
       "12    8091367         28        58         2           5          7   \n",
       "13   11237615         66         0         0           0          0   \n",
       "14   11931807         42         0         3          16         37   \n",
       "15   31880928          0        66        14           5          1   \n",
       "16   44098542          0        39        22          10         17   \n",
       "17   51221960          3        17        31          31         14   \n",
       "18   77805119         56         0         0           0          4   \n",
       "19   91822086         11         0         0           0          1   \n",
       "20  154524237          7         1         0           0          1   \n",
       "\n",
       "    five_star  user_avg  \n",
       "0           2  2.190000  \n",
       "1          20  2.260000  \n",
       "2          12  2.170000  \n",
       "3           8  1.670000  \n",
       "4           2  2.670000  \n",
       "5           0  2.360000  \n",
       "6           9  2.760000  \n",
       "7           3  2.710000  \n",
       "8           3  0.560000  \n",
       "9           0  0.760000  \n",
       "10         22  2.920000  \n",
       "11          0  0.070000  \n",
       "12          0  1.050000  \n",
       "13         34  1.700000  \n",
       "14          2  2.120000  \n",
       "15         14  1.830000  \n",
       "16         12  2.410000  \n",
       "17          4  2.480000  \n",
       "18         40  2.160000  \n",
       "19          0  0.333333  \n",
       "20          0  0.555556  "
      ]
     },
     "execution_count": 24,
     "metadata": {},
     "output_type": "execute_result"
    }
   ],
   "source": [
    "low_ratings_df"
   ]
  },
  {
   "cell_type": "markdown",
   "id": "4ee9ab91-312d-4934-bede-e4071e464ae8",
   "metadata": {},
   "source": [
    "Right away I can see some users rarely rate books, often just logging them as \"read\" without assigning a score. These are users which I would likely drop from the training data if I refined my model further. As it stands, I'll keep them since I don't have a trememndously large dataset to begin with. I'm more intrigued by the users who score each book but are very stingy with high scores. User 3258178 for instance has no zeros and only 9 fives. They mostly rate books either 2 or 3 stars. "
   ]
  },
  {
   "cell_type": "code",
   "execution_count": 25,
   "id": "4e5e4673-ff07-4d2e-924e-59d2dda0b1f3",
   "metadata": {},
   "outputs": [],
   "source": [
    "query = '''\n",
    "SELECT r.user_id, b.title, r.user_rating, r.avg_rating \n",
    "FROM Ratings r\n",
    "JOIN Books b ON b.book_id = r.book_id\n",
    "WHERE user_id == 3258178\n",
    "'''\n",
    "\n",
    "user_3258178_df = pd.read_sql_query(query, conn)"
   ]
  },
  {
   "cell_type": "code",
   "execution_count": 26,
   "id": "c8ae3988-eb76-4843-8ce6-cfd534f7cbcc",
   "metadata": {},
   "outputs": [
    {
     "data": {
      "text/html": [
       "<div>\n",
       "<style scoped>\n",
       "    .dataframe tbody tr th:only-of-type {\n",
       "        vertical-align: middle;\n",
       "    }\n",
       "\n",
       "    .dataframe tbody tr th {\n",
       "        vertical-align: top;\n",
       "    }\n",
       "\n",
       "    .dataframe thead th {\n",
       "        text-align: right;\n",
       "    }\n",
       "</style>\n",
       "<table border=\"1\" class=\"dataframe\">\n",
       "  <thead>\n",
       "    <tr style=\"text-align: right;\">\n",
       "      <th></th>\n",
       "      <th>user_id</th>\n",
       "      <th>title</th>\n",
       "      <th>user_rating</th>\n",
       "      <th>avg_rating</th>\n",
       "      <th>diff</th>\n",
       "    </tr>\n",
       "  </thead>\n",
       "  <tbody>\n",
       "    <tr>\n",
       "      <th>25</th>\n",
       "      <td>3258178</td>\n",
       "      <td>Macbeth</td>\n",
       "      <td>5</td>\n",
       "      <td>3.90</td>\n",
       "      <td>1.10</td>\n",
       "    </tr>\n",
       "    <tr>\n",
       "      <th>37</th>\n",
       "      <td>3258178</td>\n",
       "      <td>Fahrenheit 451</td>\n",
       "      <td>5</td>\n",
       "      <td>3.97</td>\n",
       "      <td>1.03</td>\n",
       "    </tr>\n",
       "    <tr>\n",
       "      <th>82</th>\n",
       "      <td>3258178</td>\n",
       "      <td>Prince Caspian - Book 2 in the Chronicles of N...</td>\n",
       "      <td>5</td>\n",
       "      <td>3.98</td>\n",
       "      <td>1.02</td>\n",
       "    </tr>\n",
       "    <tr>\n",
       "      <th>39</th>\n",
       "      <td>3258178</td>\n",
       "      <td>Animal Farm</td>\n",
       "      <td>5</td>\n",
       "      <td>3.98</td>\n",
       "      <td>1.02</td>\n",
       "    </tr>\n",
       "    <tr>\n",
       "      <th>76</th>\n",
       "      <td>3258178</td>\n",
       "      <td>The Voyage Of The \"Dawn Treader\"</td>\n",
       "      <td>5</td>\n",
       "      <td>4.09</td>\n",
       "      <td>0.91</td>\n",
       "    </tr>\n",
       "    <tr>\n",
       "      <th>...</th>\n",
       "      <td>...</td>\n",
       "      <td>...</td>\n",
       "      <td>...</td>\n",
       "      <td>...</td>\n",
       "      <td>...</td>\n",
       "    </tr>\n",
       "    <tr>\n",
       "      <th>77</th>\n",
       "      <td>3258178</td>\n",
       "      <td>Along Came a Spider (Alex Cross, #1)</td>\n",
       "      <td>1</td>\n",
       "      <td>4.13</td>\n",
       "      <td>-3.13</td>\n",
       "    </tr>\n",
       "    <tr>\n",
       "      <th>17</th>\n",
       "      <td>3258178</td>\n",
       "      <td>Jane Eyre</td>\n",
       "      <td>1</td>\n",
       "      <td>4.15</td>\n",
       "      <td>-3.15</td>\n",
       "    </tr>\n",
       "    <tr>\n",
       "      <th>38</th>\n",
       "      <td>3258178</td>\n",
       "      <td>The Shining</td>\n",
       "      <td>1</td>\n",
       "      <td>4.26</td>\n",
       "      <td>-3.26</td>\n",
       "    </tr>\n",
       "    <tr>\n",
       "      <th>21</th>\n",
       "      <td>3258178</td>\n",
       "      <td>Pride and Prejudice</td>\n",
       "      <td>1</td>\n",
       "      <td>4.28</td>\n",
       "      <td>-3.28</td>\n",
       "    </tr>\n",
       "    <tr>\n",
       "      <th>19</th>\n",
       "      <td>3258178</td>\n",
       "      <td>Gone with the Wind</td>\n",
       "      <td>1</td>\n",
       "      <td>4.31</td>\n",
       "      <td>-3.31</td>\n",
       "    </tr>\n",
       "  </tbody>\n",
       "</table>\n",
       "<p>100 rows × 5 columns</p>\n",
       "</div>"
      ],
      "text/plain": [
       "    user_id                                              title  user_rating  \\\n",
       "25  3258178                                            Macbeth            5   \n",
       "37  3258178                                     Fahrenheit 451            5   \n",
       "82  3258178  Prince Caspian - Book 2 in the Chronicles of N...            5   \n",
       "39  3258178                                        Animal Farm            5   \n",
       "76  3258178                   The Voyage Of The \"Dawn Treader\"            5   \n",
       "..      ...                                                ...          ...   \n",
       "77  3258178               Along Came a Spider (Alex Cross, #1)            1   \n",
       "17  3258178                                          Jane Eyre            1   \n",
       "38  3258178                                        The Shining            1   \n",
       "21  3258178                                Pride and Prejudice            1   \n",
       "19  3258178                                 Gone with the Wind            1   \n",
       "\n",
       "    avg_rating  diff  \n",
       "25        3.90  1.10  \n",
       "37        3.97  1.03  \n",
       "82        3.98  1.02  \n",
       "39        3.98  1.02  \n",
       "76        4.09  0.91  \n",
       "..         ...   ...  \n",
       "77        4.13 -3.13  \n",
       "17        4.15 -3.15  \n",
       "38        4.26 -3.26  \n",
       "21        4.28 -3.28  \n",
       "19        4.31 -3.31  \n",
       "\n",
       "[100 rows x 5 columns]"
      ]
     },
     "execution_count": 26,
     "metadata": {},
     "output_type": "execute_result"
    }
   ],
   "source": [
    "differenced_df = user_3258178_df.assign(diff = (user_3258178_df['user_rating']) - user_3258178_df['avg_rating'])\n",
    "differenced_df.sort_values(by = 'diff', ascending = False)"
   ]
  },
  {
   "cell_type": "code",
   "execution_count": 27,
   "id": "4b55f2c1-1b37-4683-93fb-72ef0430482d",
   "metadata": {},
   "outputs": [
    {
     "data": {
      "text/plain": [
       "15"
      ]
     },
     "execution_count": 27,
     "metadata": {},
     "output_type": "execute_result"
    }
   ],
   "source": [
    "differenced_df['diff'].loc[differenced_df['diff'] > 0].count()"
   ]
  },
  {
   "cell_type": "code",
   "execution_count": 28,
   "id": "4fb154aa-e7fc-4331-99f7-4e93c604b010",
   "metadata": {},
   "outputs": [
    {
     "name": "stdout",
     "output_type": "stream",
     "text": [
      "The User averages a score of 2.76 stars compared to a Goodreads average of 4.07 stars\n",
      " for books in the user's library. This is an average differential of -1.31 stars.\n"
     ]
    }
   ],
   "source": [
    "user_avg = np.mean(differenced_df['user_rating'])\n",
    "goodreads_avg = np.mean(differenced_df['avg_rating'])\n",
    "diff_avg = np.mean(differenced_df['diff'])\n",
    "print(f\"The User averages a score of {user_avg} stars compared to a Goodreads average of \\\n",
    "{goodreads_avg:0.2f} stars\\n for books in the user's library. This is an average differential of \\\n",
    "{diff_avg:0.2f} stars.\")"
   ]
  },
  {
   "cell_type": "markdown",
   "id": "3f5df45f-8485-43e9-ad59-4f867ba534e2",
   "metadata": {},
   "source": [
    "plt.figure(figsize=(10, 6))\n",
    "sns.histplot(differenced_df['diff'], kde = True, bins = 25)\n",
    "plt.axvline(0, 0, 1, color = 'orange')\n",
    "plt.axvline(-1.31, 0, 1, color = 'red')\n",
    "plt.title('Distribution of User 3258178 Relative Ratings')\n",
    "plt.xlabel('Relative Rating (Goodreads Average - User Rating)')\n",
    "plt.ylabel('Frequency')\n",
    "plt.show()"
   ]
  },
  {
   "cell_type": "markdown",
   "id": "b64dbb3e-ee7d-4e76-ab13-9f619c9a46c4",
   "metadata": {},
   "source": [
    "This particular user is  particularly strict with their ratings. The user averages a rating of 2.76 stars, which is over a full star less than the average Goodreads rating for the books in their library. They have rated 15 books above the Goodreads average, so I wouldn't consider them a hater. They just tend not to love the most popular books."
   ]
  },
  {
   "cell_type": "markdown",
   "id": "16976f3d-c635-4e27-a6de-610ecd470d17",
   "metadata": {},
   "source": [
    "User 77805119 doesn't merit much analysis. They seem to treat the ratings as binary, rating most books either 0 or 5 stars. This could be good feedback for a model, equating to either a \"yes\" or \"no\" recommendation."
   ]
  },
  {
   "cell_type": "code",
   "execution_count": 29,
   "id": "3b66880b-d8a2-404d-8db7-46906ab63722",
   "metadata": {},
   "outputs": [],
   "source": [
    "conn.close()"
   ]
  },
  {
   "cell_type": "markdown",
   "id": "eeecbaf0-cdd3-4269-9df8-eaea48a4401f",
   "metadata": {},
   "source": [
    "# Conclusion #\n",
    "This exploration has shown me that the most popular Goodreads users do not have a uniform system for rating books. Many of them use a similar scale : \n",
    "* 1 star - I did not like it\n",
    "* 2 stars - It was fine\n",
    "* 3 stars - I liked it\n",
    "* 4 stars - I really liked it\n",
    "\n",
    "Other users rate very differently. The model will have to account for these variations as it learns how to recommend books based on user similarity scores. Realistically, I'll have to normalize and scale the scores during the feature engineering phase."
   ]
  }
 ],
 "metadata": {
  "kernelspec": {
   "display_name": "Python 3 (ipykernel)",
   "language": "python",
   "name": "python3"
  },
  "language_info": {
   "codemirror_mode": {
    "name": "ipython",
    "version": 3
   },
   "file_extension": ".py",
   "mimetype": "text/x-python",
   "name": "python",
   "nbconvert_exporter": "python",
   "pygments_lexer": "ipython3",
   "version": "3.9.18"
  }
 },
 "nbformat": 4,
 "nbformat_minor": 5
}
