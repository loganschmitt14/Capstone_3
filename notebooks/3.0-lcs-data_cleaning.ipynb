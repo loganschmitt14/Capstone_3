{
 "cells": [
  {
   "cell_type": "markdown",
   "id": "8ed52303-202d-42bb-9697-f5676f83a248",
   "metadata": {},
   "source": [
    "# Data Cleaning and EDA #\n",
    "The script has gathered up to 100 reviews per user for almost 300 users. Time to make sure all the data is present"
   ]
  },
  {
   "cell_type": "code",
   "execution_count": 1,
   "id": "762b1574-7809-4150-9af2-e9a3f3e744ca",
   "metadata": {},
   "outputs": [],
   "source": [
    "import pandas as pd\n",
    "import sqlite3\n",
    "import numpy as np\n",
    "import os\n",
    "from pathlib import Path\n",
    "import seaborn as sns\n",
    "import matplotlib.pyplot as plt"
   ]
  },
  {
   "cell_type": "code",
   "execution_count": 2,
   "id": "1a3f9bf7-1393-4d00-af9f-4d561582c37d",
   "metadata": {},
   "outputs": [],
   "source": [
    "# File path to the consolidated data\n",
    "path = '../data/interim/consolidated_data.csv'"
   ]
  },
  {
   "cell_type": "code",
   "execution_count": 3,
   "id": "47a23768-70cf-464e-860c-25afea604990",
   "metadata": {},
   "outputs": [
    {
     "data": {
      "text/html": [
       "<div>\n",
       "<style scoped>\n",
       "    .dataframe tbody tr th:only-of-type {\n",
       "        vertical-align: middle;\n",
       "    }\n",
       "\n",
       "    .dataframe tbody tr th {\n",
       "        vertical-align: top;\n",
       "    }\n",
       "\n",
       "    .dataframe thead th {\n",
       "        text-align: right;\n",
       "    }\n",
       "</style>\n",
       "<table border=\"1\" class=\"dataframe\">\n",
       "  <thead>\n",
       "    <tr style=\"text-align: right;\">\n",
       "      <th></th>\n",
       "      <th>title</th>\n",
       "      <th>author</th>\n",
       "      <th>avg_rating</th>\n",
       "      <th>user_rating</th>\n",
       "      <th>cover_url</th>\n",
       "      <th>user_id</th>\n",
       "    </tr>\n",
       "  </thead>\n",
       "  <tbody>\n",
       "    <tr>\n",
       "      <th>0</th>\n",
       "      <td>The Indispensable Calvin and Hobbes</td>\n",
       "      <td>Watterson, Bill</td>\n",
       "      <td>4.70</td>\n",
       "      <td>5</td>\n",
       "      <td>https://i.gr-assets.com/images/S/compressed.ph...</td>\n",
       "      <td>1</td>\n",
       "    </tr>\n",
       "    <tr>\n",
       "      <th>1</th>\n",
       "      <td>The Days Are Just Packed</td>\n",
       "      <td>Watterson, Bill</td>\n",
       "      <td>4.66</td>\n",
       "      <td>5</td>\n",
       "      <td>https://i.gr-assets.com/images/S/compressed.ph...</td>\n",
       "      <td>1</td>\n",
       "    </tr>\n",
       "    <tr>\n",
       "      <th>2</th>\n",
       "      <td>Harry Potter and the Half-Blood Prince</td>\n",
       "      <td>Rowling, J.K.</td>\n",
       "      <td>4.58</td>\n",
       "      <td>5</td>\n",
       "      <td>https://i.gr-assets.com/images/S/compressed.ph...</td>\n",
       "      <td>1</td>\n",
       "    </tr>\n",
       "    <tr>\n",
       "      <th>3</th>\n",
       "      <td>Empire of Pain: The Secret History of the Sack...</td>\n",
       "      <td>Keefe, Patrick Radden</td>\n",
       "      <td>4.54</td>\n",
       "      <td>5</td>\n",
       "      <td>https://i.gr-assets.com/images/S/compressed.ph...</td>\n",
       "      <td>1</td>\n",
       "    </tr>\n",
       "    <tr>\n",
       "      <th>4</th>\n",
       "      <td>Shoe Dog: A Memoir by the Creator of NIKE</td>\n",
       "      <td>Knight, Phil</td>\n",
       "      <td>4.47</td>\n",
       "      <td>5</td>\n",
       "      <td>https://i.gr-assets.com/images/S/compressed.ph...</td>\n",
       "      <td>1</td>\n",
       "    </tr>\n",
       "  </tbody>\n",
       "</table>\n",
       "</div>"
      ],
      "text/plain": [
       "                                               title                 author  \\\n",
       "0                The Indispensable Calvin and Hobbes        Watterson, Bill   \n",
       "1                           The Days Are Just Packed        Watterson, Bill   \n",
       "2             Harry Potter and the Half-Blood Prince          Rowling, J.K.   \n",
       "3  Empire of Pain: The Secret History of the Sack...  Keefe, Patrick Radden   \n",
       "4          Shoe Dog: A Memoir by the Creator of NIKE           Knight, Phil   \n",
       "\n",
       "   avg_rating  user_rating                                          cover_url  \\\n",
       "0        4.70            5  https://i.gr-assets.com/images/S/compressed.ph...   \n",
       "1        4.66            5  https://i.gr-assets.com/images/S/compressed.ph...   \n",
       "2        4.58            5  https://i.gr-assets.com/images/S/compressed.ph...   \n",
       "3        4.54            5  https://i.gr-assets.com/images/S/compressed.ph...   \n",
       "4        4.47            5  https://i.gr-assets.com/images/S/compressed.ph...   \n",
       "\n",
       "   user_id  \n",
       "0        1  \n",
       "1        1  \n",
       "2        1  \n",
       "3        1  \n",
       "4        1  "
      ]
     },
     "execution_count": 3,
     "metadata": {},
     "output_type": "execute_result"
    }
   ],
   "source": [
    "df = pd.read_csv(path)\n",
    "df.head()"
   ]
  },
  {
   "cell_type": "code",
   "execution_count": 4,
   "id": "fc5a956c-a83d-45a9-9be4-ba92edc5ecac",
   "metadata": {},
   "outputs": [
    {
     "data": {
      "text/plain": [
       "(55014, 6)"
      ]
     },
     "execution_count": 4,
     "metadata": {},
     "output_type": "execute_result"
    }
   ],
   "source": [
    "df.shape"
   ]
  },
  {
   "cell_type": "code",
   "execution_count": 5,
   "id": "afb480bf-c1c5-4762-8952-4d620d26ce4f",
   "metadata": {},
   "outputs": [
    {
     "data": {
      "text/plain": [
       "24949"
      ]
     },
     "execution_count": 5,
     "metadata": {},
     "output_type": "execute_result"
    }
   ],
   "source": [
    "df['title'].nunique()"
   ]
  },
  {
   "cell_type": "code",
   "execution_count": 6,
   "id": "7e5a790e-8a3d-4a8e-ae05-8d7d7c23b615",
   "metadata": {},
   "outputs": [
    {
     "data": {
      "text/plain": [
       "29564"
      ]
     },
     "execution_count": 6,
     "metadata": {},
     "output_type": "execute_result"
    }
   ],
   "source": [
    "df['cover_url'].nunique()"
   ]
  },
  {
   "cell_type": "code",
   "execution_count": 7,
   "id": "f71fc5c7-5e44-4d54-a3ab-f5227fe9544c",
   "metadata": {},
   "outputs": [
    {
     "data": {
      "text/plain": [
       "title          0\n",
       "author         0\n",
       "avg_rating     0\n",
       "user_rating    0\n",
       "cover_url      0\n",
       "user_id        0\n",
       "dtype: int64"
      ]
     },
     "execution_count": 7,
     "metadata": {},
     "output_type": "execute_result"
    }
   ],
   "source": [
    "df.isna().sum()"
   ]
  },
  {
   "cell_type": "code",
   "execution_count": 8,
   "id": "b3a182e2-eaf6-413d-9da8-70d978f5c69a",
   "metadata": {},
   "outputs": [
    {
     "data": {
      "text/plain": [
       "dtype('int64')"
      ]
     },
     "execution_count": 8,
     "metadata": {},
     "output_type": "execute_result"
    }
   ],
   "source": [
    "df.user_id.unique().dtype"
   ]
  },
  {
   "cell_type": "code",
   "execution_count": 9,
   "id": "a4dddd30-2973-4be7-9c62-e0340e9197f9",
   "metadata": {},
   "outputs": [
    {
     "name": "stdout",
     "output_type": "stream",
     "text": [
      "Empty DataFrame\n",
      "Columns: [title, author, avg_rating, user_rating, cover_url, user_id]\n",
      "Index: []\n"
     ]
    }
   ],
   "source": [
    "non_integers = df[pd.to_numeric(df['user_id'], errors='coerce').isna()]\n",
    "print(non_integers)"
   ]
  },
  {
   "cell_type": "markdown",
   "id": "12117fec-ddf3-46a5-928a-e36fe970900b",
   "metadata": {},
   "source": [
    "### First Impressions ###\n",
    "There are 55,014 reviews here, and 29,949 unique books. I'm glad to see this much variety. Hopefully I don't end up recommending too many obscure books. There are more unique cover URLs due to different editions existing for many of the books."
   ]
  },
  {
   "cell_type": "markdown",
   "id": "d0c13c56-2a01-4b3d-8246-f877d89e8bb1",
   "metadata": {},
   "source": [
    "# SQL Database Exploration #\n",
    "Now I want to check out the relational database I made from the data"
   ]
  },
  {
   "cell_type": "code",
   "execution_count": 10,
   "id": "b5132d60-ebc0-49d3-bf94-5ff373cb812f",
   "metadata": {},
   "outputs": [],
   "source": [
    "database_path = os.path.abspath(\n",
    "            os.path.join(\n",
    "                os.pardir,\n",
    "                'data',\n",
    "                'processed',\n",
    "                'books.db'\n",
    "                )\n",
    "            )\n",
    "\n",
    "conn = sqlite3.connect(database_path)"
   ]
  },
  {
   "cell_type": "code",
   "execution_count": 11,
   "id": "c4a3a1cb-f545-41bd-9ec5-88ee5080262f",
   "metadata": {},
   "outputs": [
    {
     "name": "stdout",
     "output_type": "stream",
     "text": [
      "(1, 1, 5, 4.7)\n",
      "(31880928, 1, 1, 4.7)\n",
      "(3472444, 1, 5, 4.7)\n",
      "(269235, 1, 4, 4.7)\n",
      "(122647, 1, 5, 4.7)\n",
      "(2431437, 1, 5, 4.7)\n",
      "(93149311, 1, 5, 4.7)\n",
      "(31000456, 1, 4, 4.7)\n",
      "(1413439, 1, 5, 4.7)\n",
      "(16576124, 1, 5, 4.7)\n"
     ]
    }
   ],
   "source": [
    "cur = conn.cursor()\n",
    "cur.execute('SELECT * FROM Ratings LIMIT 10')\n",
    "results = cur.fetchall()\n",
    "\n",
    "for row in results:\n",
    "    print(row)"
   ]
  },
  {
   "cell_type": "code",
   "execution_count": 12,
   "id": "6c2017bb-4a46-4887-bf87-f6d75c5c04c7",
   "metadata": {},
   "outputs": [
    {
     "name": "stdout",
     "output_type": "stream",
     "text": [
      "(1, 'The Indispensable Calvin and Hobbes', 'Watterson, Bill', 'https://i.gr-assets.com/images/S/compressed.photo.goodreads.com/books/1347311516l/24815._SX50_.jpg')\n",
      "(2, 'The Days Are Just Packed', 'Watterson, Bill', 'https://i.gr-assets.com/images/S/compressed.photo.goodreads.com/books/1418211162l/24818._SX50_.jpg')\n",
      "(3, 'Harry Potter and the Half-Blood Prince', 'Rowling, J.K.', 'https://i.gr-assets.com/images/S/compressed.photo.goodreads.com/books/1587697303l/1._SX50_.jpg')\n",
      "(4, 'Empire of Pain: The Secret History of the Sackler Dynasty', 'Keefe, Patrick Radden', 'https://i.gr-assets.com/images/S/compressed.photo.goodreads.com/books/1611952917l/56343711._SY75_.jpg')\n",
      "(5, 'Shoe Dog: A Memoir by the Creator of NIKE', 'Knight, Phil', 'https://i.gr-assets.com/images/S/compressed.photo.goodreads.com/books/1460439544l/29893493._SY75_.jpg')\n",
      "(6, 'The Martian', 'Weir, Andy', 'https://i.gr-assets.com/images/S/compressed.photo.goodreads.com/books/1393422559l/17315048._SX50_.jpg')\n",
      "(7, \"The Ultimate Hitchhiker's Guide: Five Complete Novels and One Story\", 'Adams, Douglas', 'https://i.gr-assets.com/images/S/compressed.photo.goodreads.com/books/1404658218l/12._SY75_.jpg')\n",
      "(8, 'Winnie-the-Pooh', 'Milne, A.A.', 'https://i.gr-assets.com/images/S/compressed.photo.goodreads.com/books/1298440130l/99107._SY75_.jpg')\n",
      "(9, 'The Garden of the Gods', 'Durrell, Gerald', 'https://i.gr-assets.com/images/S/compressed.photo.goodreads.com/books/1476159102l/32570572._SY75_.jpg')\n",
      "(10, 'Matilda', 'Dahl, Roald', 'https://i.gr-assets.com/images/S/compressed.photo.goodreads.com/books/1554841974l/45009204._SY75_.jpg')\n"
     ]
    }
   ],
   "source": [
    "cur = conn.cursor()\n",
    "cur.execute('SELECT * FROM Books LIMIT 10')\n",
    "results = cur.fetchall()\n",
    "\n",
    "for row in results:\n",
    "    print(row)"
   ]
  },
  {
   "cell_type": "code",
   "execution_count": 13,
   "id": "434ae33d-af6d-496d-85db-25f2cc3decc2",
   "metadata": {},
   "outputs": [
    {
     "name": "stdout",
     "output_type": "stream",
     "text": [
      "(25548,)\n"
     ]
    }
   ],
   "source": [
    "cur.execute('SELECT COUNT(*) FROM Books')\n",
    "book_count = cur.fetchone()\n",
    "print(book_count)"
   ]
  },
  {
   "cell_type": "code",
   "execution_count": 14,
   "id": "577476d6-48bd-4818-ac07-367fc2735dad",
   "metadata": {},
   "outputs": [
    {
     "name": "stdout",
     "output_type": "stream",
     "text": [
      "(298,)\n"
     ]
    }
   ],
   "source": [
    "cur.execute('SELECT COUNT(*) FROM Users')\n",
    "user_count = cur.fetchone()\n",
    "print(user_count)"
   ]
  },
  {
   "cell_type": "code",
   "execution_count": 15,
   "id": "5fe7f725-9d17-4ade-a8ee-5025cb7d286b",
   "metadata": {},
   "outputs": [
    {
     "name": "stdout",
     "output_type": "stream",
     "text": [
      "(0, 'user_id', 'INTEGER', 0, None, 0)\n",
      "(1, 'book_id', 'INTEGER', 0, None, 0)\n",
      "(2, 'user_rating', 'INTEGER', 0, None, 0)\n",
      "(3, 'avg_rating', 'REAL', 0, None, 0)\n"
     ]
    }
   ],
   "source": [
    "for row in conn.execute('PRAGMA table_info(Ratings)'):\n",
    "    print(row)"
   ]
  },
  {
   "cell_type": "markdown",
   "id": "581b10c2-962b-4d5e-98c6-58efe648764f",
   "metadata": {},
   "source": [
    "### Database Assessment ###\n",
    "The database is correctly built with all books, users, and ratings accounted for! There are 25,548 unique combinations of book title and cover URL. While I'd like to go through and merge all unique editions into a single entry, I don't expect it would be worth the effort for the purposes of this project."
   ]
  },
  {
   "cell_type": "markdown",
   "id": "1c6c45a9-939b-4e1a-a828-30b3d0cb050b",
   "metadata": {},
   "source": [
    "## EDA ##\n",
    "Now I want to take a look at the distributions of books and ratings."
   ]
  },
  {
   "cell_type": "markdown",
   "id": "cd400eea-5438-4023-9c7e-7ed626058fb3",
   "metadata": {},
   "source": [
    "### Most Popular Books ###"
   ]
  },
  {
   "cell_type": "code",
   "execution_count": 16,
   "id": "acb05068-d004-43db-a8b3-f11b060f0d21",
   "metadata": {},
   "outputs": [],
   "source": [
    "query = '''\n",
    "SELECT b.title, AVG(r.avg_rating) as avg_rating, COUNT(r.user_rating) as votes\n",
    "FROM Books b\n",
    "JOIN Ratings r ON b.book_id = r.book_id\n",
    "GROUP BY b.title\n",
    "'''\n",
    "books_avg_ratings_df = pd.read_sql_query(query, conn)"
   ]
  },
  {
   "cell_type": "code",
   "execution_count": 17,
   "id": "a336b9e4-44e4-49a3-9ed7-5bc9799f2c30",
   "metadata": {},
   "outputs": [
    {
     "data": {
      "text/html": [
       "<div>\n",
       "<style scoped>\n",
       "    .dataframe tbody tr th:only-of-type {\n",
       "        vertical-align: middle;\n",
       "    }\n",
       "\n",
       "    .dataframe tbody tr th {\n",
       "        vertical-align: top;\n",
       "    }\n",
       "\n",
       "    .dataframe thead th {\n",
       "        text-align: right;\n",
       "    }\n",
       "</style>\n",
       "<table border=\"1\" class=\"dataframe\">\n",
       "  <thead>\n",
       "    <tr style=\"text-align: right;\">\n",
       "      <th></th>\n",
       "      <th>title</th>\n",
       "      <th>avg_rating</th>\n",
       "      <th>votes</th>\n",
       "    </tr>\n",
       "  </thead>\n",
       "  <tbody>\n",
       "    <tr>\n",
       "      <th>19523</th>\n",
       "      <td>The Hunger Games</td>\n",
       "      <td>4.330000</td>\n",
       "      <td>173</td>\n",
       "    </tr>\n",
       "    <tr>\n",
       "      <th>8061</th>\n",
       "      <td>Harry Potter and the Sorcerer's Stone</td>\n",
       "      <td>4.470000</td>\n",
       "      <td>158</td>\n",
       "    </tr>\n",
       "    <tr>\n",
       "      <th>8046</th>\n",
       "      <td>Harry Potter and the Chamber of Secrets</td>\n",
       "      <td>4.430000</td>\n",
       "      <td>150</td>\n",
       "    </tr>\n",
       "    <tr>\n",
       "      <th>8060</th>\n",
       "      <td>Harry Potter and the Prisoner of Azkaban</td>\n",
       "      <td>4.580000</td>\n",
       "      <td>147</td>\n",
       "    </tr>\n",
       "    <tr>\n",
       "      <th>3636</th>\n",
       "      <td>Catching Fire</td>\n",
       "      <td>4.320000</td>\n",
       "      <td>147</td>\n",
       "    </tr>\n",
       "    <tr>\n",
       "      <th>22491</th>\n",
       "      <td>To Kill a Mockingbird</td>\n",
       "      <td>4.260000</td>\n",
       "      <td>147</td>\n",
       "    </tr>\n",
       "    <tr>\n",
       "      <th>8055</th>\n",
       "      <td>Harry Potter and the Goblet of Fire</td>\n",
       "      <td>4.560000</td>\n",
       "      <td>146</td>\n",
       "    </tr>\n",
       "    <tr>\n",
       "      <th>19245</th>\n",
       "      <td>The Great Gatsby</td>\n",
       "      <td>3.930000</td>\n",
       "      <td>146</td>\n",
       "    </tr>\n",
       "    <tr>\n",
       "      <th>22841</th>\n",
       "      <td>Twilight</td>\n",
       "      <td>3.640000</td>\n",
       "      <td>144</td>\n",
       "    </tr>\n",
       "    <tr>\n",
       "      <th>8057</th>\n",
       "      <td>Harry Potter and the Order of the Phoenix</td>\n",
       "      <td>4.502324</td>\n",
       "      <td>142</td>\n",
       "    </tr>\n",
       "  </tbody>\n",
       "</table>\n",
       "</div>"
      ],
      "text/plain": [
       "                                           title  avg_rating  votes\n",
       "19523                           The Hunger Games    4.330000    173\n",
       "8061       Harry Potter and the Sorcerer's Stone    4.470000    158\n",
       "8046     Harry Potter and the Chamber of Secrets    4.430000    150\n",
       "8060    Harry Potter and the Prisoner of Azkaban    4.580000    147\n",
       "3636                               Catching Fire    4.320000    147\n",
       "22491                      To Kill a Mockingbird    4.260000    147\n",
       "8055         Harry Potter and the Goblet of Fire    4.560000    146\n",
       "19245                           The Great Gatsby    3.930000    146\n",
       "22841                                   Twilight    3.640000    144\n",
       "8057   Harry Potter and the Order of the Phoenix    4.502324    142"
      ]
     },
     "execution_count": 17,
     "metadata": {},
     "output_type": "execute_result"
    }
   ],
   "source": [
    "books_avg_ratings_df.sort_values(by = ['votes', 'avg_rating'], ascending = [False, False]).head(10)"
   ]
  },
  {
   "cell_type": "markdown",
   "id": "28fbe239-d62e-4392-aba8-b6a31fcf37e1",
   "metadata": {},
   "source": [
    "The most popular books are, unsurprisingly, the Hunger Games and Harry Potter series. Then I see some classics and the first Twilight book."
   ]
  },
  {
   "cell_type": "code",
   "execution_count": 18,
   "id": "1bbe1063-fa93-46e2-9c8b-71bdfd7bb141",
   "metadata": {},
   "outputs": [
    {
     "data": {
      "text/html": [
       "<div>\n",
       "<style scoped>\n",
       "    .dataframe tbody tr th:only-of-type {\n",
       "        vertical-align: middle;\n",
       "    }\n",
       "\n",
       "    .dataframe tbody tr th {\n",
       "        vertical-align: top;\n",
       "    }\n",
       "\n",
       "    .dataframe thead th {\n",
       "        text-align: right;\n",
       "    }\n",
       "</style>\n",
       "<table border=\"1\" class=\"dataframe\">\n",
       "  <thead>\n",
       "    <tr style=\"text-align: right;\">\n",
       "      <th></th>\n",
       "      <th>user_id</th>\n",
       "      <th>book_id</th>\n",
       "      <th>user_rating</th>\n",
       "      <th>avg_rating</th>\n",
       "    </tr>\n",
       "  </thead>\n",
       "  <tbody>\n",
       "    <tr>\n",
       "      <th>0</th>\n",
       "      <td>1</td>\n",
       "      <td>1</td>\n",
       "      <td>5</td>\n",
       "      <td>4.7</td>\n",
       "    </tr>\n",
       "    <tr>\n",
       "      <th>1</th>\n",
       "      <td>31880928</td>\n",
       "      <td>1</td>\n",
       "      <td>1</td>\n",
       "      <td>4.7</td>\n",
       "    </tr>\n",
       "    <tr>\n",
       "      <th>2</th>\n",
       "      <td>3472444</td>\n",
       "      <td>1</td>\n",
       "      <td>5</td>\n",
       "      <td>4.7</td>\n",
       "    </tr>\n",
       "    <tr>\n",
       "      <th>3</th>\n",
       "      <td>269235</td>\n",
       "      <td>1</td>\n",
       "      <td>4</td>\n",
       "      <td>4.7</td>\n",
       "    </tr>\n",
       "    <tr>\n",
       "      <th>4</th>\n",
       "      <td>122647</td>\n",
       "      <td>1</td>\n",
       "      <td>5</td>\n",
       "      <td>4.7</td>\n",
       "    </tr>\n",
       "  </tbody>\n",
       "</table>\n",
       "</div>"
      ],
      "text/plain": [
       "    user_id  book_id  user_rating  avg_rating\n",
       "0         1        1            5         4.7\n",
       "1  31880928        1            1         4.7\n",
       "2   3472444        1            5         4.7\n",
       "3    269235        1            4         4.7\n",
       "4    122647        1            5         4.7"
      ]
     },
     "execution_count": 18,
     "metadata": {},
     "output_type": "execute_result"
    }
   ],
   "source": [
    "ratings_df = pd.read_sql_query('SELECT * FROM Ratings', conn)\n",
    "ratings_df.head()"
   ]
  },
  {
   "cell_type": "markdown",
   "id": "4cedea31-20ef-4d7f-a278-dbc19d893037",
   "metadata": {},
   "source": [
    "### Least Popular Books ###\n",
    "Although I sorted each user's shelf by most popular books, I'm curious to know which are the least popular books in the dataset."
   ]
  },
  {
   "cell_type": "code",
   "execution_count": 19,
   "id": "62dafbd3-37db-48f6-820c-5533528406c7",
   "metadata": {},
   "outputs": [
    {
     "data": {
      "text/plain": [
       "126"
      ]
     },
     "execution_count": 19,
     "metadata": {},
     "output_type": "execute_result"
    }
   ],
   "source": [
    "num_reviews = ratings_df['book_id'].value_counts()\n",
    "len(num_reviews.unique())"
   ]
  },
  {
   "cell_type": "code",
   "execution_count": 20,
   "id": "e4bec4ab-7433-4ded-ac63-1b0f498dac49",
   "metadata": {},
   "outputs": [
    {
     "data": {
      "text/plain": [
       "25548"
      ]
     },
     "execution_count": 20,
     "metadata": {},
     "output_type": "execute_result"
    }
   ],
   "source": [
    "len(ratings_df['book_id'].unique())"
   ]
  },
  {
   "cell_type": "markdown",
   "id": "5c0911e1-adc5-48cf-bbb5-588b715741a7",
   "metadata": {},
   "source": [
    "There are 126 unique value counts, so if I make a histogram with 102 bins, each bin will account for a distinct value count. This way I can see the distribution of book popularity."
   ]
  },
  {
   "cell_type": "code",
   "execution_count": 37,
   "id": "d6fed470-336e-42a3-801a-73a1c0b8df3e",
   "metadata": {},
   "outputs": [
    {
     "data": {
      "image/png": "[encoded data removed]",
      "text/plain": [
       "<Figure size 640x480 with 1 Axes>"
      ]
     },
     "metadata": {},
     "output_type": "display_data"
    }
   ],
   "source": [
    "sns.histplot(data = num_reviews, bins = 126)\n",
    "plt.title('Histogram of Book Reviews')\n",
    "plt.xlabel('Number of Book Appearances in Dataset')\n",
    "plt.ylim(0, 25000)\n",
    "plt.ylabel('Frequency')\n",
    "plt.show()"
   ]
  },
  {
   "cell_type": "markdown",
   "id": "8a9b4eb9-058f-4217-9d1f-37fddce160d0",
   "metadata": {},
   "source": [
    "Over 20,000 of the 25,548 unique books only appear once in the dataset. I wonder how many books would remain if I dropped all books with fewer than 10 appearances."
   ]
  },
  {
   "cell_type": "code",
   "execution_count": 22,
   "id": "1716eac2-fde6-4dfa-b17a-a061a058db24",
   "metadata": {},
   "outputs": [
    {
     "data": {
      "text/plain": [
       "116"
      ]
     },
     "execution_count": 22,
     "metadata": {},
     "output_type": "execute_result"
    }
   ],
   "source": [
    "min_books = 10\n",
    "popular_filter = ratings_df['book_id'].value_counts() > min_books\n",
    "popular_filter = popular_filter[popular_filter].index.to_list()\n",
    "popular_df = ratings_df[ratings_df['book_id'].isin(popular_filter)]\n",
    "len(popular_df['book_id'].value_counts().unique())"
   ]
  },
  {
   "cell_type": "markdown",
   "id": "6929b4e3-2d35-4086-91d2-b3dd91752f11",
   "metadata": {},
   "source": [
    "Only 116 books remain if I filter out the books with fewer than 10 reviews. I don't think this is a good idea. If I was starting with a much larger dataset I could make the argument for this approach, but I have too few books to eliminate most of them."
   ]
  },
  {
   "cell_type": "markdown",
   "id": "569694b9-d0aa-40e9-9dd7-44c1cbaed67f",
   "metadata": {},
   "source": [
    "### User Rating Distribution ###\n",
    "Now I want to see if user ratings are distributed normally."
   ]
  },
  {
   "cell_type": "code",
   "execution_count": 23,
   "id": "d14b215a-9578-4ba1-81ba-71c29bd98054",
   "metadata": {},
   "outputs": [
    {
     "data": {
      "image/png": "[encoded data removed]",
      "text/plain": [
       "<Figure size 1000x600 with 1 Axes>"
      ]
     },
     "metadata": {},
     "output_type": "display_data"
    }
   ],
   "source": [
    "plt.figure(figsize=(10, 6))\n",
    "sns.histplot(ratings_df['user_rating'], kde = True)\n",
    "sns.histplot(books_avg_ratings_df['avg_rating'], kde = True, bins = 20)\n",
    "plt.title('Distribution of User Ratings')\n",
    "plt.xlabel('User Rating')\n",
    "plt.ylabel('Frequency')\n",
    "plt.show()"
   ]
  },
  {
   "cell_type": "markdown",
   "id": "848a0cf4-e061-496a-8c85-17c953a1de0e",
   "metadata": {},
   "source": [
    "The above histograms show the distribution of user ratings in blue and the distribution of average ratings in orange. It is not surprising that the most popular users would give the most popular books a high rating generally. I am a little surprised that these users give out so many 5-star reviews. While it is very subjective, many Goodreads users adhere to the same rating scale, where a 5-star rating is reserved for the user's favorite books of all time. But I suppose that popular, well-reviewed books are exactly that for a reason. The median book in this dataset has an average rating of just over 4 stars. The distribution of average ratings has a longer tail on the left, which makes sense due to the cap at 5 stars. I'm a little surprised to see that some of the books on this list managed to be popular enough but also average fewer than 3 stars."
   ]
  },
  {
   "cell_type": "code",
   "execution_count": 24,
   "id": "98ccd6aa-666c-49e8-b98b-4f924c970964",
   "metadata": {},
   "outputs": [],
   "source": [
    "query = '''\n",
    "SELECT user_id, AVG(user_rating) as user_avg_rating\n",
    "FROM Ratings r\n",
    "GROUP BY user_id\n",
    "'''\n",
    "user_avg_ratings_df = pd.read_sql_query(query, conn)"
   ]
  },
  {
   "cell_type": "code",
   "execution_count": 25,
   "id": "fa62c5e5-a8f9-4f91-93c1-2d42c588520e",
   "metadata": {},
   "outputs": [
    {
     "data": {
      "image/png": "[encoded data removed]",
      "text/plain": [
       "<Figure size 1000x600 with 1 Axes>"
      ]
     },
     "metadata": {},
     "output_type": "display_data"
    }
   ],
   "source": [
    "plt.figure(figsize=(10, 6))\n",
    "sns.histplot(user_avg_ratings_df['user_avg_rating'], kde = True, bins = 20)\n",
    "plt.title('Distribution of User Average Ratings')\n",
    "plt.xlabel('User Avg Rating')\n",
    "plt.ylabel('Frequency')\n",
    "plt.show()"
   ]
  },
  {
   "cell_type": "markdown",
   "id": "9ac86ca7-30a5-46c0-8e8f-fc2dde11006e",
   "metadata": {},
   "source": [
    "This histogram plot shows the distribution of each user's average rating. Some users clearly love the popular books, giving out an average of almost 5 stars. Many users are clustered around the 4-star average rating. Some users, on the other hand, seem to be haters and give out generally very low scores. I'll check those users out."
   ]
  },
  {
   "cell_type": "markdown",
   "id": "63da3aa7-7b7b-4312-b945-08fe0d0d144e",
   "metadata": {},
   "source": [
    "### Low-Rater Investigation ###\n",
    "I'll take a look at a particular user who gives out very low scores on average."
   ]
  },
  {
   "cell_type": "code",
   "execution_count": 26,
   "id": "58e9e6d0-6fbc-4294-8303-185731ce25a6",
   "metadata": {},
   "outputs": [],
   "source": [
    "query = '''\n",
    "SELECT user_id, SUM(user_rating == 0) AS zero_star, SUM(user_rating == 1) AS one_star, SUM(user_rating == 2) AS two_star,\n",
    "SUM(user_rating == 3) AS three_star, SUM(user_rating == 4) AS four_star,\n",
    "SUM(user_rating == 5) AS five_star, \n",
    "AVG(user_rating) AS user_avg\n",
    "FROM Ratings r\n",
    "GROUP BY user_id\n",
    "HAVING AVG(user_rating) < 3\n",
    "'''\n",
    "\n",
    "low_ratings_df = pd.read_sql_query(query, conn)"
   ]
  },
  {
   "cell_type": "code",
   "execution_count": 27,
   "id": "212e7269-7cdf-4529-b16d-1b820ab7e386",
   "metadata": {},
   "outputs": [
    {
     "data": {
      "text/html": [
       "<div>\n",
       "<style scoped>\n",
       "    .dataframe tbody tr th:only-of-type {\n",
       "        vertical-align: middle;\n",
       "    }\n",
       "\n",
       "    .dataframe tbody tr th {\n",
       "        vertical-align: top;\n",
       "    }\n",
       "\n",
       "    .dataframe thead th {\n",
       "        text-align: right;\n",
       "    }\n",
       "</style>\n",
       "<table border=\"1\" class=\"dataframe\">\n",
       "  <thead>\n",
       "    <tr style=\"text-align: right;\">\n",
       "      <th></th>\n",
       "      <th>user_id</th>\n",
       "      <th>zero_star</th>\n",
       "      <th>one_star</th>\n",
       "      <th>two_star</th>\n",
       "      <th>three_star</th>\n",
       "      <th>four_star</th>\n",
       "      <th>five_star</th>\n",
       "      <th>user_avg</th>\n",
       "    </tr>\n",
       "  </thead>\n",
       "  <tbody>\n",
       "    <tr>\n",
       "      <th>0</th>\n",
       "      <td>914795</td>\n",
       "      <td>0</td>\n",
       "      <td>25</td>\n",
       "      <td>94</td>\n",
       "      <td>37</td>\n",
       "      <td>30</td>\n",
       "      <td>2</td>\n",
       "      <td>2.414894</td>\n",
       "    </tr>\n",
       "    <tr>\n",
       "      <th>1</th>\n",
       "      <td>922495</td>\n",
       "      <td>71</td>\n",
       "      <td>0</td>\n",
       "      <td>2</td>\n",
       "      <td>4</td>\n",
       "      <td>8</td>\n",
       "      <td>103</td>\n",
       "      <td>2.994681</td>\n",
       "    </tr>\n",
       "    <tr>\n",
       "      <th>2</th>\n",
       "      <td>1005037</td>\n",
       "      <td>63</td>\n",
       "      <td>5</td>\n",
       "      <td>6</td>\n",
       "      <td>24</td>\n",
       "      <td>44</td>\n",
       "      <td>40</td>\n",
       "      <td>2.554945</td>\n",
       "    </tr>\n",
       "    <tr>\n",
       "      <th>3</th>\n",
       "      <td>1113032</td>\n",
       "      <td>70</td>\n",
       "      <td>0</td>\n",
       "      <td>1</td>\n",
       "      <td>28</td>\n",
       "      <td>32</td>\n",
       "      <td>14</td>\n",
       "      <td>1.958621</td>\n",
       "    </tr>\n",
       "    <tr>\n",
       "      <th>4</th>\n",
       "      <td>1151637</td>\n",
       "      <td>74</td>\n",
       "      <td>2</td>\n",
       "      <td>6</td>\n",
       "      <td>13</td>\n",
       "      <td>34</td>\n",
       "      <td>63</td>\n",
       "      <td>2.625000</td>\n",
       "    </tr>\n",
       "    <tr>\n",
       "      <th>5</th>\n",
       "      <td>1162953</td>\n",
       "      <td>4</td>\n",
       "      <td>5</td>\n",
       "      <td>56</td>\n",
       "      <td>87</td>\n",
       "      <td>27</td>\n",
       "      <td>4</td>\n",
       "      <td>2.765027</td>\n",
       "    </tr>\n",
       "    <tr>\n",
       "      <th>6</th>\n",
       "      <td>1323157</td>\n",
       "      <td>44</td>\n",
       "      <td>3</td>\n",
       "      <td>9</td>\n",
       "      <td>24</td>\n",
       "      <td>67</td>\n",
       "      <td>33</td>\n",
       "      <td>2.922222</td>\n",
       "    </tr>\n",
       "    <tr>\n",
       "      <th>7</th>\n",
       "      <td>2164884</td>\n",
       "      <td>22</td>\n",
       "      <td>3</td>\n",
       "      <td>33</td>\n",
       "      <td>95</td>\n",
       "      <td>42</td>\n",
       "      <td>3</td>\n",
       "      <td>2.712121</td>\n",
       "    </tr>\n",
       "    <tr>\n",
       "      <th>8</th>\n",
       "      <td>3571171</td>\n",
       "      <td>10</td>\n",
       "      <td>8</td>\n",
       "      <td>27</td>\n",
       "      <td>86</td>\n",
       "      <td>36</td>\n",
       "      <td>9</td>\n",
       "      <td>2.892045</td>\n",
       "    </tr>\n",
       "    <tr>\n",
       "      <th>9</th>\n",
       "      <td>3734681</td>\n",
       "      <td>109</td>\n",
       "      <td>0</td>\n",
       "      <td>0</td>\n",
       "      <td>6</td>\n",
       "      <td>20</td>\n",
       "      <td>21</td>\n",
       "      <td>1.301282</td>\n",
       "    </tr>\n",
       "    <tr>\n",
       "      <th>10</th>\n",
       "      <td>5451550</td>\n",
       "      <td>177</td>\n",
       "      <td>0</td>\n",
       "      <td>1</td>\n",
       "      <td>7</td>\n",
       "      <td>15</td>\n",
       "      <td>0</td>\n",
       "      <td>0.415000</td>\n",
       "    </tr>\n",
       "    <tr>\n",
       "      <th>11</th>\n",
       "      <td>7205303</td>\n",
       "      <td>186</td>\n",
       "      <td>0</td>\n",
       "      <td>0</td>\n",
       "      <td>1</td>\n",
       "      <td>3</td>\n",
       "      <td>3</td>\n",
       "      <td>0.155440</td>\n",
       "    </tr>\n",
       "    <tr>\n",
       "      <th>12</th>\n",
       "      <td>8091367</td>\n",
       "      <td>28</td>\n",
       "      <td>148</td>\n",
       "      <td>2</td>\n",
       "      <td>8</td>\n",
       "      <td>8</td>\n",
       "      <td>2</td>\n",
       "      <td>1.112245</td>\n",
       "    </tr>\n",
       "    <tr>\n",
       "      <th>13</th>\n",
       "      <td>8114361</td>\n",
       "      <td>56</td>\n",
       "      <td>0</td>\n",
       "      <td>4</td>\n",
       "      <td>13</td>\n",
       "      <td>42</td>\n",
       "      <td>48</td>\n",
       "      <td>2.791411</td>\n",
       "    </tr>\n",
       "    <tr>\n",
       "      <th>14</th>\n",
       "      <td>11183856</td>\n",
       "      <td>57</td>\n",
       "      <td>5</td>\n",
       "      <td>12</td>\n",
       "      <td>22</td>\n",
       "      <td>51</td>\n",
       "      <td>41</td>\n",
       "      <td>2.680851</td>\n",
       "    </tr>\n",
       "    <tr>\n",
       "      <th>15</th>\n",
       "      <td>11237615</td>\n",
       "      <td>97</td>\n",
       "      <td>0</td>\n",
       "      <td>0</td>\n",
       "      <td>0</td>\n",
       "      <td>0</td>\n",
       "      <td>102</td>\n",
       "      <td>2.562814</td>\n",
       "    </tr>\n",
       "    <tr>\n",
       "      <th>16</th>\n",
       "      <td>11931807</td>\n",
       "      <td>71</td>\n",
       "      <td>0</td>\n",
       "      <td>3</td>\n",
       "      <td>21</td>\n",
       "      <td>77</td>\n",
       "      <td>5</td>\n",
       "      <td>2.271186</td>\n",
       "    </tr>\n",
       "    <tr>\n",
       "      <th>17</th>\n",
       "      <td>18104163</td>\n",
       "      <td>39</td>\n",
       "      <td>5</td>\n",
       "      <td>13</td>\n",
       "      <td>30</td>\n",
       "      <td>50</td>\n",
       "      <td>39</td>\n",
       "      <td>2.931818</td>\n",
       "    </tr>\n",
       "    <tr>\n",
       "      <th>18</th>\n",
       "      <td>23385697</td>\n",
       "      <td>79</td>\n",
       "      <td>0</td>\n",
       "      <td>0</td>\n",
       "      <td>0</td>\n",
       "      <td>0</td>\n",
       "      <td>118</td>\n",
       "      <td>2.994924</td>\n",
       "    </tr>\n",
       "    <tr>\n",
       "      <th>19</th>\n",
       "      <td>31880928</td>\n",
       "      <td>0</td>\n",
       "      <td>101</td>\n",
       "      <td>26</td>\n",
       "      <td>7</td>\n",
       "      <td>3</td>\n",
       "      <td>50</td>\n",
       "      <td>2.331551</td>\n",
       "    </tr>\n",
       "    <tr>\n",
       "      <th>20</th>\n",
       "      <td>44098542</td>\n",
       "      <td>0</td>\n",
       "      <td>55</td>\n",
       "      <td>49</td>\n",
       "      <td>17</td>\n",
       "      <td>25</td>\n",
       "      <td>24</td>\n",
       "      <td>2.494118</td>\n",
       "    </tr>\n",
       "    <tr>\n",
       "      <th>21</th>\n",
       "      <td>91822086</td>\n",
       "      <td>11</td>\n",
       "      <td>0</td>\n",
       "      <td>0</td>\n",
       "      <td>0</td>\n",
       "      <td>1</td>\n",
       "      <td>0</td>\n",
       "      <td>0.333333</td>\n",
       "    </tr>\n",
       "    <tr>\n",
       "      <th>22</th>\n",
       "      <td>154524237</td>\n",
       "      <td>8</td>\n",
       "      <td>1</td>\n",
       "      <td>0</td>\n",
       "      <td>0</td>\n",
       "      <td>1</td>\n",
       "      <td>0</td>\n",
       "      <td>0.500000</td>\n",
       "    </tr>\n",
       "  </tbody>\n",
       "</table>\n",
       "</div>"
      ],
      "text/plain": [
       "      user_id  zero_star  one_star  two_star  three_star  four_star  \\\n",
       "0      914795          0        25        94          37         30   \n",
       "1      922495         71         0         2           4          8   \n",
       "2     1005037         63         5         6          24         44   \n",
       "3     1113032         70         0         1          28         32   \n",
       "4     1151637         74         2         6          13         34   \n",
       "5     1162953          4         5        56          87         27   \n",
       "6     1323157         44         3         9          24         67   \n",
       "7     2164884         22         3        33          95         42   \n",
       "8     3571171         10         8        27          86         36   \n",
       "9     3734681        109         0         0           6         20   \n",
       "10    5451550        177         0         1           7         15   \n",
       "11    7205303        186         0         0           1          3   \n",
       "12    8091367         28       148         2           8          8   \n",
       "13    8114361         56         0         4          13         42   \n",
       "14   11183856         57         5        12          22         51   \n",
       "15   11237615         97         0         0           0          0   \n",
       "16   11931807         71         0         3          21         77   \n",
       "17   18104163         39         5        13          30         50   \n",
       "18   23385697         79         0         0           0          0   \n",
       "19   31880928          0       101        26           7          3   \n",
       "20   44098542          0        55        49          17         25   \n",
       "21   91822086         11         0         0           0          1   \n",
       "22  154524237          8         1         0           0          1   \n",
       "\n",
       "    five_star  user_avg  \n",
       "0           2  2.414894  \n",
       "1         103  2.994681  \n",
       "2          40  2.554945  \n",
       "3          14  1.958621  \n",
       "4          63  2.625000  \n",
       "5           4  2.765027  \n",
       "6          33  2.922222  \n",
       "7           3  2.712121  \n",
       "8           9  2.892045  \n",
       "9          21  1.301282  \n",
       "10          0  0.415000  \n",
       "11          3  0.155440  \n",
       "12          2  1.112245  \n",
       "13         48  2.791411  \n",
       "14         41  2.680851  \n",
       "15        102  2.562814  \n",
       "16          5  2.271186  \n",
       "17         39  2.931818  \n",
       "18        118  2.994924  \n",
       "19         50  2.331551  \n",
       "20         24  2.494118  \n",
       "21          0  0.333333  \n",
       "22          0  0.500000  "
      ]
     },
     "execution_count": 27,
     "metadata": {},
     "output_type": "execute_result"
    }
   ],
   "source": [
    "low_ratings_df"
   ]
  },
  {
   "cell_type": "markdown",
   "id": "4ee9ab91-312d-4934-bede-e4071e464ae8",
   "metadata": {},
   "source": [
    "Right away I can see some users rarely rate books, often just logging them as \"read\" without assigning a score. These are users which I would likely drop from the training data if I refined my model further. As it stands, I'll keep them since I don't have a trememndously large dataset to begin with. I'm more intrigued by the users who score each book but are very stingy with high scores. User 3258178 for instance has no zeros and only 9 fives. They mostly rate books either 2 or 3 stars. "
   ]
  },
  {
   "cell_type": "code",
   "execution_count": 28,
   "id": "4e5e4673-ff07-4d2e-924e-59d2dda0b1f3",
   "metadata": {},
   "outputs": [],
   "source": [
    "query = '''\n",
    "SELECT r.user_id, b.title, r.user_rating, r.avg_rating \n",
    "FROM Ratings r\n",
    "JOIN Books b ON b.book_id = r.book_id\n",
    "WHERE user_id == 3258178\n",
    "'''\n",
    "\n",
    "user_3258178_df = pd.read_sql_query(query, conn)"
   ]
  },
  {
   "cell_type": "code",
   "execution_count": 29,
   "id": "c8ae3988-eb76-4843-8ce6-cfd534f7cbcc",
   "metadata": {},
   "outputs": [
    {
     "data": {
      "text/html": [
       "<div>\n",
       "<style scoped>\n",
       "    .dataframe tbody tr th:only-of-type {\n",
       "        vertical-align: middle;\n",
       "    }\n",
       "\n",
       "    .dataframe tbody tr th {\n",
       "        vertical-align: top;\n",
       "    }\n",
       "\n",
       "    .dataframe thead th {\n",
       "        text-align: right;\n",
       "    }\n",
       "</style>\n",
       "<table border=\"1\" class=\"dataframe\">\n",
       "  <thead>\n",
       "    <tr style=\"text-align: right;\">\n",
       "      <th></th>\n",
       "      <th>user_id</th>\n",
       "      <th>title</th>\n",
       "      <th>user_rating</th>\n",
       "      <th>avg_rating</th>\n",
       "      <th>diff</th>\n",
       "    </tr>\n",
       "  </thead>\n",
       "  <tbody>\n",
       "    <tr>\n",
       "      <th>47</th>\n",
       "      <td>3258178</td>\n",
       "      <td>Macbeth</td>\n",
       "      <td>5</td>\n",
       "      <td>3.90</td>\n",
       "      <td>1.10</td>\n",
       "    </tr>\n",
       "    <tr>\n",
       "      <th>49</th>\n",
       "      <td>3258178</td>\n",
       "      <td>Fahrenheit 451</td>\n",
       "      <td>5</td>\n",
       "      <td>3.97</td>\n",
       "      <td>1.03</td>\n",
       "    </tr>\n",
       "    <tr>\n",
       "      <th>69</th>\n",
       "      <td>3258178</td>\n",
       "      <td>Prince Caspian - Book 2 in the Chronicles of N...</td>\n",
       "      <td>5</td>\n",
       "      <td>3.98</td>\n",
       "      <td>1.02</td>\n",
       "    </tr>\n",
       "    <tr>\n",
       "      <th>16</th>\n",
       "      <td>3258178</td>\n",
       "      <td>Animal Farm</td>\n",
       "      <td>5</td>\n",
       "      <td>3.98</td>\n",
       "      <td>1.02</td>\n",
       "    </tr>\n",
       "    <tr>\n",
       "      <th>68</th>\n",
       "      <td>3258178</td>\n",
       "      <td>The Voyage Of The \"Dawn Treader\"</td>\n",
       "      <td>5</td>\n",
       "      <td>4.09</td>\n",
       "      <td>0.91</td>\n",
       "    </tr>\n",
       "    <tr>\n",
       "      <th>...</th>\n",
       "      <td>...</td>\n",
       "      <td>...</td>\n",
       "      <td>...</td>\n",
       "      <td>...</td>\n",
       "      <td>...</td>\n",
       "    </tr>\n",
       "    <tr>\n",
       "      <th>8</th>\n",
       "      <td>3258178</td>\n",
       "      <td>The Shining</td>\n",
       "      <td>1</td>\n",
       "      <td>4.26</td>\n",
       "      <td>-3.26</td>\n",
       "    </tr>\n",
       "    <tr>\n",
       "      <th>15</th>\n",
       "      <td>3258178</td>\n",
       "      <td>Pride and Prejudice</td>\n",
       "      <td>1</td>\n",
       "      <td>4.28</td>\n",
       "      <td>-3.28</td>\n",
       "    </tr>\n",
       "    <tr>\n",
       "      <th>20</th>\n",
       "      <td>3258178</td>\n",
       "      <td>Gone with the Wind</td>\n",
       "      <td>1</td>\n",
       "      <td>4.31</td>\n",
       "      <td>-3.31</td>\n",
       "    </tr>\n",
       "    <tr>\n",
       "      <th>196</th>\n",
       "      <td>3258178</td>\n",
       "      <td>The Great War For Civilisation: The Conquest o...</td>\n",
       "      <td>0</td>\n",
       "      <td>4.40</td>\n",
       "      <td>-4.40</td>\n",
       "    </tr>\n",
       "    <tr>\n",
       "      <th>144</th>\n",
       "      <td>3258178</td>\n",
       "      <td>The Military Half</td>\n",
       "      <td>0</td>\n",
       "      <td>4.44</td>\n",
       "      <td>-4.44</td>\n",
       "    </tr>\n",
       "  </tbody>\n",
       "</table>\n",
       "<p>197 rows × 5 columns</p>\n",
       "</div>"
      ],
      "text/plain": [
       "     user_id                                              title  user_rating  \\\n",
       "47   3258178                                            Macbeth            5   \n",
       "49   3258178                                     Fahrenheit 451            5   \n",
       "69   3258178  Prince Caspian - Book 2 in the Chronicles of N...            5   \n",
       "16   3258178                                        Animal Farm            5   \n",
       "68   3258178                   The Voyage Of The \"Dawn Treader\"            5   \n",
       "..       ...                                                ...          ...   \n",
       "8    3258178                                        The Shining            1   \n",
       "15   3258178                                Pride and Prejudice            1   \n",
       "20   3258178                                 Gone with the Wind            1   \n",
       "196  3258178  The Great War For Civilisation: The Conquest o...            0   \n",
       "144  3258178                                  The Military Half            0   \n",
       "\n",
       "     avg_rating  diff  \n",
       "47         3.90  1.10  \n",
       "49         3.97  1.03  \n",
       "69         3.98  1.02  \n",
       "16         3.98  1.02  \n",
       "68         4.09  0.91  \n",
       "..          ...   ...  \n",
       "8          4.26 -3.26  \n",
       "15         4.28 -3.28  \n",
       "20         4.31 -3.31  \n",
       "196        4.40 -4.40  \n",
       "144        4.44 -4.44  \n",
       "\n",
       "[197 rows x 5 columns]"
      ]
     },
     "execution_count": 29,
     "metadata": {},
     "output_type": "execute_result"
    }
   ],
   "source": [
    "differenced_df = user_3258178_df.assign(diff = (user_3258178_df['user_rating']) - user_3258178_df['avg_rating'])\n",
    "differenced_df.sort_values(by = 'diff', ascending = False)"
   ]
  },
  {
   "cell_type": "code",
   "execution_count": 30,
   "id": "4b55f2c1-1b37-4683-93fb-72ef0430482d",
   "metadata": {},
   "outputs": [
    {
     "data": {
      "text/plain": [
       "37"
      ]
     },
     "execution_count": 30,
     "metadata": {},
     "output_type": "execute_result"
    }
   ],
   "source": [
    "differenced_df['diff'].loc[differenced_df['diff'] > 0].count()"
   ]
  },
  {
   "cell_type": "code",
   "execution_count": 31,
   "id": "4fb154aa-e7fc-4331-99f7-4e93c604b010",
   "metadata": {},
   "outputs": [
    {
     "name": "stdout",
     "output_type": "stream",
     "text": [
      "The User averages a score of 3.233502538071066 stars compared to a Goodreads average of 4.28 stars\n",
      " for books in the user's library. This is an average differential of -1.05 stars.\n"
     ]
    }
   ],
   "source": [
    "user_avg = np.mean(differenced_df['user_rating'])\n",
    "goodreads_avg = np.mean(differenced_df['avg_rating'])\n",
    "diff_avg = np.mean(differenced_df['diff'])\n",
    "print(f\"The User averages a score of {user_avg} stars compared to a Goodreads average of \\\n",
    "{goodreads_avg:0.2f} stars\\n for books in the user's library. This is an average differential of \\\n",
    "{diff_avg:0.2f} stars.\")"
   ]
  },
  {
   "cell_type": "code",
   "execution_count": 32,
   "id": "94713846-5e7b-4a65-9ba0-735b43d7d8c4",
   "metadata": {
    "tags": []
   },
   "outputs": [
    {
     "data": {
      "image/png": "[encoded data removed]",
      "text/plain": [
       "<Figure size 1000x600 with 1 Axes>"
      ]
     },
     "metadata": {},
     "output_type": "display_data"
    }
   ],
   "source": [
    "plt.figure(figsize=(10, 6))\n",
    "sns.histplot(differenced_df['diff'], kde = True, bins = 25)\n",
    "plt.axvline(0, 0, 1, color = 'orange')\n",
    "plt.axvline(-1.31, 0, 1, color = 'red')\n",
    "plt.title('Distribution of User 3258178 Relative Ratings')\n",
    "plt.xlabel('Relative Rating (Goodreads Average - User Rating)')\n",
    "plt.ylabel('Frequency')\n",
    "plt.show()"
   ]
  },
  {
   "cell_type": "markdown",
   "id": "b64dbb3e-ee7d-4e76-ab13-9f619c9a46c4",
   "metadata": {},
   "source": [
    "This particular user is  particularly strict with their ratings. The user averages a rating of 2.76 stars, which is over a full star less than the average Goodreads rating for the books in their library. They have rated plenty of books above the Goodreads average, so I wouldn't consider them a hater. They just tend not to love the most popular books."
   ]
  },
  {
   "cell_type": "markdown",
   "id": "16976f3d-c635-4e27-a6de-610ecd470d17",
   "metadata": {},
   "source": [
    "User 77805119 doesn't merit much analysis. They seem to treat the ratings as binary, rating most books either 0 or 5 stars. This could be good feedback for a model, equating to either a \"yes\" or \"no\" recommendation."
   ]
  },
  {
   "cell_type": "code",
   "execution_count": 33,
   "id": "3b66880b-d8a2-404d-8db7-46906ab63722",
   "metadata": {},
   "outputs": [],
   "source": [
    "conn.close()"
   ]
  },
  {
   "cell_type": "markdown",
   "id": "eeecbaf0-cdd3-4269-9df8-eaea48a4401f",
   "metadata": {},
   "source": [
    "# Conclusion #\n",
    "This exploration has shown me that the most popular Goodreads users do not have a uniform system for rating books. Many of them use a similar scale : \n",
    "* 1 star - I did not like it\n",
    "* 2 stars - It was fine\n",
    "* 3 stars - I liked it\n",
    "* 4 stars - I really liked it\n",
    "\n",
    "Other users rate very differently. The model will have to account for these variations as it learns how to recommend books based on user similarity scores.."
   ]
  }
 ],
 "metadata": {
  "kernelspec": {
   "display_name": "Python 3 (ipykernel)",
   "language": "python",
   "name": "python3"
  },
  "language_info": {
   "codemirror_mode": {
    "name": "ipython",
    "version": 3
   },
   "file_extension": ".py",
   "mimetype": "text/x-python",
   "name": "python",
   "nbconvert_exporter": "python",
   "pygments_lexer": "ipython3",
   "version": "3.9.18"
  }
 },
 "nbformat": 4,
 "nbformat_minor": 5
}
