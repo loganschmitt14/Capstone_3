{
 "cells": [
  {
   "cell_type": "code",
   "execution_count": 15,
   "id": "70632fd0-253f-4a26-a93e-4523c4c22eeb",
   "metadata": {},
   "outputs": [
    {
     "ename": "SyntaxError",
     "evalue": "invalid syntax (3187705023.py, line 11)",
     "output_type": "error",
     "traceback": [
      "\u001b[1;36m  Cell \u001b[1;32mIn[15], line 11\u001b[1;36m\u001b[0m\n\u001b[1;33m    from Capstone 3.src.data.setup_webdriver import initialize_webdriver\u001b[0m\n\u001b[1;37m                  ^\u001b[0m\n\u001b[1;31mSyntaxError\u001b[0m\u001b[1;31m:\u001b[0m invalid syntax\n"
     ]
    }
   ],
   "source": [
    "# Selenium imports\n",
    "from selenium import webdriver\n",
    "from selenium.webdriver.common.by import By\n",
    "from selenium.webdriver.chrome.service import Service\n",
    "from selenium.webdriver.common.keys import Keys\n",
    "from selenium.common.exceptions import NoSuchElementException, TimeoutException\n",
    "from selenium.webdriver.support.ui import WebDriverWait\n",
    "from selenium.webdriver.support import expected_conditions as EC\n",
    "# Other imports\n",
    "from configparser import ConfigParser\n",
    "from Capstone 3.src.data.setup_webdriver import initialize_webdriver\n",
    "import logging\n",
    "import time"
   ]
  },
  {
   "cell_type": "code",
   "execution_count": 10,
   "id": "b1612a08-b354-45fa-a210-c2d9d681634b",
   "metadata": {},
   "outputs": [],
   "source": [
    "# Configure logging\n",
    "logging.basicConfig(filename='selenium.log', level=logging.INFO)"
   ]
  },
  {
   "cell_type": "code",
   "execution_count": 11,
   "id": "8c7c0e65-8993-42bd-a439-2c786e3b84fa",
   "metadata": {},
   "outputs": [],
   "source": [
    "# Configure driver\n",
    "driver = "
   ]
  },
  {
   "cell_type": "code",
   "execution_count": 12,
   "id": "585196c2-480f-44be-a17a-e150c656a20b",
   "metadata": {},
   "outputs": [],
   "source": [
    "# Find credentials\n",
    "config = ConfigParser()\n",
    "config.read('../config.ini')\n",
    "username = config.get('credentials', 'username')\n",
    "password = config.get('credentials', 'password')"
   ]
  },
  {
   "cell_type": "code",
   "execution_count": 13,
   "id": "3916de53-da12-42aa-9bf4-a105e3cc6683",
   "metadata": {},
   "outputs": [],
   "source": [
    "try:\n",
    "\n",
    "    # Open Goodreads\n",
    "    driver.get('https://www.goodreads.com')\n",
    "    logging.info('Opened Goodreads successfully.')\n",
    "    \n",
    "    # Navigate to the main sign-in options page\n",
    "    WebDriverWait(driver, 10).until(\n",
    "        EC.element_to_be_clickable((\n",
    "            By.LINK_TEXT, 'Sign In'))).click()\n",
    "    \n",
    "    logging.info('Reached sign-in options page.')\n",
    "    \n",
    "    # Navigate to the sign-in with email page\n",
    "    WebDriverWait(driver, 10).until(\n",
    "        EC.element_to_be_clickable((\n",
    "            By.LINK_TEXT, 'Sign in with email'))).click()\n",
    "\n",
    "    logging.info('Reached sign-in with email page.')\n",
    "\n",
    "    \n",
    "    # Input the username\n",
    "    username_field = WebDriverWait(driver, 10).until(\n",
    "        EC.visibility_of_element_located((\n",
    "            By.ID, 'ap_email')))\n",
    "\n",
    "    username_field.send_keys(username)\n",
    "    \n",
    "    # Input the password\n",
    "    password_field = driver.find_element(By.ID, 'ap_password')\n",
    "    password_field.send_keys(password)\n",
    "    \n",
    "    # Submit the form to log in\n",
    "    sign_in_button = driver.find_element(By.ID, 'signInSubmit')\n",
    "    sign_in_button.click()\n",
    "\n",
    "    logging.info(\"Login attempted.\")\n",
    "\n",
    "except NoSuchElementException as e:\n",
    "    logging.error(f\"Element not found: {e}\")\n",
    "    driver.save_screenshot('NoSuchElement.png')\n",
    "except TimeoutException as e:\n",
    "    logging.error(f\"Timeout occurred: {e}\")\n",
    "    driver.save_screenshot('Timeout.png')\n",
    "except Exception as e:\n",
    "    logging.error(f\"An error occurred: {e}\")\n",
    "    driver.save_screenshot(f'Exception_{int(time.time())}.png')\n",
    "\n",
    "finally:\n",
    "    driver.quit()"
   ]
  }
 ],
 "metadata": {
  "kernelspec": {
   "display_name": "Python 3 (ipykernel)",
   "language": "python",
   "name": "python3"
  },
  "language_info": {
   "codemirror_mode": {
    "name": "ipython",
    "version": 3
   },
   "file_extension": ".py",
   "mimetype": "text/x-python",
   "name": "python",
   "nbconvert_exporter": "python",
   "pygments_lexer": "ipython3",
   "version": "3.9.18"
  }
 },
 "nbformat": 4,
 "nbformat_minor": 5
}
