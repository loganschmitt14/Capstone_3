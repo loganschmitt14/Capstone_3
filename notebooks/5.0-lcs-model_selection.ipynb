{
 "cells": [
  {
   "cell_type": "markdown",
   "id": "0f3565a6-f37d-4acc-8b0e-7ff27b9d94d5",
   "metadata": {},
   "source": [
    "# Model Selection #\n",
    "The scikit-surprise library has a ton of similarity algorithms to choose from, so it will be a process to evaluate them all and choose the best option."
   ]
  },
  {
   "cell_type": "code",
   "execution_count": 1,
   "id": "fd5ae492-a8b2-4058-afad-850924f15cf5",
   "metadata": {
    "tags": []
   },
   "outputs": [
    {
     "name": "stdout",
     "output_type": "stream",
     "text": [
      "System version: 3.9.18 (main, Sep 11 2023, 14:09:26) [MSC v.1916 64 bit (AMD64)]\n",
      "Surprise version: 1.1.3\n"
     ]
    }
   ],
   "source": [
    "import pandas as pd\n",
    "import os\n",
    "import sys\n",
    "from pathlib import Path\n",
    "import numpy as np\n",
    "import sqlite3\n",
    "import surprise\n",
    "from surprise import Reader, Dataset, accuracy\n",
    "from surprise import SVD, SVDpp, KNNBasic, KNNBaseline, KNNWithMeans, KNNWithZScore\n",
    "from surprise import SlopeOne, NMF, NormalPredictor, BaselineOnly, CoClustering\n",
    "from surprise.model_selection import cross_validate, GridSearchCV\n",
    "from tqdm import tqdm\n",
    "import random\n",
    "print(\"System version: {}\".format(sys.version))\n",
    "print(\"Surprise version: {}\".format(surprise.__version__))"
   ]
  },
  {
   "cell_type": "markdown",
   "id": "0217cf65-f2f0-48f4-8bfe-976b22bf4284",
   "metadata": {},
   "source": [
    "## Benchmarking Algorithms ##\n",
    "The first step is to evaluate the baseline performance of each algorithm. I wonder if KNNWithZScore will perform well due to the variety in how users approach the rating system."
   ]
  },
  {
   "cell_type": "code",
   "execution_count": 2,
   "id": "9c19749c-5d59-42cf-be75-75ba71e177b3",
   "metadata": {
    "tags": []
   },
   "outputs": [],
   "source": [
    "X_path = '..\\data\\processed\\X.csv'"
   ]
  },
  {
   "cell_type": "code",
   "execution_count": 3,
   "id": "9415e6d4-c353-4210-80c9-1b4e4b033a1d",
   "metadata": {
    "tags": []
   },
   "outputs": [],
   "source": [
    "# Tell the Reader what format the data takes\n",
    "reader = Reader(line_format = u'user item rating', sep = ',', rating_scale = (0,5), skip_lines = 1)"
   ]
  },
  {
   "cell_type": "code",
   "execution_count": 4,
   "id": "44155d30-c4dc-4173-ab54-48d4583de11e",
   "metadata": {
    "tags": []
   },
   "outputs": [],
   "source": [
    "# Read in the data with the Reader\n",
    "data = Dataset.load_from_file(X_path, reader = reader)"
   ]
  },
  {
   "cell_type": "code",
   "execution_count": 5,
   "id": "af0399cb-1b93-4cf1-8972-6d31649ee331",
   "metadata": {
    "tags": []
   },
   "outputs": [
    {
     "name": "stdout",
     "output_type": "stream",
     "text": [
      "Estimating biases using als...\n",
      "Computing the msd similarity matrix...\n",
      "Done computing similarity matrix.\n",
      "Estimating biases using als...\n",
      "Computing the msd similarity matrix...\n",
      "Done computing similarity matrix.\n",
      "Estimating biases using als...\n",
      "Computing the msd similarity matrix...\n",
      "Done computing similarity matrix.\n",
      "Estimating biases using als...\n",
      "Computing the msd similarity matrix...\n",
      "Done computing similarity matrix.\n",
      "Estimating biases using als...\n",
      "Computing the msd similarity matrix...\n",
      "Done computing similarity matrix.\n",
      "Computing the msd similarity matrix...\n",
      "Done computing similarity matrix.\n",
      "Computing the msd similarity matrix...\n",
      "Done computing similarity matrix.\n",
      "Computing the msd similarity matrix...\n",
      "Done computing similarity matrix.\n",
      "Computing the msd similarity matrix...\n",
      "Done computing similarity matrix.\n",
      "Computing the msd similarity matrix...\n",
      "Done computing similarity matrix.\n",
      "Computing the msd similarity matrix...\n",
      "Done computing similarity matrix.\n",
      "Computing the msd similarity matrix...\n",
      "Done computing similarity matrix.\n",
      "Computing the msd similarity matrix...\n",
      "Done computing similarity matrix.\n",
      "Computing the msd similarity matrix...\n",
      "Done computing similarity matrix.\n",
      "Computing the msd similarity matrix...\n",
      "Done computing similarity matrix.\n",
      "Computing the msd similarity matrix...\n",
      "Done computing similarity matrix.\n",
      "Computing the msd similarity matrix...\n",
      "Done computing similarity matrix.\n",
      "Computing the msd similarity matrix...\n",
      "Done computing similarity matrix.\n",
      "Computing the msd similarity matrix...\n",
      "Done computing similarity matrix.\n",
      "Computing the msd similarity matrix...\n",
      "Done computing similarity matrix.\n",
      "Estimating biases using als...\n",
      "Estimating biases using als...\n",
      "Estimating biases using als...\n",
      "Estimating biases using als...\n",
      "Estimating biases using als...\n"
     ]
    }
   ],
   "source": [
    "benchmark = []\n",
    "\n",
    "algorithms = [SVD(), SVDpp(), SlopeOne(), NMF(), NormalPredictor(), KNNBaseline(),\n",
    "              KNNBasic(sim_options={'user_based': True}), KNNWithMeans(), KNNWithZScore(), BaselineOnly(), CoClustering()]\n",
    "\n",
    "for algorithm in algorithms:\n",
    "    \n",
    "    # Evaluate each algorithm\n",
    "    results = cross_validate(algorithm, data, measures = ['RMSE', 'MAE'], cv = 5, verbose = False)\n",
    "\n",
    "    # Convert results to a DataFrame and calculate the mean\n",
    "    tmp = pd.DataFrame.from_dict(results).mean(axis=0)\n",
    "    \n",
    "    # Add the name of the algorithm as a new column\n",
    "    tmp['Algorithm'] = str(algorithm).split(' ')[0].split('.')[-1]\n",
    "\n",
    "    # Append this DataFrame to the benchmark list\n",
    "    benchmark.append(tmp)\n",
    "    \n",
    "benchmark_df = pd.DataFrame(benchmark).set_index('Algorithm').sort_values('test_rmse');"
   ]
  },
  {
   "cell_type": "code",
   "execution_count": 6,
   "id": "28f588b8-1e19-4d35-acb3-8f043e678a84",
   "metadata": {
    "tags": []
   },
   "outputs": [
    {
     "data": {
      "text/html": [
       "<div>\n",
       "<style scoped>\n",
       "    .dataframe tbody tr th:only-of-type {\n",
       "        vertical-align: middle;\n",
       "    }\n",
       "\n",
       "    .dataframe tbody tr th {\n",
       "        vertical-align: top;\n",
       "    }\n",
       "\n",
       "    .dataframe thead th {\n",
       "        text-align: right;\n",
       "    }\n",
       "</style>\n",
       "<table border=\"1\" class=\"dataframe\">\n",
       "  <thead>\n",
       "    <tr style=\"text-align: right;\">\n",
       "      <th></th>\n",
       "      <th>test_rmse</th>\n",
       "      <th>test_mae</th>\n",
       "      <th>fit_time</th>\n",
       "      <th>test_time</th>\n",
       "    </tr>\n",
       "    <tr>\n",
       "      <th>Algorithm</th>\n",
       "      <th></th>\n",
       "      <th></th>\n",
       "      <th></th>\n",
       "      <th></th>\n",
       "    </tr>\n",
       "  </thead>\n",
       "  <tbody>\n",
       "    <tr>\n",
       "      <th>SVD</th>\n",
       "      <td>1.033372</td>\n",
       "      <td>0.686941</td>\n",
       "      <td>0.280643</td>\n",
       "      <td>0.023931</td>\n",
       "    </tr>\n",
       "    <tr>\n",
       "      <th>SVDpp</th>\n",
       "      <td>1.035129</td>\n",
       "      <td>0.683557</td>\n",
       "      <td>1.986468</td>\n",
       "      <td>0.126673</td>\n",
       "    </tr>\n",
       "    <tr>\n",
       "      <th>BaselineOnly</th>\n",
       "      <td>1.036723</td>\n",
       "      <td>0.702795</td>\n",
       "      <td>0.044282</td>\n",
       "      <td>0.017364</td>\n",
       "    </tr>\n",
       "    <tr>\n",
       "      <th>KNNBaseline</th>\n",
       "      <td>1.073824</td>\n",
       "      <td>0.716127</td>\n",
       "      <td>0.046459</td>\n",
       "      <td>0.050470</td>\n",
       "    </tr>\n",
       "    <tr>\n",
       "      <th>KNNWithZScore</th>\n",
       "      <td>1.252720</td>\n",
       "      <td>0.856389</td>\n",
       "      <td>0.026130</td>\n",
       "      <td>0.042762</td>\n",
       "    </tr>\n",
       "    <tr>\n",
       "      <th>KNNWithMeans</th>\n",
       "      <td>1.256886</td>\n",
       "      <td>0.862333</td>\n",
       "      <td>0.013171</td>\n",
       "      <td>0.037687</td>\n",
       "    </tr>\n",
       "    <tr>\n",
       "      <th>SlopeOne</th>\n",
       "      <td>1.275415</td>\n",
       "      <td>0.884449</td>\n",
       "      <td>2.830489</td>\n",
       "      <td>0.081975</td>\n",
       "    </tr>\n",
       "    <tr>\n",
       "      <th>KNNBasic</th>\n",
       "      <td>1.289185</td>\n",
       "      <td>0.882756</td>\n",
       "      <td>0.006184</td>\n",
       "      <td>0.046493</td>\n",
       "    </tr>\n",
       "    <tr>\n",
       "      <th>NMF</th>\n",
       "      <td>1.299310</td>\n",
       "      <td>0.920541</td>\n",
       "      <td>0.893476</td>\n",
       "      <td>0.021940</td>\n",
       "    </tr>\n",
       "    <tr>\n",
       "      <th>CoClustering</th>\n",
       "      <td>1.299851</td>\n",
       "      <td>0.900942</td>\n",
       "      <td>1.331904</td>\n",
       "      <td>0.017159</td>\n",
       "    </tr>\n",
       "    <tr>\n",
       "      <th>NormalPredictor</th>\n",
       "      <td>1.601137</td>\n",
       "      <td>1.175379</td>\n",
       "      <td>0.018163</td>\n",
       "      <td>0.019347</td>\n",
       "    </tr>\n",
       "  </tbody>\n",
       "</table>\n",
       "</div>"
      ],
      "text/plain": [
       "                 test_rmse  test_mae  fit_time  test_time\n",
       "Algorithm                                                \n",
       "SVD               1.033372  0.686941  0.280643   0.023931\n",
       "SVDpp             1.035129  0.683557  1.986468   0.126673\n",
       "BaselineOnly      1.036723  0.702795  0.044282   0.017364\n",
       "KNNBaseline       1.073824  0.716127  0.046459   0.050470\n",
       "KNNWithZScore     1.252720  0.856389  0.026130   0.042762\n",
       "KNNWithMeans      1.256886  0.862333  0.013171   0.037687\n",
       "SlopeOne          1.275415  0.884449  2.830489   0.081975\n",
       "KNNBasic          1.289185  0.882756  0.006184   0.046493\n",
       "NMF               1.299310  0.920541  0.893476   0.021940\n",
       "CoClustering      1.299851  0.900942  1.331904   0.017159\n",
       "NormalPredictor   1.601137  1.175379  0.018163   0.019347"
      ]
     },
     "execution_count": 6,
     "metadata": {},
     "output_type": "execute_result"
    }
   ],
   "source": [
    "benchmark_df"
   ]
  },
  {
   "cell_type": "markdown",
   "id": "dc63d09c-e002-4f2b-8465-e790d741a26c",
   "metadata": {},
   "source": [
    "### Result ###\n",
    "There are three types of model with a test RMSE of about 1.03: SVD, SVDpp, and Baseline Only. SVDpp has a slightly lower MAE than SVD alone, but the fit time tradeoff is not preferable. I'll move forward with the SVD algorithm.\n",
    "I am surprised that KNNWithZScore did so poorly compared with SVD."
   ]
  },
  {
   "cell_type": "markdown",
   "id": "94fb9078-4c70-416f-8fb2-72322d6bc432",
   "metadata": {},
   "source": [
    "## Hyperparameter Tuning for SVD ##\n",
    "It's time to see if adjusting any of the SVD parameters can improve performance further."
   ]
  },
  {
   "cell_type": "code",
   "execution_count": 7,
   "id": "e9fe4bfa-d665-4b12-8975-24c7b2abf998",
   "metadata": {
    "tags": []
   },
   "outputs": [],
   "source": [
    "seed = 14\n",
    "random.seed(seed)\n",
    "np.random.seed(seed)\n",
    "\n",
    "# Shuffle the data for fun\n",
    "raw_ratings = data.raw_ratings\n",
    "random.shuffle(raw_ratings)\n",
    "\n",
    "# Use 90% for training\n",
    "threshold = int(0.9 * len(raw_ratings))\n",
    "\n",
    "train_raw_ratings = raw_ratings[:threshold]\n",
    "test_raw_ratings = raw_ratings[threshold:]\n",
    "\n",
    "data.raw_ratings = train_raw_ratings"
   ]
  },
  {
   "cell_type": "code",
   "execution_count": 8,
   "id": "38da33fc-6ba3-4feb-b9b7-8cd411a63313",
   "metadata": {
    "tags": []
   },
   "outputs": [],
   "source": [
    "param_grid = {\n",
    "    'n_factors' : [10, 100, 500],\n",
    "    'n_epochs': [5, 20, 50],\n",
    "    'lr_all': [0.001, 0.005, 0.02],\n",
    "    'reg_all': [0.005, 0.02, 0.1],\n",
    "    'random_state': [14]\n",
    "    }"
   ]
  },
  {
   "cell_type": "code",
   "execution_count": 9,
   "id": "2ec84edc-75c2-40ad-b7ea-db7c12f8725c",
   "metadata": {
    "tags": []
   },
   "outputs": [],
   "source": [
    "gs = GridSearchCV(\n",
    "    algo_class = SVD,\n",
    "    param_grid = param_grid,\n",
    "    n_jobs = -1,\n",
    "    joblib_verbose = 5)"
   ]
  },
  {
   "cell_type": "code",
   "execution_count": 10,
   "id": "37162ce9-af54-4840-bcf8-fda1cf9c7794",
   "metadata": {
    "tags": []
   },
   "outputs": [
    {
     "name": "stderr",
     "output_type": "stream",
     "text": [
      "[Parallel(n_jobs=-1)]: Using backend LokyBackend with 4 concurrent workers.\n",
      "[Parallel(n_jobs=-1)]: Done  10 tasks      | elapsed:    1.2s\n",
      "[Parallel(n_jobs=-1)]: Done  64 tasks      | elapsed:    3.4s\n",
      "[Parallel(n_jobs=-1)]: Done 154 tasks      | elapsed:   10.4s\n",
      "[Parallel(n_jobs=-1)]: Done 280 tasks      | elapsed:   28.9s\n",
      "[Parallel(n_jobs=-1)]: Done 405 out of 405 | elapsed:  1.3min finished\n"
     ]
    }
   ],
   "source": [
    "gs.fit(data)"
   ]
  },
  {
   "cell_type": "code",
   "execution_count": 11,
   "id": "8f111578-51d5-43ac-ab29-d0a8eec0f227",
   "metadata": {
    "tags": []
   },
   "outputs": [
    {
     "name": "stdout",
     "output_type": "stream",
     "text": [
      "1.0340966565269754\n",
      "{'n_factors': 10, 'n_epochs': 50, 'lr_all': 0.001, 'reg_all': 0.005, 'random_state': 14}\n"
     ]
    }
   ],
   "source": [
    "print(gs.best_score['rmse'])\n",
    "\n",
    "# combination of parameters that gave the best RMSE score\n",
    "print(gs.best_params['rmse'])"
   ]
  },
  {
   "cell_type": "markdown",
   "id": "dc8cee06-878f-4ad2-b4b0-0fd20ac85030",
   "metadata": {},
   "source": [
    "The GridSearch found some minor improvements over the default performance of the algorithm by increasing the number of epochs and reducing the number of factors, learning rate, and regularization."
   ]
  },
  {
   "cell_type": "code",
   "execution_count": 13,
   "id": "6d0d70fb-62c9-446e-a8b8-807eba1bdf84",
   "metadata": {
    "tags": []
   },
   "outputs": [],
   "source": [
    "# Best algorithm\n",
    "best_SVD = SVD(n_factors = 10, n_epochs = 50,  lr_all = 0.001, reg_all = 0.005, random_state = 14)"
   ]
  },
  {
   "cell_type": "code",
   "execution_count": 14,
   "id": "7c4086db-a423-4aa5-9318-0dda9e07071b",
   "metadata": {
    "tags": []
   },
   "outputs": [],
   "source": [
    "# Retrain on whole trainset\n",
    "trainset = data.build_full_trainset()\n",
    "best_SVD.fit(trainset);"
   ]
  },
  {
   "cell_type": "code",
   "execution_count": 15,
   "id": "431a2ceb-9260-40e4-b895-8929af12f839",
   "metadata": {
    "tags": []
   },
   "outputs": [
    {
     "name": "stdout",
     "output_type": "stream",
     "text": [
      "Biased accuracy on trainset:   RMSE: 0.9601\n"
     ]
    }
   ],
   "source": [
    "# Evaluate training set accuracy\n",
    "predictions = best_SVD.test(trainset.build_testset())\n",
    "print('Biased accuracy on trainset:', end='   ')\n",
    "accuracy.rmse(predictions);"
   ]
  },
  {
   "cell_type": "code",
   "execution_count": 16,
   "id": "8b73ffb4-5158-4e86-a754-445cc2412431",
   "metadata": {
    "tags": []
   },
   "outputs": [
    {
     "name": "stdout",
     "output_type": "stream",
     "text": [
      "Unbiased accuracy on testset: RMSE: 1.0230\n"
     ]
    }
   ],
   "source": [
    "# Evaluate testing set accuracy\n",
    "testset = data.construct_testset(test_raw_ratings)\n",
    "predictions = best_SVD.test(testset)\n",
    "print('Unbiased accuracy on testset:', end=' ')\n",
    "accuracy.rmse(predictions);"
   ]
  },
  {
   "cell_type": "markdown",
   "id": "19712654-2c44-4275-94df-cbdd965aaf09",
   "metadata": {},
   "source": [
    "### Results ###\n",
    "I've picked the algorithm I'll use and its parameters. Now I'll make a function that creates this model from the user rating data so I can add the new user and return predictions to them."
   ]
  },
  {
   "cell_type": "markdown",
   "id": "a7c5472c-0bbb-4507-877c-48ae0f21daea",
   "metadata": {},
   "source": [
    "## Examining Predictions for a User ##\n",
    "Out of curiosity, I want to see what books are predicted for user ID 1"
   ]
  },
  {
   "cell_type": "code",
   "execution_count": 17,
   "id": "5519fe98-10f8-4226-889a-101940a2f103",
   "metadata": {
    "tags": []
   },
   "outputs": [],
   "source": [
    "# Collect all predictions for user ID 1\n",
    "user_predictions = [pred for pred in predictions if str(pred.uid) == str(1)]"
   ]
  },
  {
   "cell_type": "code",
   "execution_count": 18,
   "id": "d3a11001-37f8-47f6-b0e1-e58ff092fc2e",
   "metadata": {
    "tags": []
   },
   "outputs": [
    {
     "name": "stdout",
     "output_type": "stream",
     "text": [
      "Book ID: 7, Estimated Rating: 4.42\n",
      "Book ID: 89, Estimated Rating: 4.33\n",
      "Book ID: 41, Estimated Rating: 4.31\n",
      "Book ID: 75, Estimated Rating: 4.31\n",
      "Book ID: 65, Estimated Rating: 4.31\n"
     ]
    }
   ],
   "source": [
    "# Sort the predictions in descending order by estimated rating and return the top 5\n",
    "user_predictions.sort(key=lambda x: x.est, reverse=True)\n",
    "top_recommendations = user_predictions[:5]\n",
    "\n",
    "# Display the recommendations\n",
    "for pred in top_recommendations:\n",
    "    print(f'Book ID: {pred.iid}, Estimated Rating: {pred.est:.2f}')"
   ]
  },
  {
   "cell_type": "code",
   "execution_count": 19,
   "id": "512a471f-2237-472d-a8a7-0e5fd995731c",
   "metadata": {
    "tags": []
   },
   "outputs": [
    {
     "data": {
      "text/plain": [
       "[Prediction(uid='1', iid='7', r_ui=5.0, est=4.4243673318579315, details={'was_impossible': False}),\n",
       " Prediction(uid='1', iid='89', r_ui=5.0, est=4.3304354828217395, details={'was_impossible': False}),\n",
       " Prediction(uid='1', iid='41', r_ui=4.0, est=4.310893500701217, details={'was_impossible': False}),\n",
       " Prediction(uid='1', iid='75', r_ui=3.0, est=4.310893500701217, details={'was_impossible': False}),\n",
       " Prediction(uid='1', iid='65', r_ui=5.0, est=4.310893500701217, details={'was_impossible': False})]"
      ]
     },
     "execution_count": 19,
     "metadata": {},
     "output_type": "execute_result"
    }
   ],
   "source": [
    "# Viewing the recommendation format\n",
    "top_recommendations"
   ]
  },
  {
   "cell_type": "code",
   "execution_count": 20,
   "id": "29d9e1aa-daa8-45bf-9b92-f40b60817d96",
   "metadata": {
    "tags": []
   },
   "outputs": [
    {
     "data": {
      "text/plain": [
       "['7', '89', '41', '75', '65']"
      ]
     },
     "execution_count": 20,
     "metadata": {},
     "output_type": "execute_result"
    }
   ],
   "source": [
    "# Returning a list of only book_ids for database lookup\n",
    "[pred.iid for pred in user_predictions[:5]]"
   ]
  }
 ],
 "metadata": {
  "kernelspec": {
   "display_name": "Python 3 (ipykernel)",
   "language": "python",
   "name": "python3"
  },
  "language_info": {
   "codemirror_mode": {
    "name": "ipython",
    "version": 3
   },
   "file_extension": ".py",
   "mimetype": "text/x-python",
   "name": "python",
   "nbconvert_exporter": "python",
   "pygments_lexer": "ipython3",
   "version": "3.9.18"
  }
 },
 "nbformat": 4,
 "nbformat_minor": 5
}
