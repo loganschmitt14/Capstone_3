{
 "cells": [
  {
   "cell_type": "markdown",
   "id": "8ed52303-202d-42bb-9697-f5676f83a248",
   "metadata": {},
   "source": [
    "# Data Cleaning and EDA #\n",
    "The script has gathered up to 100 reviews per user for almost 300 users. Time to make sure all the data is present"
   ]
  },
  {
   "cell_type": "code",
   "execution_count": 1,
   "id": "762b1574-7809-4150-9af2-e9a3f3e744ca",
   "metadata": {},
   "outputs": [],
   "source": [
    "import pandas as pd\n",
    "import sqlite3\n",
    "import numpy as np\n",
    "import os\n",
    "from pathlib import Path\n",
    "import seaborn as sns\n",
    "import matplotlib.pyplot as plt"
   ]
  },
  {
   "cell_type": "code",
   "execution_count": 2,
   "id": "bfef8164-f21c-4415-8669-65666ef6662e",
   "metadata": {
    "tags": []
   },
   "outputs": [],
   "source": [
    "data_path = os.path.abspath(\n",
    "            os.path.join(\n",
    "                os.pardir,\n",
    "                'data',\n",
    "                'external'\n",
    "                )\n",
    "            )\n",
    "books_csv_path = os.path.abspath(os.path.join(data_path, 'books.csv'))\n",
    "\n",
    "ratings_csv_path = os.path.abspath(os.path.join(data_path, 'ratings.csv'))"
   ]
  },
  {
   "cell_type": "code",
   "execution_count": 3,
   "id": "d64c498d-7c58-4597-bc3c-5ce121168461",
   "metadata": {
    "tags": []
   },
   "outputs": [
    {
     "data": {
      "text/html": [
       "<div>\n",
       "<style scoped>\n",
       "    .dataframe tbody tr th:only-of-type {\n",
       "        vertical-align: middle;\n",
       "    }\n",
       "\n",
       "    .dataframe tbody tr th {\n",
       "        vertical-align: top;\n",
       "    }\n",
       "\n",
       "    .dataframe thead th {\n",
       "        text-align: right;\n",
       "    }\n",
       "</style>\n",
       "<table border=\"1\" class=\"dataframe\">\n",
       "  <thead>\n",
       "    <tr style=\"text-align: right;\">\n",
       "      <th></th>\n",
       "      <th>book_id</th>\n",
       "      <th>best_book_id</th>\n",
       "      <th>authors</th>\n",
       "      <th>title</th>\n",
       "      <th>image_url</th>\n",
       "    </tr>\n",
       "  </thead>\n",
       "  <tbody>\n",
       "    <tr>\n",
       "      <th>0</th>\n",
       "      <td>1</td>\n",
       "      <td>2767052</td>\n",
       "      <td>Suzanne Collins</td>\n",
       "      <td>The Hunger Games (The Hunger Games, #1)</td>\n",
       "      <td>https://images.gr-assets.com/books/1447303603m...</td>\n",
       "    </tr>\n",
       "    <tr>\n",
       "      <th>1</th>\n",
       "      <td>2</td>\n",
       "      <td>3</td>\n",
       "      <td>J.K. Rowling, Mary GrandPré</td>\n",
       "      <td>Harry Potter and the Sorcerer's Stone (Harry P...</td>\n",
       "      <td>https://images.gr-assets.com/books/1474154022m...</td>\n",
       "    </tr>\n",
       "    <tr>\n",
       "      <th>2</th>\n",
       "      <td>3</td>\n",
       "      <td>41865</td>\n",
       "      <td>Stephenie Meyer</td>\n",
       "      <td>Twilight (Twilight, #1)</td>\n",
       "      <td>https://images.gr-assets.com/books/1361039443m...</td>\n",
       "    </tr>\n",
       "    <tr>\n",
       "      <th>3</th>\n",
       "      <td>4</td>\n",
       "      <td>2657</td>\n",
       "      <td>Harper Lee</td>\n",
       "      <td>To Kill a Mockingbird</td>\n",
       "      <td>https://images.gr-assets.com/books/1361975680m...</td>\n",
       "    </tr>\n",
       "    <tr>\n",
       "      <th>4</th>\n",
       "      <td>5</td>\n",
       "      <td>4671</td>\n",
       "      <td>F. Scott Fitzgerald</td>\n",
       "      <td>The Great Gatsby</td>\n",
       "      <td>https://images.gr-assets.com/books/1490528560m...</td>\n",
       "    </tr>\n",
       "  </tbody>\n",
       "</table>\n",
       "</div>"
      ],
      "text/plain": [
       "   book_id  best_book_id                      authors  \\\n",
       "0        1       2767052              Suzanne Collins   \n",
       "1        2             3  J.K. Rowling, Mary GrandPré   \n",
       "2        3         41865              Stephenie Meyer   \n",
       "3        4          2657                   Harper Lee   \n",
       "4        5          4671          F. Scott Fitzgerald   \n",
       "\n",
       "                                               title  \\\n",
       "0            The Hunger Games (The Hunger Games, #1)   \n",
       "1  Harry Potter and the Sorcerer's Stone (Harry P...   \n",
       "2                            Twilight (Twilight, #1)   \n",
       "3                              To Kill a Mockingbird   \n",
       "4                                   The Great Gatsby   \n",
       "\n",
       "                                           image_url  \n",
       "0  https://images.gr-assets.com/books/1447303603m...  \n",
       "1  https://images.gr-assets.com/books/1474154022m...  \n",
       "2  https://images.gr-assets.com/books/1361039443m...  \n",
       "3  https://images.gr-assets.com/books/1361975680m...  \n",
       "4  https://images.gr-assets.com/books/1490528560m...  "
      ]
     },
     "execution_count": 3,
     "metadata": {},
     "output_type": "execute_result"
    }
   ],
   "source": [
    "books_df = pd.read_csv(books_csv_path,  usecols = ['book_id', 'best_book_id', 'authors', 'title', 'image_url'])\n",
    "books_df.head()"
   ]
  },
  {
   "cell_type": "code",
   "execution_count": 4,
   "id": "afc960df-b96f-46d9-8165-a0745d9c5417",
   "metadata": {
    "tags": []
   },
   "outputs": [
    {
     "data": {
      "text/html": [
       "<div>\n",
       "<style scoped>\n",
       "    .dataframe tbody tr th:only-of-type {\n",
       "        vertical-align: middle;\n",
       "    }\n",
       "\n",
       "    .dataframe tbody tr th {\n",
       "        vertical-align: top;\n",
       "    }\n",
       "\n",
       "    .dataframe thead th {\n",
       "        text-align: right;\n",
       "    }\n",
       "</style>\n",
       "<table border=\"1\" class=\"dataframe\">\n",
       "  <thead>\n",
       "    <tr style=\"text-align: right;\">\n",
       "      <th></th>\n",
       "      <th>user_id</th>\n",
       "      <th>book_id</th>\n",
       "      <th>rating</th>\n",
       "    </tr>\n",
       "  </thead>\n",
       "  <tbody>\n",
       "    <tr>\n",
       "      <th>0</th>\n",
       "      <td>1</td>\n",
       "      <td>258</td>\n",
       "      <td>5</td>\n",
       "    </tr>\n",
       "    <tr>\n",
       "      <th>1</th>\n",
       "      <td>2</td>\n",
       "      <td>4081</td>\n",
       "      <td>4</td>\n",
       "    </tr>\n",
       "    <tr>\n",
       "      <th>2</th>\n",
       "      <td>2</td>\n",
       "      <td>260</td>\n",
       "      <td>5</td>\n",
       "    </tr>\n",
       "    <tr>\n",
       "      <th>3</th>\n",
       "      <td>2</td>\n",
       "      <td>9296</td>\n",
       "      <td>5</td>\n",
       "    </tr>\n",
       "    <tr>\n",
       "      <th>4</th>\n",
       "      <td>2</td>\n",
       "      <td>2318</td>\n",
       "      <td>3</td>\n",
       "    </tr>\n",
       "  </tbody>\n",
       "</table>\n",
       "</div>"
      ],
      "text/plain": [
       "   user_id  book_id  rating\n",
       "0        1      258       5\n",
       "1        2     4081       4\n",
       "2        2      260       5\n",
       "3        2     9296       5\n",
       "4        2     2318       3"
      ]
     },
     "execution_count": 4,
     "metadata": {},
     "output_type": "execute_result"
    }
   ],
   "source": [
    "ratings_df = pd.read_csv(ratings_csv_path)\n",
    "ratings_df.head()"
   ]
  },
  {
   "cell_type": "code",
   "execution_count": 5,
   "id": "d953dc0c-13ec-4e8c-b237-9d7fb054a224",
   "metadata": {
    "tags": []
   },
   "outputs": [
    {
     "data": {
      "text/plain": [
       "user_id    int64\n",
       "book_id    int64\n",
       "rating     int64\n",
       "dtype: object"
      ]
     },
     "execution_count": 5,
     "metadata": {},
     "output_type": "execute_result"
    }
   ],
   "source": [
    "ratings_df.dtypes"
   ]
  },
  {
   "cell_type": "markdown",
   "id": "d0c13c56-2a01-4b3d-8246-f877d89e8bb1",
   "metadata": {},
   "source": [
    "# SQL Database Exploration #\n",
    "Now I want to check out the relational database I made from the data"
   ]
  },
  {
   "cell_type": "code",
   "execution_count": 6,
   "id": "b5132d60-ebc0-49d3-bf94-5ff373cb812f",
   "metadata": {},
   "outputs": [],
   "source": [
    "database_path = os.path.abspath(\n",
    "            os.path.join(\n",
    "                os.pardir,\n",
    "                'data',\n",
    "                'processed',\n",
    "                'goodbooks.db'\n",
    "                )\n",
    "            )\n",
    "\n",
    "conn = sqlite3.connect(database_path)"
   ]
  },
  {
   "cell_type": "code",
   "execution_count": 7,
   "id": "c4a3a1cb-f545-41bd-9ec5-88ee5080262f",
   "metadata": {},
   "outputs": [
    {
     "name": "stdout",
     "output_type": "stream",
     "text": [
      "(1, 258, 5)\n",
      "(2, 4081, 4)\n",
      "(2, 260, 5)\n",
      "(2, 9296, 5)\n",
      "(2, 2318, 3)\n",
      "(2, 26, 4)\n",
      "(2, 315, 3)\n",
      "(2, 33, 4)\n",
      "(2, 301, 5)\n",
      "(2, 2686, 5)\n"
     ]
    }
   ],
   "source": [
    "cur = conn.cursor()\n",
    "cur.execute('SELECT * FROM Ratings LIMIT 10')\n",
    "results = cur.fetchall()\n",
    "\n",
    "for row in results:\n",
    "    print(row)"
   ]
  },
  {
   "cell_type": "code",
   "execution_count": 8,
   "id": "6c2017bb-4a46-4887-bf87-f6d75c5c04c7",
   "metadata": {},
   "outputs": [
    {
     "name": "stdout",
     "output_type": "stream",
     "text": [
      "(1, 2767052, 'Suzanne Collins', 'The Hunger Games (The Hunger Games, #1)', 'https://images.gr-assets.com/books/1447303603m/2767052.jpg')\n",
      "(2, 3, 'J.K. Rowling, Mary GrandPré', \"Harry Potter and the Sorcerer's Stone (Harry Potter, #1)\", 'https://images.gr-assets.com/books/1474154022m/3.jpg')\n",
      "(3, 41865, 'Stephenie Meyer', 'Twilight (Twilight, #1)', 'https://images.gr-assets.com/books/1361039443m/41865.jpg')\n",
      "(4, 2657, 'Harper Lee', 'To Kill a Mockingbird', 'https://images.gr-assets.com/books/1361975680m/2657.jpg')\n",
      "(5, 4671, 'F. Scott Fitzgerald', 'The Great Gatsby', 'https://images.gr-assets.com/books/1490528560m/4671.jpg')\n",
      "(6, 11870085, 'John Green', 'The Fault in Our Stars', 'https://images.gr-assets.com/books/1360206420m/11870085.jpg')\n",
      "(7, 5907, 'J.R.R. Tolkien', 'The Hobbit', 'https://images.gr-assets.com/books/1372847500m/5907.jpg')\n",
      "(8, 5107, 'J.D. Salinger', 'The Catcher in the Rye', 'https://images.gr-assets.com/books/1398034300m/5107.jpg')\n",
      "(9, 960, 'Dan Brown', 'Angels & Demons  (Robert Langdon, #1)', 'https://images.gr-assets.com/books/1303390735m/960.jpg')\n",
      "(10, 1885, 'Jane Austen', 'Pride and Prejudice', 'https://images.gr-assets.com/books/1320399351m/1885.jpg')\n"
     ]
    }
   ],
   "source": [
    "cur = conn.cursor()\n",
    "cur.execute('SELECT * FROM Books LIMIT 10')\n",
    "results = cur.fetchall()\n",
    "\n",
    "for row in results:\n",
    "    print(row)"
   ]
  },
  {
   "cell_type": "code",
   "execution_count": 9,
   "id": "434ae33d-af6d-496d-85db-25f2cc3decc2",
   "metadata": {},
   "outputs": [
    {
     "name": "stdout",
     "output_type": "stream",
     "text": [
      "(10000,)\n"
     ]
    }
   ],
   "source": [
    "cur.execute('SELECT COUNT(*) FROM Books')\n",
    "book_count = cur.fetchone()\n",
    "print(book_count)"
   ]
  },
  {
   "cell_type": "code",
   "execution_count": 14,
   "id": "2fb40a02-b8f1-4bd3-8b6a-4eb18476cfcb",
   "metadata": {
    "tags": []
   },
   "outputs": [
    {
     "name": "stdout",
     "output_type": "stream",
     "text": [
      "(5976479,)\n"
     ]
    }
   ],
   "source": [
    "cur.execute('SELECT COUNT(*) FROM Ratings')\n",
    "rating_count = cur.fetchone()\n",
    "print(rating_count)"
   ]
  },
  {
   "cell_type": "code",
   "execution_count": 12,
   "id": "577476d6-48bd-4818-ac07-367fc2735dad",
   "metadata": {},
   "outputs": [
    {
     "name": "stdout",
     "output_type": "stream",
     "text": [
      "(53424,)\n"
     ]
    }
   ],
   "source": [
    "cur.execute('SELECT COUNT(DISTINCT user_id) FROM Ratings')\n",
    "user_count = cur.fetchone()\n",
    "print(user_count)"
   ]
  },
  {
   "cell_type": "code",
   "execution_count": 11,
   "id": "5fe7f725-9d17-4ade-a8ee-5025cb7d286b",
   "metadata": {},
   "outputs": [
    {
     "name": "stdout",
     "output_type": "stream",
     "text": [
      "(0, 'user_id', 'INTEGER', 0, None, 0)\n",
      "(1, 'book_id', 'INTEGER', 0, None, 0)\n",
      "(2, 'user_rating', 'INTEGER', 0, None, 0)\n"
     ]
    }
   ],
   "source": [
    "for row in conn.execute('PRAGMA table_info(Ratings)'):\n",
    "    print(row)"
   ]
  },
  {
   "cell_type": "markdown",
   "id": "581b10c2-962b-4d5e-98c6-58efe648764f",
   "metadata": {},
   "source": [
    "### Database Assessment ###\n",
    "The database is correctly built with all books, users, and ratings accounted for! There are 10,000 unique books and 53,424 unique users combining for almost 6 million reviews."
   ]
  },
  {
   "cell_type": "markdown",
   "id": "1c6c45a9-939b-4e1a-a828-30b3d0cb050b",
   "metadata": {},
   "source": [
    "## EDA ##\n",
    "Now I want to take a look at the distributions of books and ratings."
   ]
  },
  {
   "cell_type": "markdown",
   "id": "cd400eea-5438-4023-9c7e-7ed626058fb3",
   "metadata": {},
   "source": [
    "### Most Popular Books ###"
   ]
  },
  {
   "cell_type": "code",
   "execution_count": 18,
   "id": "acb05068-d004-43db-a8b3-f11b060f0d21",
   "metadata": {},
   "outputs": [],
   "source": [
    "query = '''\n",
    "SELECT b.title, AVG(r.user_rating) as avg_rating, COUNT(r.user_rating) as votes\n",
    "FROM Books b\n",
    "JOIN Ratings r ON b.book_id = r.book_id\n",
    "GROUP BY b.title\n",
    "LIMIT 10\n",
    "'''\n",
    "books_avg_ratings_df = pd.read_sql_query(query, conn)"
   ]
  },
  {
   "cell_type": "code",
   "execution_count": 19,
   "id": "a336b9e4-44e4-49a3-9ed7-5bc9799f2c30",
   "metadata": {},
   "outputs": [
    {
     "data": {
      "text/html": [
       "<div>\n",
       "<style scoped>\n",
       "    .dataframe tbody tr th:only-of-type {\n",
       "        vertical-align: middle;\n",
       "    }\n",
       "\n",
       "    .dataframe tbody tr th {\n",
       "        vertical-align: top;\n",
       "    }\n",
       "\n",
       "    .dataframe thead th {\n",
       "        text-align: right;\n",
       "    }\n",
       "</style>\n",
       "<table border=\"1\" class=\"dataframe\">\n",
       "  <thead>\n",
       "    <tr style=\"text-align: right;\">\n",
       "      <th></th>\n",
       "      <th>title</th>\n",
       "      <th>avg_rating</th>\n",
       "      <th>votes</th>\n",
       "    </tr>\n",
       "  </thead>\n",
       "  <tbody>\n",
       "    <tr>\n",
       "      <th>3</th>\n",
       "      <td>'Salem's Lot</td>\n",
       "      <td>3.938868</td>\n",
       "      <td>4433</td>\n",
       "    </tr>\n",
       "    <tr>\n",
       "      <th>4</th>\n",
       "      <td>'Tis (Frank McCourt, #2)</td>\n",
       "      <td>3.570413</td>\n",
       "      <td>703</td>\n",
       "    </tr>\n",
       "    <tr>\n",
       "      <th>5</th>\n",
       "      <td>1,000 Places to See Before You Die</td>\n",
       "      <td>3.728643</td>\n",
       "      <td>398</td>\n",
       "    </tr>\n",
       "    <tr>\n",
       "      <th>7</th>\n",
       "      <td>10% Happier: How I Tamed the Voice in My Head,...</td>\n",
       "      <td>3.838384</td>\n",
       "      <td>297</td>\n",
       "    </tr>\n",
       "    <tr>\n",
       "      <th>0</th>\n",
       "      <td>Angels (Walsh Family, #3)</td>\n",
       "      <td>3.562738</td>\n",
       "      <td>263</td>\n",
       "    </tr>\n",
       "    <tr>\n",
       "      <th>6</th>\n",
       "      <td>1/4 جرام</td>\n",
       "      <td>3.882653</td>\n",
       "      <td>196</td>\n",
       "    </tr>\n",
       "    <tr>\n",
       "      <th>2</th>\n",
       "      <td>#GIRLBOSS</td>\n",
       "      <td>3.476923</td>\n",
       "      <td>195</td>\n",
       "    </tr>\n",
       "    <tr>\n",
       "      <th>8</th>\n",
       "      <td>100 Bullets, Vol. 1: First Shot, Last Call</td>\n",
       "      <td>3.617647</td>\n",
       "      <td>170</td>\n",
       "    </tr>\n",
       "    <tr>\n",
       "      <th>9</th>\n",
       "      <td>100 Love Sonnets</td>\n",
       "      <td>4.398551</td>\n",
       "      <td>138</td>\n",
       "    </tr>\n",
       "    <tr>\n",
       "      <th>1</th>\n",
       "      <td>\"حكايات فرغلي المستكاوي \"حكايتى مع كفر السحلاوية</td>\n",
       "      <td>3.407080</td>\n",
       "      <td>113</td>\n",
       "    </tr>\n",
       "  </tbody>\n",
       "</table>\n",
       "</div>"
      ],
      "text/plain": [
       "                                               title  avg_rating  votes\n",
       "3                                       'Salem's Lot    3.938868   4433\n",
       "4                           'Tis (Frank McCourt, #2)    3.570413    703\n",
       "5                 1,000 Places to See Before You Die    3.728643    398\n",
       "7  10% Happier: How I Tamed the Voice in My Head,...    3.838384    297\n",
       "0                          Angels (Walsh Family, #3)    3.562738    263\n",
       "6                                           1/4 جرام    3.882653    196\n",
       "2                                          #GIRLBOSS    3.476923    195\n",
       "8         100 Bullets, Vol. 1: First Shot, Last Call    3.617647    170\n",
       "9                                   100 Love Sonnets    4.398551    138\n",
       "1   \"حكايات فرغلي المستكاوي \"حكايتى مع كفر السحلاوية    3.407080    113"
      ]
     },
     "execution_count": 19,
     "metadata": {},
     "output_type": "execute_result"
    }
   ],
   "source": [
    "books_avg_ratings_df.sort_values(by = ['votes', 'avg_rating'], ascending = [False, False]).head(10)"
   ]
  },
  {
   "cell_type": "markdown",
   "id": "28fbe239-d62e-4392-aba8-b6a31fcf37e1",
   "metadata": {},
   "source": [
    "I don't actually recognize any of these titles."
   ]
  },
  {
   "cell_type": "code",
   "execution_count": 20,
   "id": "1bbe1063-fa93-46e2-9c8b-71bdfd7bb141",
   "metadata": {},
   "outputs": [
    {
     "data": {
      "text/html": [
       "<div>\n",
       "<style scoped>\n",
       "    .dataframe tbody tr th:only-of-type {\n",
       "        vertical-align: middle;\n",
       "    }\n",
       "\n",
       "    .dataframe tbody tr th {\n",
       "        vertical-align: top;\n",
       "    }\n",
       "\n",
       "    .dataframe thead th {\n",
       "        text-align: right;\n",
       "    }\n",
       "</style>\n",
       "<table border=\"1\" class=\"dataframe\">\n",
       "  <thead>\n",
       "    <tr style=\"text-align: right;\">\n",
       "      <th></th>\n",
       "      <th>user_id</th>\n",
       "      <th>book_id</th>\n",
       "      <th>user_rating</th>\n",
       "    </tr>\n",
       "  </thead>\n",
       "  <tbody>\n",
       "    <tr>\n",
       "      <th>0</th>\n",
       "      <td>1</td>\n",
       "      <td>258</td>\n",
       "      <td>5</td>\n",
       "    </tr>\n",
       "    <tr>\n",
       "      <th>1</th>\n",
       "      <td>2</td>\n",
       "      <td>4081</td>\n",
       "      <td>4</td>\n",
       "    </tr>\n",
       "    <tr>\n",
       "      <th>2</th>\n",
       "      <td>2</td>\n",
       "      <td>260</td>\n",
       "      <td>5</td>\n",
       "    </tr>\n",
       "    <tr>\n",
       "      <th>3</th>\n",
       "      <td>2</td>\n",
       "      <td>9296</td>\n",
       "      <td>5</td>\n",
       "    </tr>\n",
       "    <tr>\n",
       "      <th>4</th>\n",
       "      <td>2</td>\n",
       "      <td>2318</td>\n",
       "      <td>3</td>\n",
       "    </tr>\n",
       "  </tbody>\n",
       "</table>\n",
       "</div>"
      ],
      "text/plain": [
       "   user_id  book_id  user_rating\n",
       "0        1      258            5\n",
       "1        2     4081            4\n",
       "2        2      260            5\n",
       "3        2     9296            5\n",
       "4        2     2318            3"
      ]
     },
     "execution_count": 20,
     "metadata": {},
     "output_type": "execute_result"
    }
   ],
   "source": [
    "ratings_df = pd.read_sql_query('SELECT * FROM Ratings', conn)\n",
    "ratings_df.head()"
   ]
  },
  {
   "cell_type": "markdown",
   "id": "4cedea31-20ef-4d7f-a278-dbc19d893037",
   "metadata": {},
   "source": [
    "### Least Popular Books ###\n",
    "Although I sorted each user's shelf by most popular books, I'm curious to know which are the least popular books in the dataset."
   ]
  },
  {
   "cell_type": "code",
   "execution_count": 21,
   "id": "62dafbd3-37db-48f6-820c-5533528406c7",
   "metadata": {},
   "outputs": [
    {
     "data": {
      "text/plain": [
       "1902"
      ]
     },
     "execution_count": 21,
     "metadata": {},
     "output_type": "execute_result"
    }
   ],
   "source": [
    "num_reviews = ratings_df['book_id'].value_counts()\n",
    "len(num_reviews.unique())"
   ]
  },
  {
   "cell_type": "code",
   "execution_count": 22,
   "id": "e4bec4ab-7433-4ded-ac63-1b0f498dac49",
   "metadata": {},
   "outputs": [
    {
     "data": {
      "text/plain": [
       "10000"
      ]
     },
     "execution_count": 22,
     "metadata": {},
     "output_type": "execute_result"
    }
   ],
   "source": [
    "len(ratings_df['book_id'].unique())"
   ]
  },
  {
   "cell_type": "markdown",
   "id": "5c0911e1-adc5-48cf-bbb5-588b715741a7",
   "metadata": {},
   "source": [
    "There are 1902 unique value counts, so if I make a histogram with 1902 bins, each bin will account for a distinct value count. This way I can see the distribution of book popularity."
   ]
  },
  {
   "cell_type": "code",
   "execution_count": 28,
   "id": "d6fed470-336e-42a3-801a-73a1c0b8df3e",
   "metadata": {},
   "outputs": [
    {
     "data": {
      "image/png": "[encoded data removed]",
      "text/plain": [
       "<Figure size 640x480 with 1 Axes>"
      ]
     },
     "metadata": {},
     "output_type": "display_data"
    }
   ],
   "source": [
    "sns.histplot(data = num_reviews)#, bins = 1902)\n",
    "plt.title('Histogram of Book Reviews')\n",
    "plt.xlabel('Number of Book Appearances in Dataset')\n",
    "#plt.ylim(0, 500)\n",
    "plt.ylabel('Frequency')\n",
    "plt.show()"
   ]
  },
  {
   "cell_type": "markdown",
   "id": "8a9b4eb9-058f-4217-9d1f-37fddce160d0",
   "metadata": {},
   "source": [
    "The vast majority of books only appear a handful of times in the dataset, with a couple outliers making over 20,000 appearances."
   ]
  },
  {
   "cell_type": "code",
   "execution_count": 29,
   "id": "1716eac2-fde6-4dfa-b17a-a061a058db24",
   "metadata": {},
   "outputs": [
    {
     "data": {
      "text/plain": [
       "1901"
      ]
     },
     "execution_count": 29,
     "metadata": {},
     "output_type": "execute_result"
    }
   ],
   "source": [
    "min_books = 10\n",
    "popular_filter = ratings_df['book_id'].value_counts() > min_books\n",
    "popular_filter = popular_filter[popular_filter].index.to_list()\n",
    "popular_df = ratings_df[ratings_df['book_id'].isin(popular_filter)]\n",
    "len(popular_df['book_id'].value_counts().unique())"
   ]
  },
  {
   "cell_type": "markdown",
   "id": "6929b4e3-2d35-4086-91d2-b3dd91752f11",
   "metadata": {},
   "source": [
    "Only 1901 books remain if I filter out the books with fewer than 10 reviews. I don't think this is a good idea. If I was starting with a much larger dataset I could make the argument for this approach, but I have too few books to eliminate most of them."
   ]
  },
  {
   "cell_type": "markdown",
   "id": "569694b9-d0aa-40e9-9dd7-44c1cbaed67f",
   "metadata": {},
   "source": [
    "### User Rating Distribution ###\n",
    "Now I want to see if user ratings are distributed normally."
   ]
  },
  {
   "cell_type": "markdown",
   "id": "848a0cf4-e061-496a-8c85-17c953a1de0e",
   "metadata": {},
   "source": [
    "The above histograms show the distribution of user ratings in blue and the distribution of average ratings in orange. It is not surprising that the most popular users would give the most popular books a high rating generally. I am a little surprised that these users give out so many 5-star reviews. While it is very subjective, many Goodreads users adhere to the same rating scale, where a 5-star rating is reserved for the user's favorite books of all time. But I suppose that popular, well-reviewed books are exactly that for a reason. The median book in this dataset has an average rating of just over 4 stars. The distribution of average ratings has a longer tail on the left, which makes sense due to the cap at 5 stars. I'm a little surprised to see that some of the books on this list managed to be popular enough but also average fewer than 3 stars."
   ]
  },
  {
   "cell_type": "code",
   "execution_count": 33,
   "id": "98ccd6aa-666c-49e8-b98b-4f924c970964",
   "metadata": {},
   "outputs": [],
   "source": [
    "query = '''\n",
    "SELECT user_id, AVG(user_rating) as user_avg_rating\n",
    "FROM Ratings\n",
    "GROUP BY user_id\n",
    "'''\n",
    "user_avg_ratings_df = pd.read_sql_query(query, conn)"
   ]
  },
  {
   "cell_type": "code",
   "execution_count": 34,
   "id": "fa62c5e5-a8f9-4f91-93c1-2d42c588520e",
   "metadata": {},
   "outputs": [
    {
     "data": {
      "image/png": "[encoded data removed]",
      "text/plain": [
       "<Figure size 1000x600 with 1 Axes>"
      ]
     },
     "metadata": {},
     "output_type": "display_data"
    }
   ],
   "source": [
    "plt.figure(figsize=(10, 6))\n",
    "sns.histplot(user_avg_ratings_df['user_avg_rating'], kde = True, bins = 20)\n",
    "plt.title('Distribution of User Average Ratings')\n",
    "plt.xlabel('User Avg Rating')\n",
    "plt.ylabel('Frequency')\n",
    "plt.show()"
   ]
  },
  {
   "cell_type": "markdown",
   "id": "9ac86ca7-30a5-46c0-8e8f-fc2dde11006e",
   "metadata": {},
   "source": [
    "This histogram plot shows the distribution of each user's average rating. Some users clearly love the popular books, giving out an average of almost 5 stars."
   ]
  },
  {
   "cell_type": "markdown",
   "id": "63da3aa7-7b7b-4312-b945-08fe0d0d144e",
   "metadata": {},
   "source": [
    "### Low-Rater Investigation ###\n",
    "I'll take a look at a particular user who gives out very low scores on average."
   ]
  },
  {
   "cell_type": "code",
   "execution_count": 35,
   "id": "58e9e6d0-6fbc-4294-8303-185731ce25a6",
   "metadata": {},
   "outputs": [],
   "source": [
    "query = '''\n",
    "SELECT user_id, SUM(user_rating == 0) AS zero_star, SUM(user_rating == 1) AS one_star, SUM(user_rating == 2) AS two_star,\n",
    "SUM(user_rating == 3) AS three_star, SUM(user_rating == 4) AS four_star,\n",
    "SUM(user_rating == 5) AS five_star, \n",
    "AVG(user_rating) AS user_avg\n",
    "FROM Ratings r\n",
    "GROUP BY user_id\n",
    "HAVING AVG(user_rating) < 3\n",
    "'''\n",
    "\n",
    "low_ratings_df = pd.read_sql_query(query, conn)"
   ]
  },
  {
   "cell_type": "code",
   "execution_count": 36,
   "id": "212e7269-7cdf-4529-b16d-1b820ab7e386",
   "metadata": {},
   "outputs": [
    {
     "data": {
      "text/html": [
       "<div>\n",
       "<style scoped>\n",
       "    .dataframe tbody tr th:only-of-type {\n",
       "        vertical-align: middle;\n",
       "    }\n",
       "\n",
       "    .dataframe tbody tr th {\n",
       "        vertical-align: top;\n",
       "    }\n",
       "\n",
       "    .dataframe thead th {\n",
       "        text-align: right;\n",
       "    }\n",
       "</style>\n",
       "<table border=\"1\" class=\"dataframe\">\n",
       "  <thead>\n",
       "    <tr style=\"text-align: right;\">\n",
       "      <th></th>\n",
       "      <th>user_id</th>\n",
       "      <th>zero_star</th>\n",
       "      <th>one_star</th>\n",
       "      <th>two_star</th>\n",
       "      <th>three_star</th>\n",
       "      <th>four_star</th>\n",
       "      <th>five_star</th>\n",
       "      <th>user_avg</th>\n",
       "    </tr>\n",
       "  </thead>\n",
       "  <tbody>\n",
       "    <tr>\n",
       "      <th>0</th>\n",
       "      <td>3</td>\n",
       "      <td>0</td>\n",
       "      <td>47</td>\n",
       "      <td>24</td>\n",
       "      <td>18</td>\n",
       "      <td>1</td>\n",
       "      <td>1</td>\n",
       "      <td>1.736264</td>\n",
       "    </tr>\n",
       "    <tr>\n",
       "      <th>1</th>\n",
       "      <td>53</td>\n",
       "      <td>0</td>\n",
       "      <td>9</td>\n",
       "      <td>12</td>\n",
       "      <td>14</td>\n",
       "      <td>7</td>\n",
       "      <td>7</td>\n",
       "      <td>2.816327</td>\n",
       "    </tr>\n",
       "    <tr>\n",
       "      <th>2</th>\n",
       "      <td>68</td>\n",
       "      <td>0</td>\n",
       "      <td>0</td>\n",
       "      <td>17</td>\n",
       "      <td>21</td>\n",
       "      <td>10</td>\n",
       "      <td>3</td>\n",
       "      <td>2.980392</td>\n",
       "    </tr>\n",
       "    <tr>\n",
       "      <th>3</th>\n",
       "      <td>80</td>\n",
       "      <td>0</td>\n",
       "      <td>15</td>\n",
       "      <td>13</td>\n",
       "      <td>22</td>\n",
       "      <td>7</td>\n",
       "      <td>7</td>\n",
       "      <td>2.656250</td>\n",
       "    </tr>\n",
       "    <tr>\n",
       "      <th>4</th>\n",
       "      <td>91</td>\n",
       "      <td>0</td>\n",
       "      <td>13</td>\n",
       "      <td>14</td>\n",
       "      <td>16</td>\n",
       "      <td>14</td>\n",
       "      <td>5</td>\n",
       "      <td>2.741935</td>\n",
       "    </tr>\n",
       "    <tr>\n",
       "      <th>...</th>\n",
       "      <td>...</td>\n",
       "      <td>...</td>\n",
       "      <td>...</td>\n",
       "      <td>...</td>\n",
       "      <td>...</td>\n",
       "      <td>...</td>\n",
       "      <td>...</td>\n",
       "      <td>...</td>\n",
       "    </tr>\n",
       "    <tr>\n",
       "      <th>959</th>\n",
       "      <td>53119</td>\n",
       "      <td>0</td>\n",
       "      <td>1</td>\n",
       "      <td>33</td>\n",
       "      <td>66</td>\n",
       "      <td>21</td>\n",
       "      <td>4</td>\n",
       "      <td>2.952000</td>\n",
       "    </tr>\n",
       "    <tr>\n",
       "      <th>960</th>\n",
       "      <td>53136</td>\n",
       "      <td>0</td>\n",
       "      <td>6</td>\n",
       "      <td>28</td>\n",
       "      <td>24</td>\n",
       "      <td>10</td>\n",
       "      <td>0</td>\n",
       "      <td>2.558824</td>\n",
       "    </tr>\n",
       "    <tr>\n",
       "      <th>961</th>\n",
       "      <td>53257</td>\n",
       "      <td>0</td>\n",
       "      <td>19</td>\n",
       "      <td>17</td>\n",
       "      <td>10</td>\n",
       "      <td>14</td>\n",
       "      <td>3</td>\n",
       "      <td>2.444444</td>\n",
       "    </tr>\n",
       "    <tr>\n",
       "      <th>962</th>\n",
       "      <td>53406</td>\n",
       "      <td>0</td>\n",
       "      <td>17</td>\n",
       "      <td>14</td>\n",
       "      <td>33</td>\n",
       "      <td>21</td>\n",
       "      <td>13</td>\n",
       "      <td>2.989796</td>\n",
       "    </tr>\n",
       "    <tr>\n",
       "      <th>963</th>\n",
       "      <td>53411</td>\n",
       "      <td>0</td>\n",
       "      <td>14</td>\n",
       "      <td>42</td>\n",
       "      <td>37</td>\n",
       "      <td>27</td>\n",
       "      <td>15</td>\n",
       "      <td>2.903704</td>\n",
       "    </tr>\n",
       "  </tbody>\n",
       "</table>\n",
       "<p>964 rows × 8 columns</p>\n",
       "</div>"
      ],
      "text/plain": [
       "     user_id  zero_star  one_star  two_star  three_star  four_star  five_star  \\\n",
       "0          3          0        47        24          18          1          1   \n",
       "1         53          0         9        12          14          7          7   \n",
       "2         68          0         0        17          21         10          3   \n",
       "3         80          0        15        13          22          7          7   \n",
       "4         91          0        13        14          16         14          5   \n",
       "..       ...        ...       ...       ...         ...        ...        ...   \n",
       "959    53119          0         1        33          66         21          4   \n",
       "960    53136          0         6        28          24         10          0   \n",
       "961    53257          0        19        17          10         14          3   \n",
       "962    53406          0        17        14          33         21         13   \n",
       "963    53411          0        14        42          37         27         15   \n",
       "\n",
       "     user_avg  \n",
       "0    1.736264  \n",
       "1    2.816327  \n",
       "2    2.980392  \n",
       "3    2.656250  \n",
       "4    2.741935  \n",
       "..        ...  \n",
       "959  2.952000  \n",
       "960  2.558824  \n",
       "961  2.444444  \n",
       "962  2.989796  \n",
       "963  2.903704  \n",
       "\n",
       "[964 rows x 8 columns]"
      ]
     },
     "execution_count": 36,
     "metadata": {},
     "output_type": "execute_result"
    }
   ],
   "source": [
    "low_ratings_df"
   ]
  },
  {
   "cell_type": "code",
   "execution_count": 20,
   "id": "3b66880b-d8a2-404d-8db7-46906ab63722",
   "metadata": {},
   "outputs": [],
   "source": [
    "conn.close()"
   ]
  },
  {
   "cell_type": "markdown",
   "id": "eeecbaf0-cdd3-4269-9df8-eaea48a4401f",
   "metadata": {},
   "source": [
    "# Conclusion #\n",
    "This exploration has shown me that the most popular Goodreads users do not have a uniform system for rating books. Many of them use a similar scale : \n",
    "* 1 star - I did not like it\n",
    "* 2 stars - It was fine\n",
    "* 3 stars - I liked it\n",
    "* 4 stars - I really liked it\n",
    "\n",
    "Other users rate very differently. The model will have to account for these variations as it learns how to recommend books based on user similarity scores.."
   ]
  }
 ],
 "metadata": {
  "kernelspec": {
   "display_name": "Python 3 (ipykernel)",
   "language": "python",
   "name": "python3"
  },
  "language_info": {
   "codemirror_mode": {
    "name": "ipython",
    "version": 3
   },
   "file_extension": ".py",
   "mimetype": "text/x-python",
   "name": "python",
   "nbconvert_exporter": "python",
   "pygments_lexer": "ipython3",
   "version": "3.9.18"
  }
 },
 "nbformat": 4,
 "nbformat_minor": 5
}
