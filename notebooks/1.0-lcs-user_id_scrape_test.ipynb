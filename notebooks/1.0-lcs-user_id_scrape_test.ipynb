{
 "cells": [
  {
   "cell_type": "code",
   "execution_count": 1,
   "id": "70632fd0-253f-4a26-a93e-4523c4c22eeb",
   "metadata": {},
   "outputs": [],
   "source": [
    "# Selenium imports\n",
    "from selenium import webdriver\n",
    "from selenium.webdriver.common.by import By\n",
    "from selenium.webdriver.chrome.service import Service\n",
    "from selenium.webdriver.common.keys import Keys\n",
    "from selenium.common.exceptions import NoSuchElementException, TimeoutException\n",
    "from selenium.webdriver.support.ui import WebDriverWait\n",
    "from selenium.webdriver.support import expected_conditions as EC\n",
    "from selenium.webdriver.chrome.options import Options\n",
    "from selenium.common.exceptions import WebDriverException\n",
    "import time\n",
    "# Local webdriver functions\n",
    "from src.data.setup_webdriver import initialize_webdriver\n",
    "from src.data.goodreads_login import login\n",
    "\n",
    "# Goodreads User ID scraping functions\n",
    "from src.data.scrape_users import gather_user_ids\n",
    "from src.data.save_user_ids import save_raw_ids\n",
    "# Other imports\n",
    "from configparser import ConfigParser\n",
    "from src import log\n",
    "import time\n",
    "import os"
   ]
  },
  {
   "cell_type": "code",
   "execution_count": 2,
   "id": "d253563e-c2e3-400d-b2f6-bdfbf6ffe551",
   "metadata": {},
   "outputs": [],
   "source": [
    "chrome_tools_path = '../chrome_tools'"
   ]
  },
  {
   "cell_type": "code",
   "execution_count": 3,
   "id": "8c7c0e65-8993-42bd-a439-2c786e3b84fa",
   "metadata": {},
   "outputs": [
    {
     "name": "stderr",
     "output_type": "stream",
     "text": [
      "Successfully launched webdriver\n"
     ]
    }
   ],
   "source": [
    "# Configure driver\n",
    "driver = initialize_webdriver(chrome_tools_path)"
   ]
  },
  {
   "cell_type": "code",
   "execution_count": 4,
   "id": "585196c2-480f-44be-a17a-e150c656a20b",
   "metadata": {},
   "outputs": [],
   "source": [
    "# Find credentials\n",
    "config = ConfigParser()\n",
    "config.read('../src/data/config.ini')\n",
    "username = config.get('credentials', 'username')\n",
    "password = config.get('credentials', 'password')"
   ]
  },
  {
   "cell_type": "code",
   "execution_count": 5,
   "id": "3916de53-da12-42aa-9bf4-a105e3cc6683",
   "metadata": {},
   "outputs": [
    {
     "name": "stderr",
     "output_type": "stream",
     "text": [
      "Opened Goodreads successfully.\n",
      "Reached sign-in options page.\n",
      "Reached sign-in with email page.\n",
      "Login attempted.\n",
      "Login successful.\n"
     ]
    }
   ],
   "source": [
    "driver = login(driver, username, password)"
   ]
  },
  {
   "cell_type": "code",
   "execution_count": 6,
   "id": "b3299019-763c-4311-86c5-e5af7b54d7ab",
   "metadata": {},
   "outputs": [
    {
     "name": "stderr",
     "output_type": "stream",
     "text": [
      "Reached Top Librarians page.\n",
      "Finished scraping Top Librarians.\n",
      "Reached Top Readers page.\n",
      "Finished scraping Top Readers.\n",
      "Reached Popular Reviewers page.\n",
      "Finished scraping Popular Reviewers.\n",
      "Reached Top Reviewers page.\n",
      "Finished scraping Top Reviewers.\n",
      "Collected all user IDs.\n"
     ]
    }
   ],
   "source": [
    "user_ids = gather_user_ids(driver)"
   ]
  },
  {
   "cell_type": "code",
   "execution_count": 7,
   "id": "28c1c0b2-dcc4-4372-8eb3-269a05c24aa0",
   "metadata": {},
   "outputs": [],
   "source": [
    "# Path to directory for User IDs\n",
    "raw_data_path = os.path.join(os.pardir, 'data', 'raw')"
   ]
  },
  {
   "cell_type": "code",
   "execution_count": 8,
   "id": "dc17083c-27ec-4110-9852-f18c2241939d",
   "metadata": {},
   "outputs": [
    {
     "name": "stderr",
     "output_type": "stream",
     "text": [
      "Saved user IDs to ..\\data\\raw\\user_ids.pkl\n"
     ]
    }
   ],
   "source": [
    "save_raw_ids(user_ids, raw_data_path)"
   ]
  }
 ],
 "metadata": {
  "kernelspec": {
   "display_name": "Python 3 (ipykernel)",
   "language": "python",
   "name": "python3"
  },
  "language_info": {
   "codemirror_mode": {
    "name": "ipython",
    "version": 3
   },
   "file_extension": ".py",
   "mimetype": "text/x-python",
   "name": "python",
   "nbconvert_exporter": "python",
   "pygments_lexer": "ipython3",
   "version": "3.9.18"
  }
 },
 "nbformat": 4,
 "nbformat_minor": 5
}
