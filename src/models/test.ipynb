{
 "cells": [
  {
   "cell_type": "code",
   "execution_count": 1,
   "id": "a56ed85d-ebbb-457f-b6f8-d1f7bbcfcbac",
   "metadata": {
    "tags": []
   },
   "outputs": [],
   "source": [
    "import pandas as pd\n",
    "import numpy as np\n",
    "import os\n",
    "from tqdm import tqdm\n",
    "from collections import defaultdict\n",
    "from make_user_df import make_df\n",
    "from make_predictions import predict_5"
   ]
  },
  {
   "cell_type": "code",
   "execution_count": 2,
   "id": "82aaf68c-bf5f-49c0-9de4-f5d59fb1bae1",
   "metadata": {
    "tags": []
   },
   "outputs": [
    {
     "data": {
      "text/html": [
       "<div>\n",
       "<style scoped>\n",
       "    .dataframe tbody tr th:only-of-type {\n",
       "        vertical-align: middle;\n",
       "    }\n",
       "\n",
       "    .dataframe tbody tr th {\n",
       "        vertical-align: top;\n",
       "    }\n",
       "\n",
       "    .dataframe thead th {\n",
       "        text-align: right;\n",
       "    }\n",
       "</style>\n",
       "<table border=\"1\" class=\"dataframe\">\n",
       "  <thead>\n",
       "    <tr style=\"text-align: right;\">\n",
       "      <th></th>\n",
       "      <th>user_id</th>\n",
       "      <th>book_id</th>\n",
       "      <th>rating</th>\n",
       "    </tr>\n",
       "  </thead>\n",
       "  <tbody>\n",
       "    <tr>\n",
       "      <th>0</th>\n",
       "      <td>14</td>\n",
       "      <td>1</td>\n",
       "      <td>5</td>\n",
       "    </tr>\n",
       "    <tr>\n",
       "      <th>1</th>\n",
       "      <td>14</td>\n",
       "      <td>2</td>\n",
       "      <td>5</td>\n",
       "    </tr>\n",
       "    <tr>\n",
       "      <th>2</th>\n",
       "      <td>14</td>\n",
       "      <td>3</td>\n",
       "      <td>5</td>\n",
       "    </tr>\n",
       "    <tr>\n",
       "      <th>3</th>\n",
       "      <td>14</td>\n",
       "      <td>4</td>\n",
       "      <td>5</td>\n",
       "    </tr>\n",
       "    <tr>\n",
       "      <th>4</th>\n",
       "      <td>14</td>\n",
       "      <td>5</td>\n",
       "      <td>5</td>\n",
       "    </tr>\n",
       "  </tbody>\n",
       "</table>\n",
       "</div>"
      ],
      "text/plain": [
       "   user_id  book_id  rating\n",
       "0       14        1       5\n",
       "1       14        2       5\n",
       "2       14        3       5\n",
       "3       14        4       5\n",
       "4       14        5       5"
      ]
     },
     "execution_count": 2,
     "metadata": {},
     "output_type": "execute_result"
    }
   ],
   "source": [
    "book_ids = [1, 2, 3, 4, 5]\n",
    "user_df = make_df(book_ids)\n",
    "user_df"
   ]
  },
  {
   "cell_type": "code",
   "execution_count": 5,
   "id": "6f05aac1-c32b-4321-ab52-959df6f454d6",
   "metadata": {
    "tags": []
   },
   "outputs": [],
   "source": [
    "X_path = os.path.abspath(\n",
    "        os.path.join(\n",
    "            os.pardir,\n",
    "            os.pardir,\n",
    "            'data',\n",
    "            'processed',\n",
    "            'X.csv'\n",
    "            )\n",
    "        )"
   ]
  },
  {
   "cell_type": "code",
   "execution_count": 4,
   "id": "3ddecfa8-8a21-4039-ac62-3a199e9535a4",
   "metadata": {
    "tags": []
   },
   "outputs": [],
   "source": [
    "ratings_csv_path = os.path.abspath(os.path.join(\n",
    "    os.pardir,\n",
    "    os.pardir,\n",
    "    'data',\n",
    "    'external',\n",
    "    'ratings.csv'))"
   ]
  },
  {
   "cell_type": "code",
   "execution_count": 12,
   "id": "21c49edf-604b-4876-830e-2e5eda584744",
   "metadata": {
    "tags": []
   },
   "outputs": [
    {
     "data": {
      "text/plain": [
       "[6, 7, 8, 9, 10]"
      ]
     },
     "execution_count": 12,
     "metadata": {},
     "output_type": "execute_result"
    }
   ],
   "source": [
    "predict_5(user_df, X_path)"
   ]
  },
  {
   "cell_type": "code",
   "execution_count": 9,
   "id": "3f068c17-c27c-4dba-a407-588b8ffd97a4",
   "metadata": {
    "tags": []
   },
   "outputs": [
    {
     "ename": "MemoryError",
     "evalue": "",
     "output_type": "error",
     "traceback": [
      "\u001b[1;31m---------------------------------------------------------------------------\u001b[0m",
      "\u001b[1;31mMemoryError\u001b[0m                               Traceback (most recent call last)",
      "Cell \u001b[1;32mIn[9], line 1\u001b[0m\n\u001b[1;32m----> 1\u001b[0m \u001b[43mpredict_5\u001b[49m\u001b[43m(\u001b[49m\u001b[43muser_df\u001b[49m\u001b[43m,\u001b[49m\u001b[43m \u001b[49m\u001b[43mratings_csv_path\u001b[49m\u001b[43m)\u001b[49m\n",
      "File \u001b[1;32m~\\Documents\\Springboard\\Capstone_3\\src\\models\\make_predictions.py:42\u001b[0m, in \u001b[0;36mpredict_5\u001b[1;34m(user_df, X_path)\u001b[0m\n\u001b[0;32m     38\u001b[0m trainset \u001b[38;5;241m=\u001b[39m data\u001b[38;5;241m.\u001b[39mbuild_full_trainset()\n\u001b[0;32m     40\u001b[0m best_SVD\u001b[38;5;241m.\u001b[39mfit(trainset)\n\u001b[1;32m---> 42\u001b[0m testset \u001b[38;5;241m=\u001b[39m \u001b[43mtrainset\u001b[49m\u001b[38;5;241;43m.\u001b[39;49m\u001b[43mbuild_anti_testset\u001b[49m\u001b[43m(\u001b[49m\u001b[43m)\u001b[49m\n\u001b[0;32m     44\u001b[0m predictions \u001b[38;5;241m=\u001b[39m best_SVD\u001b[38;5;241m.\u001b[39mtest(testset)\n\u001b[0;32m     46\u001b[0m user_id \u001b[38;5;241m=\u001b[39m \u001b[38;5;241m14\u001b[39m\n",
      "File \u001b[1;32m~\\anaconda3\\envs\\Capstone3\\lib\\site-packages\\surprise\\trainset.py:237\u001b[0m, in \u001b[0;36mTrainset.build_anti_testset\u001b[1;34m(self, fill)\u001b[0m\n\u001b[0;32m    235\u001b[0m \u001b[38;5;28;01mfor\u001b[39;00m u \u001b[38;5;129;01min\u001b[39;00m \u001b[38;5;28mself\u001b[39m\u001b[38;5;241m.\u001b[39mall_users():\n\u001b[0;32m    236\u001b[0m     user_items \u001b[38;5;241m=\u001b[39m {j \u001b[38;5;28;01mfor\u001b[39;00m (j, _) \u001b[38;5;129;01min\u001b[39;00m \u001b[38;5;28mself\u001b[39m\u001b[38;5;241m.\u001b[39mur[u]}\n\u001b[1;32m--> 237\u001b[0m     anti_testset \u001b[38;5;241m+\u001b[39m\u001b[38;5;241m=\u001b[39m [\n\u001b[0;32m    238\u001b[0m         (\u001b[38;5;28mself\u001b[39m\u001b[38;5;241m.\u001b[39mto_raw_uid(u), \u001b[38;5;28mself\u001b[39m\u001b[38;5;241m.\u001b[39mto_raw_iid(i), fill)\n\u001b[0;32m    239\u001b[0m         \u001b[38;5;28;01mfor\u001b[39;00m i \u001b[38;5;129;01min\u001b[39;00m \u001b[38;5;28mself\u001b[39m\u001b[38;5;241m.\u001b[39mall_items()\n\u001b[0;32m    240\u001b[0m         \u001b[38;5;28;01mif\u001b[39;00m i \u001b[38;5;129;01mnot\u001b[39;00m \u001b[38;5;129;01min\u001b[39;00m user_items\n\u001b[0;32m    241\u001b[0m     ]\n\u001b[0;32m    242\u001b[0m \u001b[38;5;28;01mreturn\u001b[39;00m anti_testset\n",
      "\u001b[1;31mMemoryError\u001b[0m: "
     ]
    }
   ],
   "source": [
    "predict_5(user_df, ratings_csv_path)"
   ]
  },
  {
   "cell_type": "code",
   "execution_count": 5,
   "id": "87c70b0f-0d02-428b-8420-af0cadee3f45",
   "metadata": {
    "tags": []
   },
   "outputs": [],
   "source": [
    "ratings = pd.read_csv(ratings_csv_path)"
   ]
  },
  {
   "cell_type": "code",
   "execution_count": 7,
   "id": "05a151a2-5287-4ae6-bb00-e6215f4b4b5b",
   "metadata": {
    "tags": []
   },
   "outputs": [],
   "source": [
    "X = pd.read_csv(X_path)"
   ]
  },
  {
   "cell_type": "code",
   "execution_count": 8,
   "id": "b7b974fa-f4ca-4050-929e-3cda8df122bd",
   "metadata": {
    "tags": []
   },
   "outputs": [
    {
     "data": {
      "text/html": [
       "<div>\n",
       "<style scoped>\n",
       "    .dataframe tbody tr th:only-of-type {\n",
       "        vertical-align: middle;\n",
       "    }\n",
       "\n",
       "    .dataframe tbody tr th {\n",
       "        vertical-align: top;\n",
       "    }\n",
       "\n",
       "    .dataframe thead th {\n",
       "        text-align: right;\n",
       "    }\n",
       "</style>\n",
       "<table border=\"1\" class=\"dataframe\">\n",
       "  <thead>\n",
       "    <tr style=\"text-align: right;\">\n",
       "      <th></th>\n",
       "      <th>user_rating</th>\n",
       "    </tr>\n",
       "    <tr>\n",
       "      <th>book_id</th>\n",
       "      <th></th>\n",
       "    </tr>\n",
       "  </thead>\n",
       "  <tbody>\n",
       "    <tr>\n",
       "      <th>1</th>\n",
       "      <td>4.416667</td>\n",
       "    </tr>\n",
       "    <tr>\n",
       "      <th>2</th>\n",
       "      <td>4.250000</td>\n",
       "    </tr>\n",
       "    <tr>\n",
       "      <th>3</th>\n",
       "      <td>4.277372</td>\n",
       "    </tr>\n",
       "    <tr>\n",
       "      <th>4</th>\n",
       "      <td>4.400000</td>\n",
       "    </tr>\n",
       "    <tr>\n",
       "      <th>5</th>\n",
       "      <td>5.000000</td>\n",
       "    </tr>\n",
       "    <tr>\n",
       "      <th>6</th>\n",
       "      <td>4.122449</td>\n",
       "    </tr>\n",
       "    <tr>\n",
       "      <th>7</th>\n",
       "      <td>5.000000</td>\n",
       "    </tr>\n",
       "    <tr>\n",
       "      <th>8</th>\n",
       "      <td>3.692308</td>\n",
       "    </tr>\n",
       "    <tr>\n",
       "      <th>9</th>\n",
       "      <td>5.000000</td>\n",
       "    </tr>\n",
       "    <tr>\n",
       "      <th>10</th>\n",
       "      <td>3.673913</td>\n",
       "    </tr>\n",
       "    <tr>\n",
       "      <th>11</th>\n",
       "      <td>3.954023</td>\n",
       "    </tr>\n",
       "    <tr>\n",
       "      <th>12</th>\n",
       "      <td>4.291667</td>\n",
       "    </tr>\n",
       "    <tr>\n",
       "      <th>13</th>\n",
       "      <td>5.000000</td>\n",
       "    </tr>\n",
       "    <tr>\n",
       "      <th>14</th>\n",
       "      <td>5.000000</td>\n",
       "    </tr>\n",
       "    <tr>\n",
       "      <th>15</th>\n",
       "      <td>5.000000</td>\n",
       "    </tr>\n",
       "    <tr>\n",
       "      <th>16</th>\n",
       "      <td>4.156977</td>\n",
       "    </tr>\n",
       "    <tr>\n",
       "      <th>17</th>\n",
       "      <td>3.670213</td>\n",
       "    </tr>\n",
       "    <tr>\n",
       "      <th>18</th>\n",
       "      <td>3.921875</td>\n",
       "    </tr>\n",
       "    <tr>\n",
       "      <th>19</th>\n",
       "      <td>3.590909</td>\n",
       "    </tr>\n",
       "    <tr>\n",
       "      <th>20</th>\n",
       "      <td>3.833333</td>\n",
       "    </tr>\n",
       "  </tbody>\n",
       "</table>\n",
       "</div>"
      ],
      "text/plain": [
       "         user_rating\n",
       "book_id             \n",
       "1           4.416667\n",
       "2           4.250000\n",
       "3           4.277372\n",
       "4           4.400000\n",
       "5           5.000000\n",
       "6           4.122449\n",
       "7           5.000000\n",
       "8           3.692308\n",
       "9           5.000000\n",
       "10          3.673913\n",
       "11          3.954023\n",
       "12          4.291667\n",
       "13          5.000000\n",
       "14          5.000000\n",
       "15          5.000000\n",
       "16          4.156977\n",
       "17          3.670213\n",
       "18          3.921875\n",
       "19          3.590909\n",
       "20          3.833333"
      ]
     },
     "execution_count": 8,
     "metadata": {},
     "output_type": "execute_result"
    }
   ],
   "source": [
    "X[['book_id', 'user_rating']].groupby('book_id').agg('mean').head(20)"
   ]
  },
  {
   "cell_type": "code",
   "execution_count": null,
   "id": "42d58b05-e579-4a65-815d-bd4d45b06bd1",
   "metadata": {
    "tags": []
   },
   "outputs": [],
   "source": [
    "ratings[['book_id', 'user_rating']].groupby('book_id').agg('mean').head(20)"
   ]
  },
  {
   "cell_type": "code",
   "execution_count": 9,
   "id": "9a79b40f-736f-453c-8634-d59f0fce063d",
   "metadata": {
    "tags": []
   },
   "outputs": [
    {
     "data": {
      "text/plain": [
       "1"
      ]
     },
     "execution_count": 9,
     "metadata": {},
     "output_type": "execute_result"
    }
   ],
   "source": [
    "X['user_id'][0]"
   ]
  },
  {
   "cell_type": "code",
   "execution_count": 10,
   "id": "4045f0f6-ec9f-4967-8683-fba429891407",
   "metadata": {
    "tags": []
   },
   "outputs": [
    {
     "data": {
      "text/plain": [
       "array([        1,  31880928,   3472444,    269235,    122647,   2431437,\n",
       "        93149311,  31000456,   1413439,  16576124,   4176715,    870755,\n",
       "         1072582,  43377498,   5912889,   4216480,   5293536,    970632,\n",
       "        10336538,   1654645,  19925133,   2281988,  23102950,  24239256,\n",
       "         2602702,   3030788,  30604861,  32532051,   3672777,     68030,\n",
       "         7302570,   8114361,  10553671,     12404,   1323157,    237469,\n",
       "         2612079,   2745288,   3073485,   3098682,    430751,   4444249,\n",
       "        51221960,   6023393,  80115954,  25184600,   3990914,   4866450,\n",
       "         5496690,   7367573,  16219087,   7205303,   1019021,  11284813,\n",
       "         1381728,  14514998,   1720620,  28798380,   2933855,  33674708,\n",
       "         4391094,   4527753,   4717304,    541416,   7353428,  75860103,\n",
       "        10367112,   1162953,    186853,   1964146,   2294090,  23133809,\n",
       "        27402361,   2913816,   3081722,  32879029,   4929450,   5253785,\n",
       "         8734459,   1605591,   3427339,     50448,  44098542,    104823,\n",
       "         1053760,  13070326,   1380067,  14105531,  14457130,  16865002,\n",
       "        25388909,   3977017,   4642710,   5210022,   5465462,   5626931,\n",
       "        59802997,    607804,   6678151,    721595,    864675,   9303625,\n",
       "         1371882,  19977507,  44770518,  53555116,   8906222,  91747222,\n",
       "        23244211,   4379514,   4530043,   5574208,   5651679,  25683251,\n",
       "       141080755,   1526851,  16731747,  18104163,    251943,   3734915,\n",
       "         4365117,   4514828,   4851964,   5860019,   6089955,  66670237,\n",
       "        71848701,  88247398,   9098678,   1005037,  12221088,   1806073,\n",
       "        24337665,    279256,   3089655,   4326315,   7365405, 152460399,\n",
       "        16254355,   2225246,   1232712,   4100763,  10915830,  11183856,\n",
       "        18384692,  11745914,    405390,    974210,  13341540,  22819383,\n",
       "        25375513,  33273494,  44673856,    106692,    111921,  38946743,\n",
       "         4131979,  68029956,  25894509,   3078602,  25353295,   3498889,\n",
       "         3920693,  44279580,   7668522,     83180, 106638288,  13235258,\n",
       "         2562832,  52710209,   1036893,  23954351,  52677643,   9684061,\n",
       "           45618,  11931807,  10160415,  73231193,   2190064,   6868829,\n",
       "         7377888,   2164884,   1570669,   5451550,  30978160,  32340179,\n",
       "         3849903,   8512869,     83582, 109778650,   2574606,   3258178,\n",
       "        21651564,  58774673,   1601382,  46147310,  10717098,  19521241,\n",
       "        19871593,   5126172,  16060275,  87796500,  33939264,   4159922,\n",
       "         4391611,  11626803,  15335689,  51462925,  10682103,  46068563,\n",
       "         5872506,   3023796,  36817401,  52545435,   9916227,    131922,\n",
       "        11411702,   4125660,  32726092,  16384209,   8432851,  22888935,\n",
       "         3571171,    885584, 100745367, 104868490,  40688075,  77805119,\n",
       "        60886838,  19714462,  73494872,  69013291,  71205929,  41715705,\n",
       "        73327119,    922495,  11757728,  12618229,   9472704,   4598713,\n",
       "         1669197,   2657664,   1151637,  88016767,   8091367,  32730479,\n",
       "         2026178,   5498948,   6743601,   3850379,  17755575,   4685500,\n",
       "        16056426,   3734681,   4034227,  28967089,   1429160,   1892441,\n",
       "        21960265,  18085807,  46859338,  26464437,  40957030,  14302918,\n",
       "        26177107,  13631526,   1179650,   1222379,  11333561,   4646128,\n",
       "        18605210, 104503042,   1125613,  18244539,  52537298,   1113032,\n",
       "         1362506,  23385697,    914795,   1849639,  11237615,   7110209,\n",
       "       124033258,  70651830,  98537597,   6873636,  14701283,  25556913,\n",
       "        68646591,  63674323,  60147675,  81854535], dtype=int64)"
      ]
     },
     "execution_count": 10,
     "metadata": {},
     "output_type": "execute_result"
    }
   ],
   "source": [
    "X['user_id'].unique()"
   ]
  }
 ],
 "metadata": {
  "kernelspec": {
   "display_name": "Python 3 (ipykernel)",
   "language": "python",
   "name": "python3"
  },
  "language_info": {
   "codemirror_mode": {
    "name": "ipython",
    "version": 3
   },
   "file_extension": ".py",
   "mimetype": "text/x-python",
   "name": "python",
   "nbconvert_exporter": "python",
   "pygments_lexer": "ipython3",
   "version": "3.9.18"
  }
 },
 "nbformat": 4,
 "nbformat_minor": 5
}
