{
 "cells": [
  {
   "cell_type": "code",
   "execution_count": 1,
   "id": "a56ed85d-ebbb-457f-b6f8-d1f7bbcfcbac",
   "metadata": {
    "tags": []
   },
   "outputs": [],
   "source": [
    "import pandas as pd\n",
    "import numpy as np\n",
    "import os\n",
    "from tqdm import tqdm\n",
    "from collections import defaultdict\n",
    "from make_user_df import make_df\n",
    "from make_predictions import predict_5"
   ]
  },
  {
   "cell_type": "code",
   "execution_count": 8,
   "id": "82aaf68c-bf5f-49c0-9de4-f5d59fb1bae1",
   "metadata": {
    "tags": []
   },
   "outputs": [
    {
     "data": {
      "text/html": [
       "<div>\n",
       "<style scoped>\n",
       "    .dataframe tbody tr th:only-of-type {\n",
       "        vertical-align: middle;\n",
       "    }\n",
       "\n",
       "    .dataframe tbody tr th {\n",
       "        vertical-align: top;\n",
       "    }\n",
       "\n",
       "    .dataframe thead th {\n",
       "        text-align: right;\n",
       "    }\n",
       "</style>\n",
       "<table border=\"1\" class=\"dataframe\">\n",
       "  <thead>\n",
       "    <tr style=\"text-align: right;\">\n",
       "      <th></th>\n",
       "      <th>user_id</th>\n",
       "      <th>book_id</th>\n",
       "      <th>rating</th>\n",
       "    </tr>\n",
       "  </thead>\n",
       "  <tbody>\n",
       "    <tr>\n",
       "      <th>0</th>\n",
       "      <td>14</td>\n",
       "      <td>5656</td>\n",
       "      <td>5</td>\n",
       "    </tr>\n",
       "    <tr>\n",
       "      <th>1</th>\n",
       "      <td>14</td>\n",
       "      <td>2108</td>\n",
       "      <td>5</td>\n",
       "    </tr>\n",
       "    <tr>\n",
       "      <th>2</th>\n",
       "      <td>14</td>\n",
       "      <td>19965</td>\n",
       "      <td>5</td>\n",
       "    </tr>\n",
       "    <tr>\n",
       "      <th>3</th>\n",
       "      <td>14</td>\n",
       "      <td>19930</td>\n",
       "      <td>5</td>\n",
       "    </tr>\n",
       "  </tbody>\n",
       "</table>\n",
       "</div>"
      ],
      "text/plain": [
       "   user_id  book_id  rating\n",
       "0       14     5656       5\n",
       "1       14     2108       5\n",
       "2       14    19965       5\n",
       "3       14    19930       5"
      ]
     },
     "execution_count": 8,
     "metadata": {},
     "output_type": "execute_result"
    }
   ],
   "source": [
    "book_ids = [5656, 2108, 19965, 19930]\n",
    "user_df = make_df(book_ids)\n",
    "user_df"
   ]
  },
  {
   "cell_type": "code",
   "execution_count": 9,
   "id": "21c49edf-604b-4876-830e-2e5eda584744",
   "metadata": {
    "tags": []
   },
   "outputs": [
    {
     "data": {
      "text/plain": [
       "[1, 2, 3, 4, 5]"
      ]
     },
     "execution_count": 9,
     "metadata": {},
     "output_type": "execute_result"
    }
   ],
   "source": [
    "predict_5(user_df)"
   ]
  },
  {
   "cell_type": "code",
   "execution_count": 12,
   "id": "6f05aac1-c32b-4321-ab52-959df6f454d6",
   "metadata": {
    "tags": []
   },
   "outputs": [],
   "source": [
    "X_path = os.path.abspath(\n",
    "        os.path.join(\n",
    "            os.pardir,\n",
    "            os.pardir,\n",
    "            'data',\n",
    "            'processed',\n",
    "            'X.csv'\n",
    "            )\n",
    "        )"
   ]
  },
  {
   "cell_type": "code",
   "execution_count": 13,
   "id": "05a151a2-5287-4ae6-bb00-e6215f4b4b5b",
   "metadata": {
    "tags": []
   },
   "outputs": [],
   "source": [
    "X = pd.read_csv(X_path)"
   ]
  },
  {
   "cell_type": "code",
   "execution_count": 14,
   "id": "b7b974fa-f4ca-4050-929e-3cda8df122bd",
   "metadata": {
    "tags": []
   },
   "outputs": [
    {
     "data": {
      "text/html": [
       "<div>\n",
       "<style scoped>\n",
       "    .dataframe tbody tr th:only-of-type {\n",
       "        vertical-align: middle;\n",
       "    }\n",
       "\n",
       "    .dataframe tbody tr th {\n",
       "        vertical-align: top;\n",
       "    }\n",
       "\n",
       "    .dataframe thead th {\n",
       "        text-align: right;\n",
       "    }\n",
       "</style>\n",
       "<table border=\"1\" class=\"dataframe\">\n",
       "  <thead>\n",
       "    <tr style=\"text-align: right;\">\n",
       "      <th></th>\n",
       "      <th>user_rating</th>\n",
       "    </tr>\n",
       "    <tr>\n",
       "      <th>book_id</th>\n",
       "      <th></th>\n",
       "    </tr>\n",
       "  </thead>\n",
       "  <tbody>\n",
       "    <tr>\n",
       "      <th>1</th>\n",
       "      <td>5.000000</td>\n",
       "    </tr>\n",
       "    <tr>\n",
       "      <th>2</th>\n",
       "      <td>3.857143</td>\n",
       "    </tr>\n",
       "    <tr>\n",
       "      <th>3</th>\n",
       "      <td>5.000000</td>\n",
       "    </tr>\n",
       "    <tr>\n",
       "      <th>4</th>\n",
       "      <td>4.416667</td>\n",
       "    </tr>\n",
       "    <tr>\n",
       "      <th>5</th>\n",
       "      <td>4.384615</td>\n",
       "    </tr>\n",
       "    <tr>\n",
       "      <th>6</th>\n",
       "      <td>4.117647</td>\n",
       "    </tr>\n",
       "    <tr>\n",
       "      <th>7</th>\n",
       "      <td>4.250000</td>\n",
       "    </tr>\n",
       "    <tr>\n",
       "      <th>8</th>\n",
       "      <td>4.500000</td>\n",
       "    </tr>\n",
       "    <tr>\n",
       "      <th>9</th>\n",
       "      <td>4.266055</td>\n",
       "    </tr>\n",
       "    <tr>\n",
       "      <th>10</th>\n",
       "      <td>3.818182</td>\n",
       "    </tr>\n",
       "    <tr>\n",
       "      <th>11</th>\n",
       "      <td>4.000000</td>\n",
       "    </tr>\n",
       "    <tr>\n",
       "      <th>12</th>\n",
       "      <td>4.256410</td>\n",
       "    </tr>\n",
       "    <tr>\n",
       "      <th>13</th>\n",
       "      <td>4.243590</td>\n",
       "    </tr>\n",
       "    <tr>\n",
       "      <th>14</th>\n",
       "      <td>5.000000</td>\n",
       "    </tr>\n",
       "    <tr>\n",
       "      <th>15</th>\n",
       "      <td>4.395062</td>\n",
       "    </tr>\n",
       "    <tr>\n",
       "      <th>16</th>\n",
       "      <td>4.125000</td>\n",
       "    </tr>\n",
       "    <tr>\n",
       "      <th>17</th>\n",
       "      <td>5.000000</td>\n",
       "    </tr>\n",
       "    <tr>\n",
       "      <th>18</th>\n",
       "      <td>4.064516</td>\n",
       "    </tr>\n",
       "    <tr>\n",
       "      <th>19</th>\n",
       "      <td>4.076923</td>\n",
       "    </tr>\n",
       "    <tr>\n",
       "      <th>20</th>\n",
       "      <td>4.350000</td>\n",
       "    </tr>\n",
       "  </tbody>\n",
       "</table>\n",
       "</div>"
      ],
      "text/plain": [
       "         user_rating\n",
       "book_id             \n",
       "1           5.000000\n",
       "2           3.857143\n",
       "3           5.000000\n",
       "4           4.416667\n",
       "5           4.384615\n",
       "6           4.117647\n",
       "7           4.250000\n",
       "8           4.500000\n",
       "9           4.266055\n",
       "10          3.818182\n",
       "11          4.000000\n",
       "12          4.256410\n",
       "13          4.243590\n",
       "14          5.000000\n",
       "15          4.395062\n",
       "16          4.125000\n",
       "17          5.000000\n",
       "18          4.064516\n",
       "19          4.076923\n",
       "20          4.350000"
      ]
     },
     "execution_count": 14,
     "metadata": {},
     "output_type": "execute_result"
    }
   ],
   "source": [
    "X[['book_id', 'user_rating']].groupby('book_id').agg('mean').head(20)"
   ]
  },
  {
   "cell_type": "code",
   "execution_count": 15,
   "id": "9a79b40f-736f-453c-8634-d59f0fce063d",
   "metadata": {
    "tags": []
   },
   "outputs": [
    {
     "data": {
      "text/plain": [
       "1"
      ]
     },
     "execution_count": 15,
     "metadata": {},
     "output_type": "execute_result"
    }
   ],
   "source": [
    "X['user_id'][0]"
   ]
  },
  {
   "cell_type": "code",
   "execution_count": 16,
   "id": "4045f0f6-ec9f-4967-8683-fba429891407",
   "metadata": {
    "tags": []
   },
   "outputs": [
    {
     "data": {
      "text/plain": [
       "array([        1,  10553671,    111921,   2294090,   2431437,  25184600,\n",
       "         2612079,  28798380,   3078602,   4717304,   8114361,    870755,\n",
       "         8734459,    970632,    122647,   1413439,  16576124,    269235,\n",
       "        31000456,  31880928,   3472444,   4176715,  93149311,   1072582,\n",
       "         1605591,  18104163,    237469,   4216480,  43377498,  10336538,\n",
       "        11745914,  22819383,   3977017,   5293536,   5912889,   7205303,\n",
       "         1053760,   4365117,   6089955,   1005037,  10160415,   1019021,\n",
       "        10367112,    104823,   1125613,  11284813,   1162953,  13070326,\n",
       "         1323157,   1371882,   1380067,   1381728,  14105531, 141080755,\n",
       "        14457130,  14514998, 152460399,   1526851,  16254355,   1654645,\n",
       "         1669197,  16731747,   1720620,   1806073,    186853,   1964146,\n",
       "        19977507,   2281988,  23102950,  23244211,  24239256,  24337665,\n",
       "          251943,  25388909,   2602702,  27402361,    279256,   2913816,\n",
       "         2933855,   3030788,  30604861,   3073485,   3081722,   3089655,\n",
       "         3098682,  32879029,   3427339,   3672777,   3990914,    430751,\n",
       "         4379514,   4391094,   4444249,  44770518,   4514828,   4527753,\n",
       "        46068563,   4642710,   4851964,   4866450,   4929450,   5210022,\n",
       "         5253785,  53555116,    541416,   5496690,   5574208,   5626931,\n",
       "         5651679,   5860019,   6023393,    607804,   6678151,     68030,\n",
       "        71848701,    721595,   7367573,  80115954,    864675,  88247398,\n",
       "         8906222,  91747222,   9303625,   1151637,   3920693,  10915830,\n",
       "        11183856,   2164884,  25683251,     83582,   5465462,   2574606,\n",
       "        52545435,  10682103,   1113032,  25375513,   3571171,   4685500,\n",
       "          922495,  11757728,  11931807,   1232712,  12618229,    131922,\n",
       "         3849903,   7353428,   9472704,    106692,  22888935,    405390,\n",
       "         1036893, 106638288,  33273494,   5872506,  13235258,  28967089,\n",
       "        44673856,   7668522,   9916227,  25353295,   4125660,   4159922,\n",
       "         9684061,  16219087,   1849639,   2190064,   2745288,  30978160,\n",
       "        44098542,   3850379, 100745367,  69013291,  13631526,   2657664,\n",
       "        71205929, 104868490,  60886838,  40688075,  77805119,  70651830,\n",
       "        73494872,  26464437,  19714462,  13341540, 104503042,   4598713,\n",
       "           12404,   1222379,  19521241,  23954351,   3734681,  16060275,\n",
       "         8432851,  25894509,     83180,  15335689,   1570669,  11626803,\n",
       "       109778650,   3498889,   2225246,  52537298,   6868829,  18085807,\n",
       "        38946743,   4391611,   1892441,  10717098,  17755575,   5498948,\n",
       "         2562832,  36817401,  52710209,  16384209,  14302918,  32340179,\n",
       "         6743601,   2026178,  68646591,  25556913,  18244539,  60147675,\n",
       "        11237615,  98537597,  18605210,  46147310,  32532051,   1601382,\n",
       "           50448,  75860103,  18384692,   4100763,  23385697,    914795,\n",
       "        26177107,  11333561,  52677643,  16056426,    974210,  32730479,\n",
       "        41715705,   7110209,  32726092,   7365405,  88016767, 124033258,\n",
       "         4646128,   4034227,   7377888,   4326315,  11411702,   5126172,\n",
       "        12221088,  51221960,  66670237,  44279580,   1179650,   8091367,\n",
       "        46859338,   4131979,   3258178,   4530043,   5451550,   1362506,\n",
       "        21960265,   6873636,   1429160,  16865002,  33674708,  14701283,\n",
       "        63674323,   3734915,  40957030,  19871593,  19925133,  21651564,\n",
       "        51462925,  23133809,  68029956,  81854535,   3023796,  33939264,\n",
       "         9098678,   8512869,  58774673,  59802997,  87796500,   7302570,\n",
       "        73231193,    885584], dtype=int64)"
      ]
     },
     "execution_count": 16,
     "metadata": {},
     "output_type": "execute_result"
    }
   ],
   "source": [
    "X['user_id'].unique()"
   ]
  }
 ],
 "metadata": {
  "kernelspec": {
   "display_name": "Python 3 (ipykernel)",
   "language": "python",
   "name": "python3"
  },
  "language_info": {
   "codemirror_mode": {
    "name": "ipython",
    "version": 3
   },
   "file_extension": ".py",
   "mimetype": "text/x-python",
   "name": "python",
   "nbconvert_exporter": "python",
   "pygments_lexer": "ipython3",
   "version": "3.9.18"
  }
 },
 "nbformat": 4,
 "nbformat_minor": 5
}
